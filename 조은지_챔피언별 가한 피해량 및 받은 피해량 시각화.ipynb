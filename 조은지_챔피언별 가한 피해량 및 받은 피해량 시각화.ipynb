{
 "cells": [
  {
   "cell_type": "code",
   "execution_count": 34,
   "id": "99857501",
   "metadata": {},
   "outputs": [],
   "source": [
    "import pandas as pd\n",
    "import my_utils_cho as mu\n",
    "import requests\n",
    "import matplotlib.pyplot as plt\n",
    "\n",
    "\n",
    "from tqdm import tqdm\n",
    "tqdm.pandas()\n",
    "import my_def_cho as md\n",
    "import plotly\n",
    "import plotly.express as px\n",
    "import time\n",
    "\n",
    "from matplotlib import font_manager, rc\n",
    "font_path = 'C:/Windows/Fonts/NanumGothic.ttf'\n",
    "font = font_manager.FontProperties(fname=font_path).get_name()\n",
    "rc('font', family=font) #윈도우"
   ]
  },
  {
   "cell_type": "code",
   "execution_count": 2,
   "id": "872f55e6",
   "metadata": {},
   "outputs": [],
   "source": [
    "api_key = 'RGAPI-474558e0-2044-46aa-b0b7-ef634af1aa9b'"
   ]
  },
  {
   "cell_type": "code",
   "execution_count": 3,
   "id": "61f62755",
   "metadata": {},
   "outputs": [],
   "source": [
    "md.set_api_key(api_key)"
   ]
  },
  {
   "cell_type": "code",
   "execution_count": 4,
   "id": "17156bad",
   "metadata": {
    "scrolled": true
   },
   "outputs": [
    {
     "name": "stderr",
     "output_type": "stream",
     "text": [
      "100%|████████████████████████████████████████████████████████████████████████████████████| 4/4 [00:01<00:00,  2.73it/s]\n",
      "100%|████████████████████████████████████████████████████████████████████████████████████| 5/5 [00:01<00:00,  3.47it/s]\n",
      "100%|████████████████████████████████████████████████████████████████████████████████████| 3/3 [00:02<00:00,  1.01it/s]\n"
     ]
    }
   ],
   "source": [
    "df = md.get_rawData('BRONZE')"
   ]
  },
  {
   "cell_type": "code",
   "execution_count": 5,
   "id": "910b28ac",
   "metadata": {},
   "outputs": [
    {
     "data": {
      "text/html": [
       "<div>\n",
       "<style scoped>\n",
       "    .dataframe tbody tr th:only-of-type {\n",
       "        vertical-align: middle;\n",
       "    }\n",
       "\n",
       "    .dataframe tbody tr th {\n",
       "        vertical-align: top;\n",
       "    }\n",
       "\n",
       "    .dataframe thead th {\n",
       "        text-align: right;\n",
       "    }\n",
       "</style>\n",
       "<table border=\"1\" class=\"dataframe\">\n",
       "  <thead>\n",
       "    <tr style=\"text-align: right;\">\n",
       "      <th></th>\n",
       "      <th>match_id</th>\n",
       "      <th>matches</th>\n",
       "      <th>timeline</th>\n",
       "    </tr>\n",
       "  </thead>\n",
       "  <tbody>\n",
       "    <tr>\n",
       "      <th>0</th>\n",
       "      <td>KR_6006026546</td>\n",
       "      <td>{'metadata': {'dataVersion': '2', 'matchId': '...</td>\n",
       "      <td>{'metadata': {'dataVersion': '2', 'matchId': '...</td>\n",
       "    </tr>\n",
       "    <tr>\n",
       "      <th>1</th>\n",
       "      <td>KR_6006034098</td>\n",
       "      <td>{'metadata': {'dataVersion': '2', 'matchId': '...</td>\n",
       "      <td>{'metadata': {'dataVersion': '2', 'matchId': '...</td>\n",
       "    </tr>\n",
       "    <tr>\n",
       "      <th>2</th>\n",
       "      <td>KR_6005984176</td>\n",
       "      <td>{'metadata': {'dataVersion': '2', 'matchId': '...</td>\n",
       "      <td>{'metadata': {'dataVersion': '2', 'matchId': '...</td>\n",
       "    </tr>\n",
       "  </tbody>\n",
       "</table>\n",
       "</div>"
      ],
      "text/plain": [
       "        match_id                                            matches  \\\n",
       "0  KR_6006026546  {'metadata': {'dataVersion': '2', 'matchId': '...   \n",
       "1  KR_6006034098  {'metadata': {'dataVersion': '2', 'matchId': '...   \n",
       "2  KR_6005984176  {'metadata': {'dataVersion': '2', 'matchId': '...   \n",
       "\n",
       "                                            timeline  \n",
       "0  {'metadata': {'dataVersion': '2', 'matchId': '...  \n",
       "1  {'metadata': {'dataVersion': '2', 'matchId': '...  \n",
       "2  {'metadata': {'dataVersion': '2', 'matchId': '...  "
      ]
     },
     "execution_count": 5,
     "metadata": {},
     "output_type": "execute_result"
    }
   ],
   "source": [
    "df"
   ]
  },
  {
   "cell_type": "code",
   "execution_count": 6,
   "id": "b3682e5a",
   "metadata": {},
   "outputs": [
    {
     "name": "stderr",
     "output_type": "stream",
     "text": [
      "100%|███████████████████████████████████████████████████████████████████████████████████| 3/3 [00:00<00:00, 501.33it/s]"
     ]
    },
    {
     "name": "stdout",
     "output_type": "stream",
     "text": [
      "complete! the number of df is 3\n"
     ]
    },
    {
     "name": "stderr",
     "output_type": "stream",
     "text": [
      "\n"
     ]
    }
   ],
   "source": [
    "all_df = md.get_dataframe_from_game_data(df)"
   ]
  },
  {
   "cell_type": "code",
   "execution_count": 7,
   "id": "587f64bd",
   "metadata": {
    "scrolled": true
   },
   "outputs": [
    {
     "data": {
      "text/html": [
       "<div>\n",
       "<style scoped>\n",
       "    .dataframe tbody tr th:only-of-type {\n",
       "        vertical-align: middle;\n",
       "    }\n",
       "\n",
       "    .dataframe tbody tr th {\n",
       "        vertical-align: top;\n",
       "    }\n",
       "\n",
       "    .dataframe thead th {\n",
       "        text-align: right;\n",
       "    }\n",
       "</style>\n",
       "<table border=\"1\" class=\"dataframe\">\n",
       "  <thead>\n",
       "    <tr style=\"text-align: right;\">\n",
       "      <th></th>\n",
       "      <th>gameId</th>\n",
       "      <th>gameDuration</th>\n",
       "      <th>gameVersion</th>\n",
       "      <th>summonerName</th>\n",
       "      <th>summonerLevel</th>\n",
       "      <th>participantId</th>\n",
       "      <th>championName</th>\n",
       "      <th>champExperience</th>\n",
       "      <th>teamPosition</th>\n",
       "      <th>teamId</th>\n",
       "      <th>...</th>\n",
       "      <th>g_16</th>\n",
       "      <th>g_17</th>\n",
       "      <th>g_18</th>\n",
       "      <th>g_19</th>\n",
       "      <th>g_20</th>\n",
       "      <th>g_21</th>\n",
       "      <th>g_22</th>\n",
       "      <th>g_23</th>\n",
       "      <th>g_24</th>\n",
       "      <th>g_25</th>\n",
       "    </tr>\n",
       "  </thead>\n",
       "  <tbody>\n",
       "    <tr>\n",
       "      <th>0</th>\n",
       "      <td>6006034098</td>\n",
       "      <td>2134</td>\n",
       "      <td>12.12.450.4196</td>\n",
       "      <td>MSG중독자</td>\n",
       "      <td>277</td>\n",
       "      <td>1</td>\n",
       "      <td>Gnar</td>\n",
       "      <td>17679</td>\n",
       "      <td>TOP</td>\n",
       "      <td>100</td>\n",
       "      <td>...</td>\n",
       "      <td>6378</td>\n",
       "      <td>7566</td>\n",
       "      <td>8315</td>\n",
       "      <td>8516</td>\n",
       "      <td>9414</td>\n",
       "      <td>9549</td>\n",
       "      <td>10028</td>\n",
       "      <td>10150</td>\n",
       "      <td>10467</td>\n",
       "      <td>10653</td>\n",
       "    </tr>\n",
       "    <tr>\n",
       "      <th>1</th>\n",
       "      <td>6006034098</td>\n",
       "      <td>2134</td>\n",
       "      <td>12.12.450.4196</td>\n",
       "      <td>우주류 검성</td>\n",
       "      <td>323</td>\n",
       "      <td>2</td>\n",
       "      <td>Kindred</td>\n",
       "      <td>15648</td>\n",
       "      <td>JUNGLE</td>\n",
       "      <td>100</td>\n",
       "      <td>...</td>\n",
       "      <td>5887</td>\n",
       "      <td>6232</td>\n",
       "      <td>6355</td>\n",
       "      <td>6762</td>\n",
       "      <td>7722</td>\n",
       "      <td>7968</td>\n",
       "      <td>8447</td>\n",
       "      <td>8570</td>\n",
       "      <td>8787</td>\n",
       "      <td>9149</td>\n",
       "    </tr>\n",
       "    <tr>\n",
       "      <th>2</th>\n",
       "      <td>6006034098</td>\n",
       "      <td>2134</td>\n",
       "      <td>12.12.450.4196</td>\n",
       "      <td>BorosRe0</td>\n",
       "      <td>77</td>\n",
       "      <td>3</td>\n",
       "      <td>Zeri</td>\n",
       "      <td>21745</td>\n",
       "      <td>MIDDLE</td>\n",
       "      <td>100</td>\n",
       "      <td>...</td>\n",
       "      <td>5200</td>\n",
       "      <td>5465</td>\n",
       "      <td>5778</td>\n",
       "      <td>6110</td>\n",
       "      <td>6491</td>\n",
       "      <td>6823</td>\n",
       "      <td>7025</td>\n",
       "      <td>7364</td>\n",
       "      <td>7629</td>\n",
       "      <td>7930</td>\n",
       "    </tr>\n",
       "    <tr>\n",
       "      <th>3</th>\n",
       "      <td>6006034098</td>\n",
       "      <td>2134</td>\n",
       "      <td>12.12.450.4196</td>\n",
       "      <td>화장실쇠뚜껑</td>\n",
       "      <td>217</td>\n",
       "      <td>4</td>\n",
       "      <td>Vayne</td>\n",
       "      <td>14440</td>\n",
       "      <td>BOTTOM</td>\n",
       "      <td>100</td>\n",
       "      <td>...</td>\n",
       "      <td>4315</td>\n",
       "      <td>4521</td>\n",
       "      <td>4790</td>\n",
       "      <td>4913</td>\n",
       "      <td>5204</td>\n",
       "      <td>5379</td>\n",
       "      <td>6293</td>\n",
       "      <td>6479</td>\n",
       "      <td>6880</td>\n",
       "      <td>7093</td>\n",
       "    </tr>\n",
       "    <tr>\n",
       "      <th>4</th>\n",
       "      <td>6006034098</td>\n",
       "      <td>2134</td>\n",
       "      <td>12.12.450.4196</td>\n",
       "      <td>자연1</td>\n",
       "      <td>218</td>\n",
       "      <td>5</td>\n",
       "      <td>Thresh</td>\n",
       "      <td>12848</td>\n",
       "      <td>UTILITY</td>\n",
       "      <td>100</td>\n",
       "      <td>...</td>\n",
       "      <td>4016</td>\n",
       "      <td>4266</td>\n",
       "      <td>4470</td>\n",
       "      <td>4781</td>\n",
       "      <td>4969</td>\n",
       "      <td>5110</td>\n",
       "      <td>5350</td>\n",
       "      <td>5525</td>\n",
       "      <td>5666</td>\n",
       "      <td>5836</td>\n",
       "    </tr>\n",
       "    <tr>\n",
       "      <th>5</th>\n",
       "      <td>6006034098</td>\n",
       "      <td>2134</td>\n",
       "      <td>12.12.450.4196</td>\n",
       "      <td>010 3006 7619</td>\n",
       "      <td>215</td>\n",
       "      <td>6</td>\n",
       "      <td>Malphite</td>\n",
       "      <td>16322</td>\n",
       "      <td>TOP</td>\n",
       "      <td>200</td>\n",
       "      <td>...</td>\n",
       "      <td>5634</td>\n",
       "      <td>6224</td>\n",
       "      <td>6663</td>\n",
       "      <td>6825</td>\n",
       "      <td>6948</td>\n",
       "      <td>7311</td>\n",
       "      <td>7483</td>\n",
       "      <td>7718</td>\n",
       "      <td>8284</td>\n",
       "      <td>8466</td>\n",
       "    </tr>\n",
       "    <tr>\n",
       "      <th>6</th>\n",
       "      <td>6006034098</td>\n",
       "      <td>2134</td>\n",
       "      <td>12.12.450.4196</td>\n",
       "      <td>선우 김선달</td>\n",
       "      <td>221</td>\n",
       "      <td>7</td>\n",
       "      <td>Viego</td>\n",
       "      <td>17915</td>\n",
       "      <td>JUNGLE</td>\n",
       "      <td>200</td>\n",
       "      <td>...</td>\n",
       "      <td>6501</td>\n",
       "      <td>6874</td>\n",
       "      <td>7173</td>\n",
       "      <td>7451</td>\n",
       "      <td>7663</td>\n",
       "      <td>8821</td>\n",
       "      <td>9224</td>\n",
       "      <td>9918</td>\n",
       "      <td>10165</td>\n",
       "      <td>10603</td>\n",
       "    </tr>\n",
       "    <tr>\n",
       "      <th>7</th>\n",
       "      <td>6006034098</td>\n",
       "      <td>2134</td>\n",
       "      <td>12.12.450.4196</td>\n",
       "      <td>bita dolce</td>\n",
       "      <td>130</td>\n",
       "      <td>8</td>\n",
       "      <td>Talon</td>\n",
       "      <td>16534</td>\n",
       "      <td>MIDDLE</td>\n",
       "      <td>200</td>\n",
       "      <td>...</td>\n",
       "      <td>5101</td>\n",
       "      <td>5295</td>\n",
       "      <td>5501</td>\n",
       "      <td>5624</td>\n",
       "      <td>5974</td>\n",
       "      <td>6146</td>\n",
       "      <td>6598</td>\n",
       "      <td>6841</td>\n",
       "      <td>7173</td>\n",
       "      <td>7295</td>\n",
       "    </tr>\n",
       "    <tr>\n",
       "      <th>8</th>\n",
       "      <td>6006034098</td>\n",
       "      <td>2134</td>\n",
       "      <td>12.12.450.4196</td>\n",
       "      <td>Psychology 진</td>\n",
       "      <td>88</td>\n",
       "      <td>9</td>\n",
       "      <td>Jhin</td>\n",
       "      <td>17564</td>\n",
       "      <td>BOTTOM</td>\n",
       "      <td>200</td>\n",
       "      <td>...</td>\n",
       "      <td>7197</td>\n",
       "      <td>7586</td>\n",
       "      <td>8161</td>\n",
       "      <td>8429</td>\n",
       "      <td>9295</td>\n",
       "      <td>9558</td>\n",
       "      <td>10030</td>\n",
       "      <td>10508</td>\n",
       "      <td>11001</td>\n",
       "      <td>11344</td>\n",
       "    </tr>\n",
       "    <tr>\n",
       "      <th>9</th>\n",
       "      <td>6006034098</td>\n",
       "      <td>2134</td>\n",
       "      <td>12.12.450.4196</td>\n",
       "      <td>즌 강 민</td>\n",
       "      <td>98</td>\n",
       "      <td>10</td>\n",
       "      <td>Lux</td>\n",
       "      <td>18558</td>\n",
       "      <td>UTILITY</td>\n",
       "      <td>200</td>\n",
       "      <td>...</td>\n",
       "      <td>5963</td>\n",
       "      <td>6412</td>\n",
       "      <td>6705</td>\n",
       "      <td>6866</td>\n",
       "      <td>7082</td>\n",
       "      <td>7342</td>\n",
       "      <td>7832</td>\n",
       "      <td>8151</td>\n",
       "      <td>8333</td>\n",
       "      <td>8607</td>\n",
       "    </tr>\n",
       "    <tr>\n",
       "      <th>10</th>\n",
       "      <td>6005984176</td>\n",
       "      <td>1417</td>\n",
       "      <td>12.12.450.4196</td>\n",
       "      <td>010 3006 7619</td>\n",
       "      <td>215</td>\n",
       "      <td>1</td>\n",
       "      <td>Ornn</td>\n",
       "      <td>10268</td>\n",
       "      <td>TOP</td>\n",
       "      <td>100</td>\n",
       "      <td>...</td>\n",
       "      <td>5687</td>\n",
       "      <td>6274</td>\n",
       "      <td>6680</td>\n",
       "      <td>7150</td>\n",
       "      <td>7376</td>\n",
       "      <td>7578</td>\n",
       "      <td>8214</td>\n",
       "      <td>8336</td>\n",
       "      <td>8462</td>\n",
       "      <td>0</td>\n",
       "    </tr>\n",
       "    <tr>\n",
       "      <th>11</th>\n",
       "      <td>6005984176</td>\n",
       "      <td>1417</td>\n",
       "      <td>12.12.450.4196</td>\n",
       "      <td>즌 강 민</td>\n",
       "      <td>98</td>\n",
       "      <td>2</td>\n",
       "      <td>MonkeyKing</td>\n",
       "      <td>11123</td>\n",
       "      <td>JUNGLE</td>\n",
       "      <td>100</td>\n",
       "      <td>...</td>\n",
       "      <td>7191</td>\n",
       "      <td>7428</td>\n",
       "      <td>7941</td>\n",
       "      <td>8656</td>\n",
       "      <td>9203</td>\n",
       "      <td>9426</td>\n",
       "      <td>10061</td>\n",
       "      <td>10379</td>\n",
       "      <td>10604</td>\n",
       "      <td>0</td>\n",
       "    </tr>\n",
       "    <tr>\n",
       "      <th>12</th>\n",
       "      <td>6005984176</td>\n",
       "      <td>1417</td>\n",
       "      <td>12.12.450.4196</td>\n",
       "      <td>bita dolce</td>\n",
       "      <td>129</td>\n",
       "      <td>3</td>\n",
       "      <td>Fizz</td>\n",
       "      <td>11453</td>\n",
       "      <td>MIDDLE</td>\n",
       "      <td>100</td>\n",
       "      <td>...</td>\n",
       "      <td>6355</td>\n",
       "      <td>6980</td>\n",
       "      <td>7547</td>\n",
       "      <td>8031</td>\n",
       "      <td>8238</td>\n",
       "      <td>8638</td>\n",
       "      <td>8947</td>\n",
       "      <td>9264</td>\n",
       "      <td>9445</td>\n",
       "      <td>0</td>\n",
       "    </tr>\n",
       "    <tr>\n",
       "      <th>13</th>\n",
       "      <td>6005984176</td>\n",
       "      <td>1417</td>\n",
       "      <td>12.12.450.4196</td>\n",
       "      <td>지적인어른</td>\n",
       "      <td>196</td>\n",
       "      <td>4</td>\n",
       "      <td>Jhin</td>\n",
       "      <td>10131</td>\n",
       "      <td>BOTTOM</td>\n",
       "      <td>100</td>\n",
       "      <td>...</td>\n",
       "      <td>6681</td>\n",
       "      <td>7654</td>\n",
       "      <td>7916</td>\n",
       "      <td>8710</td>\n",
       "      <td>9526</td>\n",
       "      <td>9670</td>\n",
       "      <td>10113</td>\n",
       "      <td>10285</td>\n",
       "      <td>11350</td>\n",
       "      <td>0</td>\n",
       "    </tr>\n",
       "    <tr>\n",
       "      <th>14</th>\n",
       "      <td>6005984176</td>\n",
       "      <td>1417</td>\n",
       "      <td>12.12.450.4196</td>\n",
       "      <td>윤금사 노예</td>\n",
       "      <td>99</td>\n",
       "      <td>5</td>\n",
       "      <td>Karma</td>\n",
       "      <td>8346</td>\n",
       "      <td>UTILITY</td>\n",
       "      <td>100</td>\n",
       "      <td>...</td>\n",
       "      <td>4734</td>\n",
       "      <td>5054</td>\n",
       "      <td>5195</td>\n",
       "      <td>5590</td>\n",
       "      <td>5804</td>\n",
       "      <td>5944</td>\n",
       "      <td>6246</td>\n",
       "      <td>6386</td>\n",
       "      <td>6673</td>\n",
       "      <td>0</td>\n",
       "    </tr>\n",
       "    <tr>\n",
       "      <th>15</th>\n",
       "      <td>6005984176</td>\n",
       "      <td>1417</td>\n",
       "      <td>12.12.450.4196</td>\n",
       "      <td>몽사일</td>\n",
       "      <td>34</td>\n",
       "      <td>6</td>\n",
       "      <td>Gangplank</td>\n",
       "      <td>9767</td>\n",
       "      <td>TOP</td>\n",
       "      <td>200</td>\n",
       "      <td>...</td>\n",
       "      <td>4886</td>\n",
       "      <td>5216</td>\n",
       "      <td>5716</td>\n",
       "      <td>5888</td>\n",
       "      <td>6011</td>\n",
       "      <td>6370</td>\n",
       "      <td>6563</td>\n",
       "      <td>6875</td>\n",
       "      <td>7207</td>\n",
       "      <td>0</td>\n",
       "    </tr>\n",
       "    <tr>\n",
       "      <th>16</th>\n",
       "      <td>6005984176</td>\n",
       "      <td>1417</td>\n",
       "      <td>12.12.450.4196</td>\n",
       "      <td>Sabina</td>\n",
       "      <td>140</td>\n",
       "      <td>7</td>\n",
       "      <td>Sejuani</td>\n",
       "      <td>9849</td>\n",
       "      <td>JUNGLE</td>\n",
       "      <td>200</td>\n",
       "      <td>...</td>\n",
       "      <td>6025</td>\n",
       "      <td>6147</td>\n",
       "      <td>6471</td>\n",
       "      <td>7687</td>\n",
       "      <td>7851</td>\n",
       "      <td>8205</td>\n",
       "      <td>8418</td>\n",
       "      <td>8888</td>\n",
       "      <td>9090</td>\n",
       "      <td>0</td>\n",
       "    </tr>\n",
       "    <tr>\n",
       "      <th>17</th>\n",
       "      <td>6005984176</td>\n",
       "      <td>1417</td>\n",
       "      <td>12.12.450.4196</td>\n",
       "      <td>abaca71</td>\n",
       "      <td>30</td>\n",
       "      <td>8</td>\n",
       "      <td>Lux</td>\n",
       "      <td>9103</td>\n",
       "      <td>MIDDLE</td>\n",
       "      <td>200</td>\n",
       "      <td>...</td>\n",
       "      <td>3587</td>\n",
       "      <td>3848</td>\n",
       "      <td>4054</td>\n",
       "      <td>4261</td>\n",
       "      <td>4397</td>\n",
       "      <td>4541</td>\n",
       "      <td>4726</td>\n",
       "      <td>4907</td>\n",
       "      <td>4983</td>\n",
       "      <td>0</td>\n",
       "    </tr>\n",
       "    <tr>\n",
       "      <th>18</th>\n",
       "      <td>6005984176</td>\n",
       "      <td>1417</td>\n",
       "      <td>12.12.450.4196</td>\n",
       "      <td>오징어맛 머핀</td>\n",
       "      <td>48</td>\n",
       "      <td>9</td>\n",
       "      <td>Ashe</td>\n",
       "      <td>7490</td>\n",
       "      <td>BOTTOM</td>\n",
       "      <td>200</td>\n",
       "      <td>...</td>\n",
       "      <td>4291</td>\n",
       "      <td>4434</td>\n",
       "      <td>4605</td>\n",
       "      <td>4853</td>\n",
       "      <td>5107</td>\n",
       "      <td>5474</td>\n",
       "      <td>6046</td>\n",
       "      <td>6628</td>\n",
       "      <td>6760</td>\n",
       "      <td>0</td>\n",
       "    </tr>\n",
       "    <tr>\n",
       "      <th>19</th>\n",
       "      <td>6005984176</td>\n",
       "      <td>1417</td>\n",
       "      <td>12.12.450.4196</td>\n",
       "      <td>이 정도 가능해</td>\n",
       "      <td>39</td>\n",
       "      <td>10</td>\n",
       "      <td>Nautilus</td>\n",
       "      <td>7925</td>\n",
       "      <td>UTILITY</td>\n",
       "      <td>200</td>\n",
       "      <td>...</td>\n",
       "      <td>3778</td>\n",
       "      <td>3939</td>\n",
       "      <td>4243</td>\n",
       "      <td>4939</td>\n",
       "      <td>5079</td>\n",
       "      <td>5324</td>\n",
       "      <td>5514</td>\n",
       "      <td>5664</td>\n",
       "      <td>6051</td>\n",
       "      <td>0</td>\n",
       "    </tr>\n",
       "  </tbody>\n",
       "</table>\n",
       "<p>20 rows × 41 columns</p>\n",
       "</div>"
      ],
      "text/plain": [
       "        gameId  gameDuration     gameVersion   summonerName  summonerLevel  \\\n",
       "0   6006034098          2134  12.12.450.4196         MSG중독자            277   \n",
       "1   6006034098          2134  12.12.450.4196         우주류 검성            323   \n",
       "2   6006034098          2134  12.12.450.4196       BorosRe0             77   \n",
       "3   6006034098          2134  12.12.450.4196         화장실쇠뚜껑            217   \n",
       "4   6006034098          2134  12.12.450.4196            자연1            218   \n",
       "5   6006034098          2134  12.12.450.4196  010 3006 7619            215   \n",
       "6   6006034098          2134  12.12.450.4196         선우 김선달            221   \n",
       "7   6006034098          2134  12.12.450.4196     bita dolce            130   \n",
       "8   6006034098          2134  12.12.450.4196   Psychology 진             88   \n",
       "9   6006034098          2134  12.12.450.4196          즌 강 민             98   \n",
       "10  6005984176          1417  12.12.450.4196  010 3006 7619            215   \n",
       "11  6005984176          1417  12.12.450.4196          즌 강 민             98   \n",
       "12  6005984176          1417  12.12.450.4196     bita dolce            129   \n",
       "13  6005984176          1417  12.12.450.4196          지적인어른            196   \n",
       "14  6005984176          1417  12.12.450.4196         윤금사 노예             99   \n",
       "15  6005984176          1417  12.12.450.4196            몽사일             34   \n",
       "16  6005984176          1417  12.12.450.4196         Sabina            140   \n",
       "17  6005984176          1417  12.12.450.4196        abaca71             30   \n",
       "18  6005984176          1417  12.12.450.4196        오징어맛 머핀             48   \n",
       "19  6005984176          1417  12.12.450.4196       이 정도 가능해             39   \n",
       "\n",
       "    participantId championName  champExperience teamPosition  teamId  ...  \\\n",
       "0               1         Gnar            17679          TOP     100  ...   \n",
       "1               2      Kindred            15648       JUNGLE     100  ...   \n",
       "2               3         Zeri            21745       MIDDLE     100  ...   \n",
       "3               4        Vayne            14440       BOTTOM     100  ...   \n",
       "4               5       Thresh            12848      UTILITY     100  ...   \n",
       "5               6     Malphite            16322          TOP     200  ...   \n",
       "6               7        Viego            17915       JUNGLE     200  ...   \n",
       "7               8        Talon            16534       MIDDLE     200  ...   \n",
       "8               9         Jhin            17564       BOTTOM     200  ...   \n",
       "9              10          Lux            18558      UTILITY     200  ...   \n",
       "10              1         Ornn            10268          TOP     100  ...   \n",
       "11              2   MonkeyKing            11123       JUNGLE     100  ...   \n",
       "12              3         Fizz            11453       MIDDLE     100  ...   \n",
       "13              4         Jhin            10131       BOTTOM     100  ...   \n",
       "14              5        Karma             8346      UTILITY     100  ...   \n",
       "15              6    Gangplank             9767          TOP     200  ...   \n",
       "16              7      Sejuani             9849       JUNGLE     200  ...   \n",
       "17              8          Lux             9103       MIDDLE     200  ...   \n",
       "18              9         Ashe             7490       BOTTOM     200  ...   \n",
       "19             10     Nautilus             7925      UTILITY     200  ...   \n",
       "\n",
       "    g_16  g_17  g_18  g_19  g_20  g_21   g_22   g_23   g_24   g_25  \n",
       "0   6378  7566  8315  8516  9414  9549  10028  10150  10467  10653  \n",
       "1   5887  6232  6355  6762  7722  7968   8447   8570   8787   9149  \n",
       "2   5200  5465  5778  6110  6491  6823   7025   7364   7629   7930  \n",
       "3   4315  4521  4790  4913  5204  5379   6293   6479   6880   7093  \n",
       "4   4016  4266  4470  4781  4969  5110   5350   5525   5666   5836  \n",
       "5   5634  6224  6663  6825  6948  7311   7483   7718   8284   8466  \n",
       "6   6501  6874  7173  7451  7663  8821   9224   9918  10165  10603  \n",
       "7   5101  5295  5501  5624  5974  6146   6598   6841   7173   7295  \n",
       "8   7197  7586  8161  8429  9295  9558  10030  10508  11001  11344  \n",
       "9   5963  6412  6705  6866  7082  7342   7832   8151   8333   8607  \n",
       "10  5687  6274  6680  7150  7376  7578   8214   8336   8462      0  \n",
       "11  7191  7428  7941  8656  9203  9426  10061  10379  10604      0  \n",
       "12  6355  6980  7547  8031  8238  8638   8947   9264   9445      0  \n",
       "13  6681  7654  7916  8710  9526  9670  10113  10285  11350      0  \n",
       "14  4734  5054  5195  5590  5804  5944   6246   6386   6673      0  \n",
       "15  4886  5216  5716  5888  6011  6370   6563   6875   7207      0  \n",
       "16  6025  6147  6471  7687  7851  8205   8418   8888   9090      0  \n",
       "17  3587  3848  4054  4261  4397  4541   4726   4907   4983      0  \n",
       "18  4291  4434  4605  4853  5107  5474   6046   6628   6760      0  \n",
       "19  3778  3939  4243  4939  5079  5324   5514   5664   6051      0  \n",
       "\n",
       "[20 rows x 41 columns]"
      ]
     },
     "execution_count": 7,
     "metadata": {},
     "output_type": "execute_result"
    }
   ],
   "source": [
    "all_df"
   ]
  },
  {
   "cell_type": "code",
   "execution_count": 8,
   "id": "20d2a689",
   "metadata": {
    "scrolled": true
   },
   "outputs": [
    {
     "data": {
      "text/plain": [
       "Index(['gameId', 'gameDuration', 'gameVersion', 'summonerName',\n",
       "       'summonerLevel', 'participantId', 'championName', 'champExperience',\n",
       "       'teamPosition', 'teamId', 'win', 'kills', 'deaths', 'assists',\n",
       "       'totalDamageDealtToChampions', 'totalDamageTaken', 'baronKills',\n",
       "       'teamElderDragonKills', 'dragonKills', 'teamRiftHeraldKills', 'g_5',\n",
       "       'g_6', 'g_7', 'g_8', 'g_9', 'g_10', 'g_11', 'g_12', 'g_13', 'g_14',\n",
       "       'g_15', 'g_16', 'g_17', 'g_18', 'g_19', 'g_20', 'g_21', 'g_22', 'g_23',\n",
       "       'g_24', 'g_25'],\n",
       "      dtype='object')"
      ]
     },
     "execution_count": 8,
     "metadata": {},
     "output_type": "execute_result"
    }
   ],
   "source": [
    "all_df.columns"
   ]
  },
  {
   "cell_type": "code",
   "execution_count": 9,
   "id": "8e064275",
   "metadata": {},
   "outputs": [
    {
     "name": "stdout",
     "output_type": "stream",
     "text": [
      "open!\n"
     ]
    }
   ],
   "source": [
    "mu.db_open_local()"
   ]
  },
  {
   "cell_type": "code",
   "execution_count": 10,
   "id": "1ae9254f",
   "metadata": {},
   "outputs": [
    {
     "name": "stderr",
     "output_type": "stream",
     "text": [
      "C:\\Users\\user\\anaconda3\\lib\\site-packages\\pandas\\io\\sql.py:761: UserWarning:\n",
      "\n",
      "pandas only support SQLAlchemy connectable(engine/connection) ordatabase string URI or sqlite3 DBAPI2 connectionother DBAPI2 objects are not tested, please consider using SQLAlchemy\n",
      "\n"
     ]
    }
   ],
   "source": [
    "df = mu.sql_execute('select * from match_data_take')"
   ]
  },
  {
   "cell_type": "code",
   "execution_count": 11,
   "id": "373aab0e",
   "metadata": {},
   "outputs": [
    {
     "data": {
      "text/html": [
       "<div>\n",
       "<style scoped>\n",
       "    .dataframe tbody tr th:only-of-type {\n",
       "        vertical-align: middle;\n",
       "    }\n",
       "\n",
       "    .dataframe tbody tr th {\n",
       "        vertical-align: top;\n",
       "    }\n",
       "\n",
       "    .dataframe thead th {\n",
       "        text-align: right;\n",
       "    }\n",
       "</style>\n",
       "<table border=\"1\" class=\"dataframe\">\n",
       "  <thead>\n",
       "    <tr style=\"text-align: right;\">\n",
       "      <th></th>\n",
       "      <th>GAMEID</th>\n",
       "      <th>PARTICIPANTID</th>\n",
       "      <th>GAMEDURATION</th>\n",
       "      <th>GAMEVERSION</th>\n",
       "      <th>SUMMONERNAME</th>\n",
       "      <th>SUMMONERLEVEL</th>\n",
       "      <th>CHAMPIONNAME</th>\n",
       "      <th>CHAMPEXPERIENCE</th>\n",
       "      <th>TEAMPOSITION</th>\n",
       "      <th>TEAMID</th>\n",
       "      <th>...</th>\n",
       "      <th>G_16</th>\n",
       "      <th>G_17</th>\n",
       "      <th>G_18</th>\n",
       "      <th>G_19</th>\n",
       "      <th>G_20</th>\n",
       "      <th>G_21</th>\n",
       "      <th>G_22</th>\n",
       "      <th>G_23</th>\n",
       "      <th>G_24</th>\n",
       "      <th>G_25</th>\n",
       "    </tr>\n",
       "  </thead>\n",
       "  <tbody>\n",
       "    <tr>\n",
       "      <th>0</th>\n",
       "      <td>6001125156</td>\n",
       "      <td>1</td>\n",
       "      <td>1451</td>\n",
       "      <td>12.12.450.4196</td>\n",
       "      <td>한강에사는연어</td>\n",
       "      <td>312</td>\n",
       "      <td>Khazix</td>\n",
       "      <td>8501</td>\n",
       "      <td>JUNGLE</td>\n",
       "      <td>100</td>\n",
       "      <td>...</td>\n",
       "      <td>6682</td>\n",
       "      <td>6809</td>\n",
       "      <td>6991</td>\n",
       "      <td>7663</td>\n",
       "      <td>8082</td>\n",
       "      <td>8479</td>\n",
       "      <td>9979</td>\n",
       "      <td>10228</td>\n",
       "      <td>10526</td>\n",
       "      <td>10549</td>\n",
       "    </tr>\n",
       "    <tr>\n",
       "      <th>1</th>\n",
       "      <td>6001125156</td>\n",
       "      <td>2</td>\n",
       "      <td>1451</td>\n",
       "      <td>12.12.450.4196</td>\n",
       "      <td>원태씨</td>\n",
       "      <td>165</td>\n",
       "      <td>TahmKench</td>\n",
       "      <td>6252</td>\n",
       "      <td>BOTTOM</td>\n",
       "      <td>100</td>\n",
       "      <td>...</td>\n",
       "      <td>3675</td>\n",
       "      <td>3797</td>\n",
       "      <td>3919</td>\n",
       "      <td>4184</td>\n",
       "      <td>4427</td>\n",
       "      <td>4579</td>\n",
       "      <td>4731</td>\n",
       "      <td>4854</td>\n",
       "      <td>4976</td>\n",
       "      <td>4998</td>\n",
       "    </tr>\n",
       "    <tr>\n",
       "      <th>2</th>\n",
       "      <td>6001125156</td>\n",
       "      <td>3</td>\n",
       "      <td>1451</td>\n",
       "      <td>12.12.450.4196</td>\n",
       "      <td>내여친소영이</td>\n",
       "      <td>189</td>\n",
       "      <td>Singed</td>\n",
       "      <td>7690</td>\n",
       "      <td>MIDDLE</td>\n",
       "      <td>100</td>\n",
       "      <td>...</td>\n",
       "      <td>3507</td>\n",
       "      <td>3871</td>\n",
       "      <td>4250</td>\n",
       "      <td>4535</td>\n",
       "      <td>4945</td>\n",
       "      <td>5271</td>\n",
       "      <td>5477</td>\n",
       "      <td>5600</td>\n",
       "      <td>5737</td>\n",
       "      <td>5760</td>\n",
       "    </tr>\n",
       "    <tr>\n",
       "      <th>3</th>\n",
       "      <td>6001125156</td>\n",
       "      <td>4</td>\n",
       "      <td>1451</td>\n",
       "      <td>12.12.450.4196</td>\n",
       "      <td>한강에사는곰</td>\n",
       "      <td>58</td>\n",
       "      <td>Darius</td>\n",
       "      <td>10640</td>\n",
       "      <td>TOP</td>\n",
       "      <td>100</td>\n",
       "      <td>...</td>\n",
       "      <td>5112</td>\n",
       "      <td>5682</td>\n",
       "      <td>6012</td>\n",
       "      <td>6455</td>\n",
       "      <td>6803</td>\n",
       "      <td>6926</td>\n",
       "      <td>7090</td>\n",
       "      <td>7213</td>\n",
       "      <td>7345</td>\n",
       "      <td>7367</td>\n",
       "    </tr>\n",
       "    <tr>\n",
       "      <th>4</th>\n",
       "      <td>6001125156</td>\n",
       "      <td>5</td>\n",
       "      <td>1451</td>\n",
       "      <td>12.12.450.4196</td>\n",
       "      <td>YHBIN</td>\n",
       "      <td>225</td>\n",
       "      <td>Senna</td>\n",
       "      <td>7870</td>\n",
       "      <td>UTILITY</td>\n",
       "      <td>100</td>\n",
       "      <td>...</td>\n",
       "      <td>4955</td>\n",
       "      <td>5261</td>\n",
       "      <td>5481</td>\n",
       "      <td>5760</td>\n",
       "      <td>6137</td>\n",
       "      <td>6398</td>\n",
       "      <td>6804</td>\n",
       "      <td>6974</td>\n",
       "      <td>7173</td>\n",
       "      <td>7199</td>\n",
       "    </tr>\n",
       "    <tr>\n",
       "      <th>...</th>\n",
       "      <td>...</td>\n",
       "      <td>...</td>\n",
       "      <td>...</td>\n",
       "      <td>...</td>\n",
       "      <td>...</td>\n",
       "      <td>...</td>\n",
       "      <td>...</td>\n",
       "      <td>...</td>\n",
       "      <td>...</td>\n",
       "      <td>...</td>\n",
       "      <td>...</td>\n",
       "      <td>...</td>\n",
       "      <td>...</td>\n",
       "      <td>...</td>\n",
       "      <td>...</td>\n",
       "      <td>...</td>\n",
       "      <td>...</td>\n",
       "      <td>...</td>\n",
       "      <td>...</td>\n",
       "      <td>...</td>\n",
       "      <td>...</td>\n",
       "    </tr>\n",
       "    <tr>\n",
       "      <th>14724</th>\n",
       "      <td>5986312593</td>\n",
       "      <td>6</td>\n",
       "      <td>625</td>\n",
       "      <td>12.12.450.4196</td>\n",
       "      <td>nishishanma</td>\n",
       "      <td>119</td>\n",
       "      <td>Ezreal</td>\n",
       "      <td>3032</td>\n",
       "      <td>BOTTOM</td>\n",
       "      <td>200</td>\n",
       "      <td>...</td>\n",
       "      <td>0</td>\n",
       "      <td>0</td>\n",
       "      <td>0</td>\n",
       "      <td>0</td>\n",
       "      <td>0</td>\n",
       "      <td>0</td>\n",
       "      <td>0</td>\n",
       "      <td>0</td>\n",
       "      <td>0</td>\n",
       "      <td>0</td>\n",
       "    </tr>\n",
       "    <tr>\n",
       "      <th>14725</th>\n",
       "      <td>5986312593</td>\n",
       "      <td>7</td>\n",
       "      <td>625</td>\n",
       "      <td>12.12.450.4196</td>\n",
       "      <td>비원딜 하지마라</td>\n",
       "      <td>185</td>\n",
       "      <td>Pyke</td>\n",
       "      <td>2975</td>\n",
       "      <td>UTILITY</td>\n",
       "      <td>200</td>\n",
       "      <td>...</td>\n",
       "      <td>0</td>\n",
       "      <td>0</td>\n",
       "      <td>0</td>\n",
       "      <td>0</td>\n",
       "      <td>0</td>\n",
       "      <td>0</td>\n",
       "      <td>0</td>\n",
       "      <td>0</td>\n",
       "      <td>0</td>\n",
       "      <td>0</td>\n",
       "    </tr>\n",
       "    <tr>\n",
       "      <th>14726</th>\n",
       "      <td>5986312593</td>\n",
       "      <td>8</td>\n",
       "      <td>625</td>\n",
       "      <td>12.12.450.4196</td>\n",
       "      <td>글로벌입니다</td>\n",
       "      <td>336</td>\n",
       "      <td>Rumble</td>\n",
       "      <td>3907</td>\n",
       "      <td>MIDDLE</td>\n",
       "      <td>200</td>\n",
       "      <td>...</td>\n",
       "      <td>0</td>\n",
       "      <td>0</td>\n",
       "      <td>0</td>\n",
       "      <td>0</td>\n",
       "      <td>0</td>\n",
       "      <td>0</td>\n",
       "      <td>0</td>\n",
       "      <td>0</td>\n",
       "      <td>0</td>\n",
       "      <td>0</td>\n",
       "    </tr>\n",
       "    <tr>\n",
       "      <th>14727</th>\n",
       "      <td>5986312593</td>\n",
       "      <td>9</td>\n",
       "      <td>625</td>\n",
       "      <td>12.12.450.4196</td>\n",
       "      <td>만 영</td>\n",
       "      <td>400</td>\n",
       "      <td>Graves</td>\n",
       "      <td>3430</td>\n",
       "      <td>JUNGLE</td>\n",
       "      <td>200</td>\n",
       "      <td>...</td>\n",
       "      <td>0</td>\n",
       "      <td>0</td>\n",
       "      <td>0</td>\n",
       "      <td>0</td>\n",
       "      <td>0</td>\n",
       "      <td>0</td>\n",
       "      <td>0</td>\n",
       "      <td>0</td>\n",
       "      <td>0</td>\n",
       "      <td>0</td>\n",
       "    </tr>\n",
       "    <tr>\n",
       "      <th>14728</th>\n",
       "      <td>5986312593</td>\n",
       "      <td>10</td>\n",
       "      <td>625</td>\n",
       "      <td>12.12.450.4196</td>\n",
       "      <td>HUFSKHAN</td>\n",
       "      <td>344</td>\n",
       "      <td>Kayle</td>\n",
       "      <td>3137</td>\n",
       "      <td>TOP</td>\n",
       "      <td>200</td>\n",
       "      <td>...</td>\n",
       "      <td>0</td>\n",
       "      <td>0</td>\n",
       "      <td>0</td>\n",
       "      <td>0</td>\n",
       "      <td>0</td>\n",
       "      <td>0</td>\n",
       "      <td>0</td>\n",
       "      <td>0</td>\n",
       "      <td>0</td>\n",
       "      <td>0</td>\n",
       "    </tr>\n",
       "  </tbody>\n",
       "</table>\n",
       "<p>14729 rows × 41 columns</p>\n",
       "</div>"
      ],
      "text/plain": [
       "           GAMEID  PARTICIPANTID  GAMEDURATION     GAMEVERSION SUMMONERNAME  \\\n",
       "0      6001125156              1          1451  12.12.450.4196      한강에사는연어   \n",
       "1      6001125156              2          1451  12.12.450.4196          원태씨   \n",
       "2      6001125156              3          1451  12.12.450.4196       내여친소영이   \n",
       "3      6001125156              4          1451  12.12.450.4196       한강에사는곰   \n",
       "4      6001125156              5          1451  12.12.450.4196        YHBIN   \n",
       "...           ...            ...           ...             ...          ...   \n",
       "14724  5986312593              6           625  12.12.450.4196  nishishanma   \n",
       "14725  5986312593              7           625  12.12.450.4196     비원딜 하지마라   \n",
       "14726  5986312593              8           625  12.12.450.4196       글로벌입니다   \n",
       "14727  5986312593              9           625  12.12.450.4196         만 영    \n",
       "14728  5986312593             10           625  12.12.450.4196     HUFSKHAN   \n",
       "\n",
       "       SUMMONERLEVEL CHAMPIONNAME  CHAMPEXPERIENCE TEAMPOSITION  TEAMID  ...  \\\n",
       "0                312       Khazix             8501       JUNGLE     100  ...   \n",
       "1                165    TahmKench             6252       BOTTOM     100  ...   \n",
       "2                189       Singed             7690       MIDDLE     100  ...   \n",
       "3                 58       Darius            10640          TOP     100  ...   \n",
       "4                225        Senna             7870      UTILITY     100  ...   \n",
       "...              ...          ...              ...          ...     ...  ...   \n",
       "14724            119       Ezreal             3032       BOTTOM     200  ...   \n",
       "14725            185         Pyke             2975      UTILITY     200  ...   \n",
       "14726            336       Rumble             3907       MIDDLE     200  ...   \n",
       "14727            400       Graves             3430       JUNGLE     200  ...   \n",
       "14728            344        Kayle             3137          TOP     200  ...   \n",
       "\n",
       "       G_16  G_17  G_18  G_19  G_20  G_21  G_22   G_23   G_24   G_25  \n",
       "0      6682  6809  6991  7663  8082  8479  9979  10228  10526  10549  \n",
       "1      3675  3797  3919  4184  4427  4579  4731   4854   4976   4998  \n",
       "2      3507  3871  4250  4535  4945  5271  5477   5600   5737   5760  \n",
       "3      5112  5682  6012  6455  6803  6926  7090   7213   7345   7367  \n",
       "4      4955  5261  5481  5760  6137  6398  6804   6974   7173   7199  \n",
       "...     ...   ...   ...   ...   ...   ...   ...    ...    ...    ...  \n",
       "14724     0     0     0     0     0     0     0      0      0      0  \n",
       "14725     0     0     0     0     0     0     0      0      0      0  \n",
       "14726     0     0     0     0     0     0     0      0      0      0  \n",
       "14727     0     0     0     0     0     0     0      0      0      0  \n",
       "14728     0     0     0     0     0     0     0      0      0      0  \n",
       "\n",
       "[14729 rows x 41 columns]"
      ]
     },
     "execution_count": 11,
     "metadata": {},
     "output_type": "execute_result"
    }
   ],
   "source": [
    "df"
   ]
  },
  {
   "cell_type": "code",
   "execution_count": 12,
   "id": "69381849",
   "metadata": {},
   "outputs": [
    {
     "data": {
      "text/plain": [
       "'close!'"
      ]
     },
     "execution_count": 12,
     "metadata": {},
     "output_type": "execute_result"
    }
   ],
   "source": [
    "mu.db_close()"
   ]
  },
  {
   "cell_type": "code",
   "execution_count": 13,
   "id": "15eba4b8",
   "metadata": {
    "scrolled": true
   },
   "outputs": [],
   "source": [
    "df = df[['GAMEID','GAMEDURATION','GAMEVERSION','SUMMONERNAME','SUMMONERLEVEL','PARTICIPANTID','CHAMPIONNAME','CHAMPEXPERIENCE','TEAMPOSITION','TEAMID','WIN','KILLS','DEATHS','ASSISTS','TOTALDAMAGEDEALTTOCHAMPIONS','TOTALDAMAGETAKEN','G_5','G_6','G_7','G_8','G_9','G_10','G_11','G_12','G_13','G_14','G_15','G_16','G_17','G_18','G_19','G_20']]"
   ]
  },
  {
   "cell_type": "code",
   "execution_count": 14,
   "id": "786f535c",
   "metadata": {
    "scrolled": true
   },
   "outputs": [],
   "source": [
    "#df = all_df[['gameId','gameDuration','gameVersion','summonerName','summonerLevel','participantId','championName','champExperience','teamPosition','teamId','win','kills','deaths','assists','totalDamageDealtToChampions','totalDamageTaken','g_5','g_6','g_7','g_8','g_9','g_10','g_11','g_12','g_13','g_14','g_15','g_16','g_17','g_18','g_19','g_20']]"
   ]
  },
  {
   "cell_type": "code",
   "execution_count": 15,
   "id": "d2e154ae",
   "metadata": {
    "scrolled": true
   },
   "outputs": [
    {
     "data": {
      "text/html": [
       "<div>\n",
       "<style scoped>\n",
       "    .dataframe tbody tr th:only-of-type {\n",
       "        vertical-align: middle;\n",
       "    }\n",
       "\n",
       "    .dataframe tbody tr th {\n",
       "        vertical-align: top;\n",
       "    }\n",
       "\n",
       "    .dataframe thead th {\n",
       "        text-align: right;\n",
       "    }\n",
       "</style>\n",
       "<table border=\"1\" class=\"dataframe\">\n",
       "  <thead>\n",
       "    <tr style=\"text-align: right;\">\n",
       "      <th></th>\n",
       "      <th>GAMEID</th>\n",
       "      <th>GAMEDURATION</th>\n",
       "      <th>GAMEVERSION</th>\n",
       "      <th>SUMMONERNAME</th>\n",
       "      <th>SUMMONERLEVEL</th>\n",
       "      <th>PARTICIPANTID</th>\n",
       "      <th>CHAMPIONNAME</th>\n",
       "      <th>CHAMPEXPERIENCE</th>\n",
       "      <th>TEAMPOSITION</th>\n",
       "      <th>TEAMID</th>\n",
       "      <th>...</th>\n",
       "      <th>G_11</th>\n",
       "      <th>G_12</th>\n",
       "      <th>G_13</th>\n",
       "      <th>G_14</th>\n",
       "      <th>G_15</th>\n",
       "      <th>G_16</th>\n",
       "      <th>G_17</th>\n",
       "      <th>G_18</th>\n",
       "      <th>G_19</th>\n",
       "      <th>G_20</th>\n",
       "    </tr>\n",
       "  </thead>\n",
       "  <tbody>\n",
       "    <tr>\n",
       "      <th>0</th>\n",
       "      <td>6001125156</td>\n",
       "      <td>1451</td>\n",
       "      <td>12.12.450.4196</td>\n",
       "      <td>한강에사는연어</td>\n",
       "      <td>312</td>\n",
       "      <td>1</td>\n",
       "      <td>Khazix</td>\n",
       "      <td>8501</td>\n",
       "      <td>JUNGLE</td>\n",
       "      <td>100</td>\n",
       "      <td>...</td>\n",
       "      <td>3540</td>\n",
       "      <td>3952</td>\n",
       "      <td>4576</td>\n",
       "      <td>4983</td>\n",
       "      <td>5321</td>\n",
       "      <td>6682</td>\n",
       "      <td>6809</td>\n",
       "      <td>6991</td>\n",
       "      <td>7663</td>\n",
       "      <td>8082</td>\n",
       "    </tr>\n",
       "    <tr>\n",
       "      <th>1</th>\n",
       "      <td>6001125156</td>\n",
       "      <td>1451</td>\n",
       "      <td>12.12.450.4196</td>\n",
       "      <td>원태씨</td>\n",
       "      <td>165</td>\n",
       "      <td>2</td>\n",
       "      <td>TahmKench</td>\n",
       "      <td>6252</td>\n",
       "      <td>BOTTOM</td>\n",
       "      <td>100</td>\n",
       "      <td>...</td>\n",
       "      <td>2698</td>\n",
       "      <td>2876</td>\n",
       "      <td>3113</td>\n",
       "      <td>3257</td>\n",
       "      <td>3477</td>\n",
       "      <td>3675</td>\n",
       "      <td>3797</td>\n",
       "      <td>3919</td>\n",
       "      <td>4184</td>\n",
       "      <td>4427</td>\n",
       "    </tr>\n",
       "    <tr>\n",
       "      <th>2</th>\n",
       "      <td>6001125156</td>\n",
       "      <td>1451</td>\n",
       "      <td>12.12.450.4196</td>\n",
       "      <td>내여친소영이</td>\n",
       "      <td>189</td>\n",
       "      <td>3</td>\n",
       "      <td>Singed</td>\n",
       "      <td>7690</td>\n",
       "      <td>MIDDLE</td>\n",
       "      <td>100</td>\n",
       "      <td>...</td>\n",
       "      <td>2483</td>\n",
       "      <td>2605</td>\n",
       "      <td>2926</td>\n",
       "      <td>3049</td>\n",
       "      <td>3192</td>\n",
       "      <td>3507</td>\n",
       "      <td>3871</td>\n",
       "      <td>4250</td>\n",
       "      <td>4535</td>\n",
       "      <td>4945</td>\n",
       "    </tr>\n",
       "    <tr>\n",
       "      <th>3</th>\n",
       "      <td>6001125156</td>\n",
       "      <td>1451</td>\n",
       "      <td>12.12.450.4196</td>\n",
       "      <td>한강에사는곰</td>\n",
       "      <td>58</td>\n",
       "      <td>4</td>\n",
       "      <td>Darius</td>\n",
       "      <td>10640</td>\n",
       "      <td>TOP</td>\n",
       "      <td>100</td>\n",
       "      <td>...</td>\n",
       "      <td>3328</td>\n",
       "      <td>3738</td>\n",
       "      <td>4030</td>\n",
       "      <td>4300</td>\n",
       "      <td>4422</td>\n",
       "      <td>5112</td>\n",
       "      <td>5682</td>\n",
       "      <td>6012</td>\n",
       "      <td>6455</td>\n",
       "      <td>6803</td>\n",
       "    </tr>\n",
       "    <tr>\n",
       "      <th>4</th>\n",
       "      <td>6001125156</td>\n",
       "      <td>1451</td>\n",
       "      <td>12.12.450.4196</td>\n",
       "      <td>YHBIN</td>\n",
       "      <td>225</td>\n",
       "      <td>5</td>\n",
       "      <td>Senna</td>\n",
       "      <td>7870</td>\n",
       "      <td>UTILITY</td>\n",
       "      <td>100</td>\n",
       "      <td>...</td>\n",
       "      <td>2986</td>\n",
       "      <td>3129</td>\n",
       "      <td>3888</td>\n",
       "      <td>4069</td>\n",
       "      <td>4362</td>\n",
       "      <td>4955</td>\n",
       "      <td>5261</td>\n",
       "      <td>5481</td>\n",
       "      <td>5760</td>\n",
       "      <td>6137</td>\n",
       "    </tr>\n",
       "    <tr>\n",
       "      <th>...</th>\n",
       "      <td>...</td>\n",
       "      <td>...</td>\n",
       "      <td>...</td>\n",
       "      <td>...</td>\n",
       "      <td>...</td>\n",
       "      <td>...</td>\n",
       "      <td>...</td>\n",
       "      <td>...</td>\n",
       "      <td>...</td>\n",
       "      <td>...</td>\n",
       "      <td>...</td>\n",
       "      <td>...</td>\n",
       "      <td>...</td>\n",
       "      <td>...</td>\n",
       "      <td>...</td>\n",
       "      <td>...</td>\n",
       "      <td>...</td>\n",
       "      <td>...</td>\n",
       "      <td>...</td>\n",
       "      <td>...</td>\n",
       "      <td>...</td>\n",
       "    </tr>\n",
       "    <tr>\n",
       "      <th>14724</th>\n",
       "      <td>5986312593</td>\n",
       "      <td>625</td>\n",
       "      <td>12.12.450.4196</td>\n",
       "      <td>nishishanma</td>\n",
       "      <td>119</td>\n",
       "      <td>6</td>\n",
       "      <td>Ezreal</td>\n",
       "      <td>3032</td>\n",
       "      <td>BOTTOM</td>\n",
       "      <td>200</td>\n",
       "      <td>...</td>\n",
       "      <td>3700</td>\n",
       "      <td>0</td>\n",
       "      <td>0</td>\n",
       "      <td>0</td>\n",
       "      <td>0</td>\n",
       "      <td>0</td>\n",
       "      <td>0</td>\n",
       "      <td>0</td>\n",
       "      <td>0</td>\n",
       "      <td>0</td>\n",
       "    </tr>\n",
       "    <tr>\n",
       "      <th>14725</th>\n",
       "      <td>5986312593</td>\n",
       "      <td>625</td>\n",
       "      <td>12.12.450.4196</td>\n",
       "      <td>비원딜 하지마라</td>\n",
       "      <td>185</td>\n",
       "      <td>7</td>\n",
       "      <td>Pyke</td>\n",
       "      <td>2975</td>\n",
       "      <td>UTILITY</td>\n",
       "      <td>200</td>\n",
       "      <td>...</td>\n",
       "      <td>3002</td>\n",
       "      <td>0</td>\n",
       "      <td>0</td>\n",
       "      <td>0</td>\n",
       "      <td>0</td>\n",
       "      <td>0</td>\n",
       "      <td>0</td>\n",
       "      <td>0</td>\n",
       "      <td>0</td>\n",
       "      <td>0</td>\n",
       "    </tr>\n",
       "    <tr>\n",
       "      <th>14726</th>\n",
       "      <td>5986312593</td>\n",
       "      <td>625</td>\n",
       "      <td>12.12.450.4196</td>\n",
       "      <td>글로벌입니다</td>\n",
       "      <td>336</td>\n",
       "      <td>8</td>\n",
       "      <td>Rumble</td>\n",
       "      <td>3907</td>\n",
       "      <td>MIDDLE</td>\n",
       "      <td>200</td>\n",
       "      <td>...</td>\n",
       "      <td>3873</td>\n",
       "      <td>0</td>\n",
       "      <td>0</td>\n",
       "      <td>0</td>\n",
       "      <td>0</td>\n",
       "      <td>0</td>\n",
       "      <td>0</td>\n",
       "      <td>0</td>\n",
       "      <td>0</td>\n",
       "      <td>0</td>\n",
       "    </tr>\n",
       "    <tr>\n",
       "      <th>14727</th>\n",
       "      <td>5986312593</td>\n",
       "      <td>625</td>\n",
       "      <td>12.12.450.4196</td>\n",
       "      <td>만 영</td>\n",
       "      <td>400</td>\n",
       "      <td>9</td>\n",
       "      <td>Graves</td>\n",
       "      <td>3430</td>\n",
       "      <td>JUNGLE</td>\n",
       "      <td>200</td>\n",
       "      <td>...</td>\n",
       "      <td>3262</td>\n",
       "      <td>0</td>\n",
       "      <td>0</td>\n",
       "      <td>0</td>\n",
       "      <td>0</td>\n",
       "      <td>0</td>\n",
       "      <td>0</td>\n",
       "      <td>0</td>\n",
       "      <td>0</td>\n",
       "      <td>0</td>\n",
       "    </tr>\n",
       "    <tr>\n",
       "      <th>14728</th>\n",
       "      <td>5986312593</td>\n",
       "      <td>625</td>\n",
       "      <td>12.12.450.4196</td>\n",
       "      <td>HUFSKHAN</td>\n",
       "      <td>344</td>\n",
       "      <td>10</td>\n",
       "      <td>Kayle</td>\n",
       "      <td>3137</td>\n",
       "      <td>TOP</td>\n",
       "      <td>200</td>\n",
       "      <td>...</td>\n",
       "      <td>2513</td>\n",
       "      <td>0</td>\n",
       "      <td>0</td>\n",
       "      <td>0</td>\n",
       "      <td>0</td>\n",
       "      <td>0</td>\n",
       "      <td>0</td>\n",
       "      <td>0</td>\n",
       "      <td>0</td>\n",
       "      <td>0</td>\n",
       "    </tr>\n",
       "  </tbody>\n",
       "</table>\n",
       "<p>14729 rows × 32 columns</p>\n",
       "</div>"
      ],
      "text/plain": [
       "           GAMEID  GAMEDURATION     GAMEVERSION SUMMONERNAME  SUMMONERLEVEL  \\\n",
       "0      6001125156          1451  12.12.450.4196      한강에사는연어            312   \n",
       "1      6001125156          1451  12.12.450.4196          원태씨            165   \n",
       "2      6001125156          1451  12.12.450.4196       내여친소영이            189   \n",
       "3      6001125156          1451  12.12.450.4196       한강에사는곰             58   \n",
       "4      6001125156          1451  12.12.450.4196        YHBIN            225   \n",
       "...           ...           ...             ...          ...            ...   \n",
       "14724  5986312593           625  12.12.450.4196  nishishanma            119   \n",
       "14725  5986312593           625  12.12.450.4196     비원딜 하지마라            185   \n",
       "14726  5986312593           625  12.12.450.4196       글로벌입니다            336   \n",
       "14727  5986312593           625  12.12.450.4196         만 영             400   \n",
       "14728  5986312593           625  12.12.450.4196     HUFSKHAN            344   \n",
       "\n",
       "       PARTICIPANTID CHAMPIONNAME  CHAMPEXPERIENCE TEAMPOSITION  TEAMID  ...  \\\n",
       "0                  1       Khazix             8501       JUNGLE     100  ...   \n",
       "1                  2    TahmKench             6252       BOTTOM     100  ...   \n",
       "2                  3       Singed             7690       MIDDLE     100  ...   \n",
       "3                  4       Darius            10640          TOP     100  ...   \n",
       "4                  5        Senna             7870      UTILITY     100  ...   \n",
       "...              ...          ...              ...          ...     ...  ...   \n",
       "14724              6       Ezreal             3032       BOTTOM     200  ...   \n",
       "14725              7         Pyke             2975      UTILITY     200  ...   \n",
       "14726              8       Rumble             3907       MIDDLE     200  ...   \n",
       "14727              9       Graves             3430       JUNGLE     200  ...   \n",
       "14728             10        Kayle             3137          TOP     200  ...   \n",
       "\n",
       "       G_11  G_12  G_13  G_14  G_15  G_16  G_17  G_18  G_19  G_20  \n",
       "0      3540  3952  4576  4983  5321  6682  6809  6991  7663  8082  \n",
       "1      2698  2876  3113  3257  3477  3675  3797  3919  4184  4427  \n",
       "2      2483  2605  2926  3049  3192  3507  3871  4250  4535  4945  \n",
       "3      3328  3738  4030  4300  4422  5112  5682  6012  6455  6803  \n",
       "4      2986  3129  3888  4069  4362  4955  5261  5481  5760  6137  \n",
       "...     ...   ...   ...   ...   ...   ...   ...   ...   ...   ...  \n",
       "14724  3700     0     0     0     0     0     0     0     0     0  \n",
       "14725  3002     0     0     0     0     0     0     0     0     0  \n",
       "14726  3873     0     0     0     0     0     0     0     0     0  \n",
       "14727  3262     0     0     0     0     0     0     0     0     0  \n",
       "14728  2513     0     0     0     0     0     0     0     0     0  \n",
       "\n",
       "[14729 rows x 32 columns]"
      ]
     },
     "execution_count": 15,
     "metadata": {},
     "output_type": "execute_result"
    }
   ],
   "source": [
    "df"
   ]
  },
  {
   "cell_type": "code",
   "execution_count": 16,
   "id": "be3a0a98",
   "metadata": {},
   "outputs": [],
   "source": [
    "take_df = df[['CHAMPIONNAME','TOTALDAMAGEDEALTTOCHAMPIONS','TOTALDAMAGETAKEN']]"
   ]
  },
  {
   "cell_type": "code",
   "execution_count": 17,
   "id": "50983f31",
   "metadata": {},
   "outputs": [
    {
     "data": {
      "text/html": [
       "<div>\n",
       "<style scoped>\n",
       "    .dataframe tbody tr th:only-of-type {\n",
       "        vertical-align: middle;\n",
       "    }\n",
       "\n",
       "    .dataframe tbody tr th {\n",
       "        vertical-align: top;\n",
       "    }\n",
       "\n",
       "    .dataframe thead th {\n",
       "        text-align: right;\n",
       "    }\n",
       "</style>\n",
       "<table border=\"1\" class=\"dataframe\">\n",
       "  <thead>\n",
       "    <tr style=\"text-align: right;\">\n",
       "      <th></th>\n",
       "      <th>CHAMPIONNAME</th>\n",
       "      <th>TOTALDAMAGEDEALTTOCHAMPIONS</th>\n",
       "      <th>TOTALDAMAGETAKEN</th>\n",
       "    </tr>\n",
       "  </thead>\n",
       "  <tbody>\n",
       "    <tr>\n",
       "      <th>0</th>\n",
       "      <td>Khazix</td>\n",
       "      <td>13660</td>\n",
       "      <td>20452</td>\n",
       "    </tr>\n",
       "    <tr>\n",
       "      <th>1</th>\n",
       "      <td>TahmKench</td>\n",
       "      <td>3625</td>\n",
       "      <td>19840</td>\n",
       "    </tr>\n",
       "    <tr>\n",
       "      <th>2</th>\n",
       "      <td>Singed</td>\n",
       "      <td>7345</td>\n",
       "      <td>20161</td>\n",
       "    </tr>\n",
       "    <tr>\n",
       "      <th>3</th>\n",
       "      <td>Darius</td>\n",
       "      <td>12787</td>\n",
       "      <td>19847</td>\n",
       "    </tr>\n",
       "    <tr>\n",
       "      <th>4</th>\n",
       "      <td>Senna</td>\n",
       "      <td>11242</td>\n",
       "      <td>11033</td>\n",
       "    </tr>\n",
       "    <tr>\n",
       "      <th>...</th>\n",
       "      <td>...</td>\n",
       "      <td>...</td>\n",
       "      <td>...</td>\n",
       "    </tr>\n",
       "    <tr>\n",
       "      <th>14724</th>\n",
       "      <td>Ezreal</td>\n",
       "      <td>4752</td>\n",
       "      <td>4486</td>\n",
       "    </tr>\n",
       "    <tr>\n",
       "      <th>14725</th>\n",
       "      <td>Pyke</td>\n",
       "      <td>2719</td>\n",
       "      <td>4569</td>\n",
       "    </tr>\n",
       "    <tr>\n",
       "      <th>14726</th>\n",
       "      <td>Rumble</td>\n",
       "      <td>6576</td>\n",
       "      <td>7425</td>\n",
       "    </tr>\n",
       "    <tr>\n",
       "      <th>14727</th>\n",
       "      <td>Graves</td>\n",
       "      <td>482</td>\n",
       "      <td>6321</td>\n",
       "    </tr>\n",
       "    <tr>\n",
       "      <th>14728</th>\n",
       "      <td>Kayle</td>\n",
       "      <td>1173</td>\n",
       "      <td>4158</td>\n",
       "    </tr>\n",
       "  </tbody>\n",
       "</table>\n",
       "<p>14729 rows × 3 columns</p>\n",
       "</div>"
      ],
      "text/plain": [
       "      CHAMPIONNAME  TOTALDAMAGEDEALTTOCHAMPIONS  TOTALDAMAGETAKEN\n",
       "0           Khazix                        13660             20452\n",
       "1        TahmKench                         3625             19840\n",
       "2           Singed                         7345             20161\n",
       "3           Darius                        12787             19847\n",
       "4            Senna                        11242             11033\n",
       "...            ...                          ...               ...\n",
       "14724       Ezreal                         4752              4486\n",
       "14725         Pyke                         2719              4569\n",
       "14726       Rumble                         6576              7425\n",
       "14727       Graves                          482              6321\n",
       "14728        Kayle                         1173              4158\n",
       "\n",
       "[14729 rows x 3 columns]"
      ]
     },
     "execution_count": 17,
     "metadata": {},
     "output_type": "execute_result"
    }
   ],
   "source": [
    "take_df"
   ]
  },
  {
   "cell_type": "code",
   "execution_count": 18,
   "id": "2a25fb61",
   "metadata": {},
   "outputs": [],
   "source": [
    "take_df = take_df.groupby('CHAMPIONNAME').mean().round(2).reset_index()"
   ]
  },
  {
   "cell_type": "code",
   "execution_count": 19,
   "id": "350b56e2",
   "metadata": {
    "scrolled": true
   },
   "outputs": [
    {
     "data": {
      "text/html": [
       "<div>\n",
       "<style scoped>\n",
       "    .dataframe tbody tr th:only-of-type {\n",
       "        vertical-align: middle;\n",
       "    }\n",
       "\n",
       "    .dataframe tbody tr th {\n",
       "        vertical-align: top;\n",
       "    }\n",
       "\n",
       "    .dataframe thead th {\n",
       "        text-align: right;\n",
       "    }\n",
       "</style>\n",
       "<table border=\"1\" class=\"dataframe\">\n",
       "  <thead>\n",
       "    <tr style=\"text-align: right;\">\n",
       "      <th></th>\n",
       "      <th>CHAMPIONNAME</th>\n",
       "      <th>TOTALDAMAGEDEALTTOCHAMPIONS</th>\n",
       "      <th>TOTALDAMAGETAKEN</th>\n",
       "    </tr>\n",
       "  </thead>\n",
       "  <tbody>\n",
       "    <tr>\n",
       "      <th>0</th>\n",
       "      <td>Aatrox</td>\n",
       "      <td>19638.45</td>\n",
       "      <td>30609.30</td>\n",
       "    </tr>\n",
       "    <tr>\n",
       "      <th>1</th>\n",
       "      <td>Ahri</td>\n",
       "      <td>18891.18</td>\n",
       "      <td>20133.34</td>\n",
       "    </tr>\n",
       "    <tr>\n",
       "      <th>2</th>\n",
       "      <td>Akali</td>\n",
       "      <td>21327.57</td>\n",
       "      <td>25495.87</td>\n",
       "    </tr>\n",
       "    <tr>\n",
       "      <th>3</th>\n",
       "      <td>Akshan</td>\n",
       "      <td>18933.46</td>\n",
       "      <td>19567.37</td>\n",
       "    </tr>\n",
       "    <tr>\n",
       "      <th>4</th>\n",
       "      <td>Alistar</td>\n",
       "      <td>7292.36</td>\n",
       "      <td>22061.31</td>\n",
       "    </tr>\n",
       "    <tr>\n",
       "      <th>...</th>\n",
       "      <td>...</td>\n",
       "      <td>...</td>\n",
       "      <td>...</td>\n",
       "    </tr>\n",
       "    <tr>\n",
       "      <th>155</th>\n",
       "      <td>Zeri</td>\n",
       "      <td>19277.70</td>\n",
       "      <td>19991.97</td>\n",
       "    </tr>\n",
       "    <tr>\n",
       "      <th>156</th>\n",
       "      <td>Ziggs</td>\n",
       "      <td>20367.65</td>\n",
       "      <td>15448.65</td>\n",
       "    </tr>\n",
       "    <tr>\n",
       "      <th>157</th>\n",
       "      <td>Zilean</td>\n",
       "      <td>10336.74</td>\n",
       "      <td>14571.47</td>\n",
       "    </tr>\n",
       "    <tr>\n",
       "      <th>158</th>\n",
       "      <td>Zoe</td>\n",
       "      <td>18373.78</td>\n",
       "      <td>16566.97</td>\n",
       "    </tr>\n",
       "    <tr>\n",
       "      <th>159</th>\n",
       "      <td>Zyra</td>\n",
       "      <td>20177.00</td>\n",
       "      <td>16175.92</td>\n",
       "    </tr>\n",
       "  </tbody>\n",
       "</table>\n",
       "<p>160 rows × 3 columns</p>\n",
       "</div>"
      ],
      "text/plain": [
       "    CHAMPIONNAME  TOTALDAMAGEDEALTTOCHAMPIONS  TOTALDAMAGETAKEN\n",
       "0         Aatrox                     19638.45          30609.30\n",
       "1           Ahri                     18891.18          20133.34\n",
       "2          Akali                     21327.57          25495.87\n",
       "3         Akshan                     18933.46          19567.37\n",
       "4        Alistar                      7292.36          22061.31\n",
       "..           ...                          ...               ...\n",
       "155         Zeri                     19277.70          19991.97\n",
       "156        Ziggs                     20367.65          15448.65\n",
       "157       Zilean                     10336.74          14571.47\n",
       "158          Zoe                     18373.78          16566.97\n",
       "159         Zyra                     20177.00          16175.92\n",
       "\n",
       "[160 rows x 3 columns]"
      ]
     },
     "execution_count": 19,
     "metadata": {},
     "output_type": "execute_result"
    }
   ],
   "source": [
    "take_df"
   ]
  },
  {
   "cell_type": "code",
   "execution_count": 44,
   "id": "c1e3d472",
   "metadata": {
    "scrolled": false
   },
   "outputs": [
    {
     "data": {
      "application/vnd.plotly.v1+json": {
       "config": {
        "linkText": "Export to plot.ly",
        "plotlyServerURL": "https://plot.ly",
        "showLink": false
       },
       "data": [
        {
         "hovertemplate": "CHAMPIONNAME=Aatrox<br>TOTALDAMAGEDEALTTOCHAMPIONS=%{x}<br>TOTALDAMAGETAKEN=%{y}<extra></extra>",
         "legendgroup": "Aatrox",
         "marker": {
          "color": "#636efa",
          "symbol": "circle"
         },
         "mode": "markers",
         "name": "Aatrox",
         "orientation": "v",
         "showlegend": true,
         "type": "scatter",
         "x": [
          19638.45
         ],
         "xaxis": "x",
         "y": [
          30609.3
         ],
         "yaxis": "y"
        },
        {
         "hovertemplate": "CHAMPIONNAME=Ahri<br>TOTALDAMAGEDEALTTOCHAMPIONS=%{x}<br>TOTALDAMAGETAKEN=%{y}<extra></extra>",
         "legendgroup": "Ahri",
         "marker": {
          "color": "#EF553B",
          "symbol": "circle"
         },
         "mode": "markers",
         "name": "Ahri",
         "orientation": "v",
         "showlegend": true,
         "type": "scatter",
         "x": [
          18891.18
         ],
         "xaxis": "x",
         "y": [
          20133.34
         ],
         "yaxis": "y"
        },
        {
         "hovertemplate": "CHAMPIONNAME=Akali<br>TOTALDAMAGEDEALTTOCHAMPIONS=%{x}<br>TOTALDAMAGETAKEN=%{y}<extra></extra>",
         "legendgroup": "Akali",
         "marker": {
          "color": "#00cc96",
          "symbol": "circle"
         },
         "mode": "markers",
         "name": "Akali",
         "orientation": "v",
         "showlegend": true,
         "type": "scatter",
         "x": [
          21327.57
         ],
         "xaxis": "x",
         "y": [
          25495.87
         ],
         "yaxis": "y"
        },
        {
         "hovertemplate": "CHAMPIONNAME=Akshan<br>TOTALDAMAGEDEALTTOCHAMPIONS=%{x}<br>TOTALDAMAGETAKEN=%{y}<extra></extra>",
         "legendgroup": "Akshan",
         "marker": {
          "color": "#ab63fa",
          "symbol": "circle"
         },
         "mode": "markers",
         "name": "Akshan",
         "orientation": "v",
         "showlegend": true,
         "type": "scatter",
         "x": [
          18933.46
         ],
         "xaxis": "x",
         "y": [
          19567.37
         ],
         "yaxis": "y"
        },
        {
         "hovertemplate": "CHAMPIONNAME=Alistar<br>TOTALDAMAGEDEALTTOCHAMPIONS=%{x}<br>TOTALDAMAGETAKEN=%{y}<extra></extra>",
         "legendgroup": "Alistar",
         "marker": {
          "color": "#FFA15A",
          "symbol": "circle"
         },
         "mode": "markers",
         "name": "Alistar",
         "orientation": "v",
         "showlegend": true,
         "type": "scatter",
         "x": [
          7292.36
         ],
         "xaxis": "x",
         "y": [
          22061.31
         ],
         "yaxis": "y"
        },
        {
         "hovertemplate": "CHAMPIONNAME=Amumu<br>TOTALDAMAGEDEALTTOCHAMPIONS=%{x}<br>TOTALDAMAGETAKEN=%{y}<extra></extra>",
         "legendgroup": "Amumu",
         "marker": {
          "color": "#19d3f3",
          "symbol": "circle"
         },
         "mode": "markers",
         "name": "Amumu",
         "orientation": "v",
         "showlegend": true,
         "type": "scatter",
         "x": [
          16658.61
         ],
         "xaxis": "x",
         "y": [
          27689.18
         ],
         "yaxis": "y"
        },
        {
         "hovertemplate": "CHAMPIONNAME=Anivia<br>TOTALDAMAGEDEALTTOCHAMPIONS=%{x}<br>TOTALDAMAGETAKEN=%{y}<extra></extra>",
         "legendgroup": "Anivia",
         "marker": {
          "color": "#FF6692",
          "symbol": "circle"
         },
         "mode": "markers",
         "name": "Anivia",
         "orientation": "v",
         "showlegend": true,
         "type": "scatter",
         "x": [
          14113
         ],
         "xaxis": "x",
         "y": [
          21533.5
         ],
         "yaxis": "y"
        },
        {
         "hovertemplate": "CHAMPIONNAME=Annie<br>TOTALDAMAGEDEALTTOCHAMPIONS=%{x}<br>TOTALDAMAGETAKEN=%{y}<extra></extra>",
         "legendgroup": "Annie",
         "marker": {
          "color": "#B6E880",
          "symbol": "circle"
         },
         "mode": "markers",
         "name": "Annie",
         "orientation": "v",
         "showlegend": true,
         "type": "scatter",
         "x": [
          17686.1
         ],
         "xaxis": "x",
         "y": [
          15622.3
         ],
         "yaxis": "y"
        },
        {
         "hovertemplate": "CHAMPIONNAME=Aphelios<br>TOTALDAMAGEDEALTTOCHAMPIONS=%{x}<br>TOTALDAMAGETAKEN=%{y}<extra></extra>",
         "legendgroup": "Aphelios",
         "marker": {
          "color": "#FF97FF",
          "symbol": "circle"
         },
         "mode": "markers",
         "name": "Aphelios",
         "orientation": "v",
         "showlegend": true,
         "type": "scatter",
         "x": [
          20698.98
         ],
         "xaxis": "x",
         "y": [
          19677.25
         ],
         "yaxis": "y"
        },
        {
         "hovertemplate": "CHAMPIONNAME=Ashe<br>TOTALDAMAGEDEALTTOCHAMPIONS=%{x}<br>TOTALDAMAGETAKEN=%{y}<extra></extra>",
         "legendgroup": "Ashe",
         "marker": {
          "color": "#FECB52",
          "symbol": "circle"
         },
         "mode": "markers",
         "name": "Ashe",
         "orientation": "v",
         "showlegend": true,
         "type": "scatter",
         "x": [
          17504.53
         ],
         "xaxis": "x",
         "y": [
          19083.51
         ],
         "yaxis": "y"
        },
        {
         "hovertemplate": "CHAMPIONNAME=AurelionSol<br>TOTALDAMAGEDEALTTOCHAMPIONS=%{x}<br>TOTALDAMAGETAKEN=%{y}<extra></extra>",
         "legendgroup": "AurelionSol",
         "marker": {
          "color": "#636efa",
          "symbol": "circle"
         },
         "mode": "markers",
         "name": "AurelionSol",
         "orientation": "v",
         "showlegend": true,
         "type": "scatter",
         "x": [
          15084.9
         ],
         "xaxis": "x",
         "y": [
          20518.7
         ],
         "yaxis": "y"
        },
        {
         "hovertemplate": "CHAMPIONNAME=Azir<br>TOTALDAMAGEDEALTTOCHAMPIONS=%{x}<br>TOTALDAMAGETAKEN=%{y}<extra></extra>",
         "legendgroup": "Azir",
         "marker": {
          "color": "#EF553B",
          "symbol": "circle"
         },
         "mode": "markers",
         "name": "Azir",
         "orientation": "v",
         "showlegend": true,
         "type": "scatter",
         "x": [
          21964.14
         ],
         "xaxis": "x",
         "y": [
          20933.88
         ],
         "yaxis": "y"
        },
        {
         "hovertemplate": "CHAMPIONNAME=Bard<br>TOTALDAMAGEDEALTTOCHAMPIONS=%{x}<br>TOTALDAMAGETAKEN=%{y}<extra></extra>",
         "legendgroup": "Bard",
         "marker": {
          "color": "#00cc96",
          "symbol": "circle"
         },
         "mode": "markers",
         "name": "Bard",
         "orientation": "v",
         "showlegend": true,
         "type": "scatter",
         "x": [
          10957.52
         ],
         "xaxis": "x",
         "y": [
          18648.4
         ],
         "yaxis": "y"
        },
        {
         "hovertemplate": "CHAMPIONNAME=Belveth<br>TOTALDAMAGEDEALTTOCHAMPIONS=%{x}<br>TOTALDAMAGETAKEN=%{y}<extra></extra>",
         "legendgroup": "Belveth",
         "marker": {
          "color": "#ab63fa",
          "symbol": "circle"
         },
         "mode": "markers",
         "name": "Belveth",
         "orientation": "v",
         "showlegend": true,
         "type": "scatter",
         "x": [
          18425.27
         ],
         "xaxis": "x",
         "y": [
          29941.23
         ],
         "yaxis": "y"
        },
        {
         "hovertemplate": "CHAMPIONNAME=Blitzcrank<br>TOTALDAMAGEDEALTTOCHAMPIONS=%{x}<br>TOTALDAMAGETAKEN=%{y}<extra></extra>",
         "legendgroup": "Blitzcrank",
         "marker": {
          "color": "#FFA15A",
          "symbol": "circle"
         },
         "mode": "markers",
         "name": "Blitzcrank",
         "orientation": "v",
         "showlegend": true,
         "type": "scatter",
         "x": [
          8929.52
         ],
         "xaxis": "x",
         "y": [
          20634.06
         ],
         "yaxis": "y"
        },
        {
         "hovertemplate": "CHAMPIONNAME=Brand<br>TOTALDAMAGEDEALTTOCHAMPIONS=%{x}<br>TOTALDAMAGETAKEN=%{y}<extra></extra>",
         "legendgroup": "Brand",
         "marker": {
          "color": "#19d3f3",
          "symbol": "circle"
         },
         "mode": "markers",
         "name": "Brand",
         "orientation": "v",
         "showlegend": true,
         "type": "scatter",
         "x": [
          23178.85
         ],
         "xaxis": "x",
         "y": [
          18349.08
         ],
         "yaxis": "y"
        },
        {
         "hovertemplate": "CHAMPIONNAME=Braum<br>TOTALDAMAGEDEALTTOCHAMPIONS=%{x}<br>TOTALDAMAGETAKEN=%{y}<extra></extra>",
         "legendgroup": "Braum",
         "marker": {
          "color": "#FF6692",
          "symbol": "circle"
         },
         "mode": "markers",
         "name": "Braum",
         "orientation": "v",
         "showlegend": true,
         "type": "scatter",
         "x": [
          8405.67
         ],
         "xaxis": "x",
         "y": [
          23466.67
         ],
         "yaxis": "y"
        },
        {
         "hovertemplate": "CHAMPIONNAME=Caitlyn<br>TOTALDAMAGEDEALTTOCHAMPIONS=%{x}<br>TOTALDAMAGETAKEN=%{y}<extra></extra>",
         "legendgroup": "Caitlyn",
         "marker": {
          "color": "#B6E880",
          "symbol": "circle"
         },
         "mode": "markers",
         "name": "Caitlyn",
         "orientation": "v",
         "showlegend": true,
         "type": "scatter",
         "x": [
          19166.86
         ],
         "xaxis": "x",
         "y": [
          17841.33
         ],
         "yaxis": "y"
        },
        {
         "hovertemplate": "CHAMPIONNAME=Camille<br>TOTALDAMAGEDEALTTOCHAMPIONS=%{x}<br>TOTALDAMAGETAKEN=%{y}<extra></extra>",
         "legendgroup": "Camille",
         "marker": {
          "color": "#FF97FF",
          "symbol": "circle"
         },
         "mode": "markers",
         "name": "Camille",
         "orientation": "v",
         "showlegend": true,
         "type": "scatter",
         "x": [
          16829.96
         ],
         "xaxis": "x",
         "y": [
          24069.52
         ],
         "yaxis": "y"
        },
        {
         "hovertemplate": "CHAMPIONNAME=Cassiopeia<br>TOTALDAMAGEDEALTTOCHAMPIONS=%{x}<br>TOTALDAMAGETAKEN=%{y}<extra></extra>",
         "legendgroup": "Cassiopeia",
         "marker": {
          "color": "#FECB52",
          "symbol": "circle"
         },
         "mode": "markers",
         "name": "Cassiopeia",
         "orientation": "v",
         "showlegend": true,
         "type": "scatter",
         "x": [
          19688.81
         ],
         "xaxis": "x",
         "y": [
          23911.43
         ],
         "yaxis": "y"
        },
        {
         "hovertemplate": "CHAMPIONNAME=Chogath<br>TOTALDAMAGEDEALTTOCHAMPIONS=%{x}<br>TOTALDAMAGETAKEN=%{y}<extra></extra>",
         "legendgroup": "Chogath",
         "marker": {
          "color": "#636efa",
          "symbol": "circle"
         },
         "mode": "markers",
         "name": "Chogath",
         "orientation": "v",
         "showlegend": true,
         "type": "scatter",
         "x": [
          16187.62
         ],
         "xaxis": "x",
         "y": [
          31761.54
         ],
         "yaxis": "y"
        },
        {
         "hovertemplate": "CHAMPIONNAME=Corki<br>TOTALDAMAGEDEALTTOCHAMPIONS=%{x}<br>TOTALDAMAGETAKEN=%{y}<extra></extra>",
         "legendgroup": "Corki",
         "marker": {
          "color": "#EF553B",
          "symbol": "circle"
         },
         "mode": "markers",
         "name": "Corki",
         "orientation": "v",
         "showlegend": true,
         "type": "scatter",
         "x": [
          21928.37
         ],
         "xaxis": "x",
         "y": [
          19366.39
         ],
         "yaxis": "y"
        },
        {
         "hovertemplate": "CHAMPIONNAME=Darius<br>TOTALDAMAGEDEALTTOCHAMPIONS=%{x}<br>TOTALDAMAGETAKEN=%{y}<extra></extra>",
         "legendgroup": "Darius",
         "marker": {
          "color": "#00cc96",
          "symbol": "circle"
         },
         "mode": "markers",
         "name": "Darius",
         "orientation": "v",
         "showlegend": true,
         "type": "scatter",
         "x": [
          17299.82
         ],
         "xaxis": "x",
         "y": [
          25280.17
         ],
         "yaxis": "y"
        },
        {
         "hovertemplate": "CHAMPIONNAME=Diana<br>TOTALDAMAGEDEALTTOCHAMPIONS=%{x}<br>TOTALDAMAGETAKEN=%{y}<extra></extra>",
         "legendgroup": "Diana",
         "marker": {
          "color": "#ab63fa",
          "symbol": "circle"
         },
         "mode": "markers",
         "name": "Diana",
         "orientation": "v",
         "showlegend": true,
         "type": "scatter",
         "x": [
          17769.52
         ],
         "xaxis": "x",
         "y": [
          23377.59
         ],
         "yaxis": "y"
        },
        {
         "hovertemplate": "CHAMPIONNAME=DrMundo<br>TOTALDAMAGEDEALTTOCHAMPIONS=%{x}<br>TOTALDAMAGETAKEN=%{y}<extra></extra>",
         "legendgroup": "DrMundo",
         "marker": {
          "color": "#FFA15A",
          "symbol": "circle"
         },
         "mode": "markers",
         "name": "DrMundo",
         "orientation": "v",
         "showlegend": true,
         "type": "scatter",
         "x": [
          20861.5
         ],
         "xaxis": "x",
         "y": [
          36729
         ],
         "yaxis": "y"
        },
        {
         "hovertemplate": "CHAMPIONNAME=Draven<br>TOTALDAMAGEDEALTTOCHAMPIONS=%{x}<br>TOTALDAMAGETAKEN=%{y}<extra></extra>",
         "legendgroup": "Draven",
         "marker": {
          "color": "#19d3f3",
          "symbol": "circle"
         },
         "mode": "markers",
         "name": "Draven",
         "orientation": "v",
         "showlegend": true,
         "type": "scatter",
         "x": [
          24313.12
         ],
         "xaxis": "x",
         "y": [
          23302.54
         ],
         "yaxis": "y"
        },
        {
         "hovertemplate": "CHAMPIONNAME=Ekko<br>TOTALDAMAGEDEALTTOCHAMPIONS=%{x}<br>TOTALDAMAGETAKEN=%{y}<extra></extra>",
         "legendgroup": "Ekko",
         "marker": {
          "color": "#FF6692",
          "symbol": "circle"
         },
         "mode": "markers",
         "name": "Ekko",
         "orientation": "v",
         "showlegend": true,
         "type": "scatter",
         "x": [
          18815.06
         ],
         "xaxis": "x",
         "y": [
          29480.52
         ],
         "yaxis": "y"
        },
        {
         "hovertemplate": "CHAMPIONNAME=Elise<br>TOTALDAMAGEDEALTTOCHAMPIONS=%{x}<br>TOTALDAMAGETAKEN=%{y}<extra></extra>",
         "legendgroup": "Elise",
         "marker": {
          "color": "#B6E880",
          "symbol": "circle"
         },
         "mode": "markers",
         "name": "Elise",
         "orientation": "v",
         "showlegend": true,
         "type": "scatter",
         "x": [
          17841.68
         ],
         "xaxis": "x",
         "y": [
          23613.42
         ],
         "yaxis": "y"
        },
        {
         "hovertemplate": "CHAMPIONNAME=Evelynn<br>TOTALDAMAGEDEALTTOCHAMPIONS=%{x}<br>TOTALDAMAGETAKEN=%{y}<extra></extra>",
         "legendgroup": "Evelynn",
         "marker": {
          "color": "#FF97FF",
          "symbol": "circle"
         },
         "mode": "markers",
         "name": "Evelynn",
         "orientation": "v",
         "showlegend": true,
         "type": "scatter",
         "x": [
          20993.13
         ],
         "xaxis": "x",
         "y": [
          23759.73
         ],
         "yaxis": "y"
        },
        {
         "hovertemplate": "CHAMPIONNAME=Ezreal<br>TOTALDAMAGEDEALTTOCHAMPIONS=%{x}<br>TOTALDAMAGETAKEN=%{y}<extra></extra>",
         "legendgroup": "Ezreal",
         "marker": {
          "color": "#FECB52",
          "symbol": "circle"
         },
         "mode": "markers",
         "name": "Ezreal",
         "orientation": "v",
         "showlegend": true,
         "type": "scatter",
         "x": [
          22566.07
         ],
         "xaxis": "x",
         "y": [
          18877.42
         ],
         "yaxis": "y"
        },
        {
         "hovertemplate": "CHAMPIONNAME=FiddleSticks<br>TOTALDAMAGEDEALTTOCHAMPIONS=%{x}<br>TOTALDAMAGETAKEN=%{y}<extra></extra>",
         "legendgroup": "FiddleSticks",
         "marker": {
          "color": "#636efa",
          "symbol": "circle"
         },
         "mode": "markers",
         "name": "FiddleSticks",
         "orientation": "v",
         "showlegend": true,
         "type": "scatter",
         "x": [
          19999.09
         ],
         "xaxis": "x",
         "y": [
          27796.39
         ],
         "yaxis": "y"
        },
        {
         "hovertemplate": "CHAMPIONNAME=Fiora<br>TOTALDAMAGEDEALTTOCHAMPIONS=%{x}<br>TOTALDAMAGETAKEN=%{y}<extra></extra>",
         "legendgroup": "Fiora",
         "marker": {
          "color": "#EF553B",
          "symbol": "circle"
         },
         "mode": "markers",
         "name": "Fiora",
         "orientation": "v",
         "showlegend": true,
         "type": "scatter",
         "x": [
          19076.53
         ],
         "xaxis": "x",
         "y": [
          27956.88
         ],
         "yaxis": "y"
        },
        {
         "hovertemplate": "CHAMPIONNAME=Fizz<br>TOTALDAMAGEDEALTTOCHAMPIONS=%{x}<br>TOTALDAMAGETAKEN=%{y}<extra></extra>",
         "legendgroup": "Fizz",
         "marker": {
          "color": "#00cc96",
          "symbol": "circle"
         },
         "mode": "markers",
         "name": "Fizz",
         "orientation": "v",
         "showlegend": true,
         "type": "scatter",
         "x": [
          20725.41
         ],
         "xaxis": "x",
         "y": [
          22617.45
         ],
         "yaxis": "y"
        },
        {
         "hovertemplate": "CHAMPIONNAME=Galio<br>TOTALDAMAGEDEALTTOCHAMPIONS=%{x}<br>TOTALDAMAGETAKEN=%{y}<extra></extra>",
         "legendgroup": "Galio",
         "marker": {
          "color": "#ab63fa",
          "symbol": "circle"
         },
         "mode": "markers",
         "name": "Galio",
         "orientation": "v",
         "showlegend": true,
         "type": "scatter",
         "x": [
          13797.04
         ],
         "xaxis": "x",
         "y": [
          21155.07
         ],
         "yaxis": "y"
        },
        {
         "hovertemplate": "CHAMPIONNAME=Gangplank<br>TOTALDAMAGEDEALTTOCHAMPIONS=%{x}<br>TOTALDAMAGETAKEN=%{y}<extra></extra>",
         "legendgroup": "Gangplank",
         "marker": {
          "color": "#FFA15A",
          "symbol": "circle"
         },
         "mode": "markers",
         "name": "Gangplank",
         "orientation": "v",
         "showlegend": true,
         "type": "scatter",
         "x": [
          20432.88
         ],
         "xaxis": "x",
         "y": [
          24544.24
         ],
         "yaxis": "y"
        },
        {
         "hovertemplate": "CHAMPIONNAME=Garen<br>TOTALDAMAGEDEALTTOCHAMPIONS=%{x}<br>TOTALDAMAGETAKEN=%{y}<extra></extra>",
         "legendgroup": "Garen",
         "marker": {
          "color": "#19d3f3",
          "symbol": "circle"
         },
         "mode": "markers",
         "name": "Garen",
         "orientation": "v",
         "showlegend": true,
         "type": "scatter",
         "x": [
          14660.47
         ],
         "xaxis": "x",
         "y": [
          23526.85
         ],
         "yaxis": "y"
        },
        {
         "hovertemplate": "CHAMPIONNAME=Gnar<br>TOTALDAMAGEDEALTTOCHAMPIONS=%{x}<br>TOTALDAMAGETAKEN=%{y}<extra></extra>",
         "legendgroup": "Gnar",
         "marker": {
          "color": "#FF6692",
          "symbol": "circle"
         },
         "mode": "markers",
         "name": "Gnar",
         "orientation": "v",
         "showlegend": true,
         "type": "scatter",
         "x": [
          20334.63
         ],
         "xaxis": "x",
         "y": [
          26574
         ],
         "yaxis": "y"
        },
        {
         "hovertemplate": "CHAMPIONNAME=Gragas<br>TOTALDAMAGEDEALTTOCHAMPIONS=%{x}<br>TOTALDAMAGETAKEN=%{y}<extra></extra>",
         "legendgroup": "Gragas",
         "marker": {
          "color": "#B6E880",
          "symbol": "circle"
         },
         "mode": "markers",
         "name": "Gragas",
         "orientation": "v",
         "showlegend": true,
         "type": "scatter",
         "x": [
          12955.63
         ],
         "xaxis": "x",
         "y": [
          22416.71
         ],
         "yaxis": "y"
        },
        {
         "hovertemplate": "CHAMPIONNAME=Graves<br>TOTALDAMAGEDEALTTOCHAMPIONS=%{x}<br>TOTALDAMAGETAKEN=%{y}<extra></extra>",
         "legendgroup": "Graves",
         "marker": {
          "color": "#FF97FF",
          "symbol": "circle"
         },
         "mode": "markers",
         "name": "Graves",
         "orientation": "v",
         "showlegend": true,
         "type": "scatter",
         "x": [
          18296.01
         ],
         "xaxis": "x",
         "y": [
          22555.34
         ],
         "yaxis": "y"
        },
        {
         "hovertemplate": "CHAMPIONNAME=Gwen<br>TOTALDAMAGEDEALTTOCHAMPIONS=%{x}<br>TOTALDAMAGETAKEN=%{y}<extra></extra>",
         "legendgroup": "Gwen",
         "marker": {
          "color": "#FECB52",
          "symbol": "circle"
         },
         "mode": "markers",
         "name": "Gwen",
         "orientation": "v",
         "showlegend": true,
         "type": "scatter",
         "x": [
          18230.77
         ],
         "xaxis": "x",
         "y": [
          28095.8
         ],
         "yaxis": "y"
        },
        {
         "hovertemplate": "CHAMPIONNAME=Hecarim<br>TOTALDAMAGEDEALTTOCHAMPIONS=%{x}<br>TOTALDAMAGETAKEN=%{y}<extra></extra>",
         "legendgroup": "Hecarim",
         "marker": {
          "color": "#636efa",
          "symbol": "circle"
         },
         "mode": "markers",
         "name": "Hecarim",
         "orientation": "v",
         "showlegend": true,
         "type": "scatter",
         "x": [
          15482.38
         ],
         "xaxis": "x",
         "y": [
          32965.12
         ],
         "yaxis": "y"
        },
        {
         "hovertemplate": "CHAMPIONNAME=Heimerdinger<br>TOTALDAMAGEDEALTTOCHAMPIONS=%{x}<br>TOTALDAMAGETAKEN=%{y}<extra></extra>",
         "legendgroup": "Heimerdinger",
         "marker": {
          "color": "#EF553B",
          "symbol": "circle"
         },
         "mode": "markers",
         "name": "Heimerdinger",
         "orientation": "v",
         "showlegend": true,
         "type": "scatter",
         "x": [
          19638.71
         ],
         "xaxis": "x",
         "y": [
          14255.8
         ],
         "yaxis": "y"
        },
        {
         "hovertemplate": "CHAMPIONNAME=Illaoi<br>TOTALDAMAGEDEALTTOCHAMPIONS=%{x}<br>TOTALDAMAGETAKEN=%{y}<extra></extra>",
         "legendgroup": "Illaoi",
         "marker": {
          "color": "#00cc96",
          "symbol": "circle"
         },
         "mode": "markers",
         "name": "Illaoi",
         "orientation": "v",
         "showlegend": true,
         "type": "scatter",
         "x": [
          21337.24
         ],
         "xaxis": "x",
         "y": [
          29005.85
         ],
         "yaxis": "y"
        },
        {
         "hovertemplate": "CHAMPIONNAME=Irelia<br>TOTALDAMAGEDEALTTOCHAMPIONS=%{x}<br>TOTALDAMAGETAKEN=%{y}<extra></extra>",
         "legendgroup": "Irelia",
         "marker": {
          "color": "#ab63fa",
          "symbol": "circle"
         },
         "mode": "markers",
         "name": "Irelia",
         "orientation": "v",
         "showlegend": true,
         "type": "scatter",
         "x": [
          21793.73
         ],
         "xaxis": "x",
         "y": [
          29395.08
         ],
         "yaxis": "y"
        },
        {
         "hovertemplate": "CHAMPIONNAME=Ivern<br>TOTALDAMAGEDEALTTOCHAMPIONS=%{x}<br>TOTALDAMAGETAKEN=%{y}<extra></extra>",
         "legendgroup": "Ivern",
         "marker": {
          "color": "#FFA15A",
          "symbol": "circle"
         },
         "mode": "markers",
         "name": "Ivern",
         "orientation": "v",
         "showlegend": true,
         "type": "scatter",
         "x": [
          7651.6
         ],
         "xaxis": "x",
         "y": [
          13670.4
         ],
         "yaxis": "y"
        },
        {
         "hovertemplate": "CHAMPIONNAME=Janna<br>TOTALDAMAGEDEALTTOCHAMPIONS=%{x}<br>TOTALDAMAGETAKEN=%{y}<extra></extra>",
         "legendgroup": "Janna",
         "marker": {
          "color": "#19d3f3",
          "symbol": "circle"
         },
         "mode": "markers",
         "name": "Janna",
         "orientation": "v",
         "showlegend": true,
         "type": "scatter",
         "x": [
          6137.94
         ],
         "xaxis": "x",
         "y": [
          15879.28
         ],
         "yaxis": "y"
        },
        {
         "hovertemplate": "CHAMPIONNAME=JarvanIV<br>TOTALDAMAGEDEALTTOCHAMPIONS=%{x}<br>TOTALDAMAGETAKEN=%{y}<extra></extra>",
         "legendgroup": "JarvanIV",
         "marker": {
          "color": "#FF6692",
          "symbol": "circle"
         },
         "mode": "markers",
         "name": "JarvanIV",
         "orientation": "v",
         "showlegend": true,
         "type": "scatter",
         "x": [
          13108.13
         ],
         "xaxis": "x",
         "y": [
          26594.59
         ],
         "yaxis": "y"
        },
        {
         "hovertemplate": "CHAMPIONNAME=Jax<br>TOTALDAMAGEDEALTTOCHAMPIONS=%{x}<br>TOTALDAMAGETAKEN=%{y}<extra></extra>",
         "legendgroup": "Jax",
         "marker": {
          "color": "#B6E880",
          "symbol": "circle"
         },
         "mode": "markers",
         "name": "Jax",
         "orientation": "v",
         "showlegend": true,
         "type": "scatter",
         "x": [
          17485
         ],
         "xaxis": "x",
         "y": [
          24367.69
         ],
         "yaxis": "y"
        },
        {
         "hovertemplate": "CHAMPIONNAME=Jayce<br>TOTALDAMAGEDEALTTOCHAMPIONS=%{x}<br>TOTALDAMAGETAKEN=%{y}<extra></extra>",
         "legendgroup": "Jayce",
         "marker": {
          "color": "#FF97FF",
          "symbol": "circle"
         },
         "mode": "markers",
         "name": "Jayce",
         "orientation": "v",
         "showlegend": true,
         "type": "scatter",
         "x": [
          20274.4
         ],
         "xaxis": "x",
         "y": [
          19444.47
         ],
         "yaxis": "y"
        },
        {
         "hovertemplate": "CHAMPIONNAME=Jhin<br>TOTALDAMAGEDEALTTOCHAMPIONS=%{x}<br>TOTALDAMAGETAKEN=%{y}<extra></extra>",
         "legendgroup": "Jhin",
         "marker": {
          "color": "#FECB52",
          "symbol": "circle"
         },
         "mode": "markers",
         "name": "Jhin",
         "orientation": "v",
         "showlegend": true,
         "type": "scatter",
         "x": [
          18494.15
         ],
         "xaxis": "x",
         "y": [
          17701.48
         ],
         "yaxis": "y"
        },
        {
         "hovertemplate": "CHAMPIONNAME=Jinx<br>TOTALDAMAGEDEALTTOCHAMPIONS=%{x}<br>TOTALDAMAGETAKEN=%{y}<extra></extra>",
         "legendgroup": "Jinx",
         "marker": {
          "color": "#636efa",
          "symbol": "circle"
         },
         "mode": "markers",
         "name": "Jinx",
         "orientation": "v",
         "showlegend": true,
         "type": "scatter",
         "x": [
          17782.21
         ],
         "xaxis": "x",
         "y": [
          18165.38
         ],
         "yaxis": "y"
        },
        {
         "hovertemplate": "CHAMPIONNAME=Kaisa<br>TOTALDAMAGEDEALTTOCHAMPIONS=%{x}<br>TOTALDAMAGETAKEN=%{y}<extra></extra>",
         "legendgroup": "Kaisa",
         "marker": {
          "color": "#EF553B",
          "symbol": "circle"
         },
         "mode": "markers",
         "name": "Kaisa",
         "orientation": "v",
         "showlegend": true,
         "type": "scatter",
         "x": [
          19870.06
         ],
         "xaxis": "x",
         "y": [
          18495.89
         ],
         "yaxis": "y"
        },
        {
         "hovertemplate": "CHAMPIONNAME=Kalista<br>TOTALDAMAGEDEALTTOCHAMPIONS=%{x}<br>TOTALDAMAGETAKEN=%{y}<extra></extra>",
         "legendgroup": "Kalista",
         "marker": {
          "color": "#00cc96",
          "symbol": "circle"
         },
         "mode": "markers",
         "name": "Kalista",
         "orientation": "v",
         "showlegend": true,
         "type": "scatter",
         "x": [
          17364.41
         ],
         "xaxis": "x",
         "y": [
          19665.68
         ],
         "yaxis": "y"
        },
        {
         "hovertemplate": "CHAMPIONNAME=Karma<br>TOTALDAMAGEDEALTTOCHAMPIONS=%{x}<br>TOTALDAMAGETAKEN=%{y}<extra></extra>",
         "legendgroup": "Karma",
         "marker": {
          "color": "#ab63fa",
          "symbol": "circle"
         },
         "mode": "markers",
         "name": "Karma",
         "orientation": "v",
         "showlegend": true,
         "type": "scatter",
         "x": [
          12503.96
         ],
         "xaxis": "x",
         "y": [
          17644.72
         ],
         "yaxis": "y"
        },
        {
         "hovertemplate": "CHAMPIONNAME=Karthus<br>TOTALDAMAGEDEALTTOCHAMPIONS=%{x}<br>TOTALDAMAGETAKEN=%{y}<extra></extra>",
         "legendgroup": "Karthus",
         "marker": {
          "color": "#FFA15A",
          "symbol": "circle"
         },
         "mode": "markers",
         "name": "Karthus",
         "orientation": "v",
         "showlegend": true,
         "type": "scatter",
         "x": [
          27714.41
         ],
         "xaxis": "x",
         "y": [
          22283.95
         ],
         "yaxis": "y"
        },
        {
         "hovertemplate": "CHAMPIONNAME=Kassadin<br>TOTALDAMAGEDEALTTOCHAMPIONS=%{x}<br>TOTALDAMAGETAKEN=%{y}<extra></extra>",
         "legendgroup": "Kassadin",
         "marker": {
          "color": "#19d3f3",
          "symbol": "circle"
         },
         "mode": "markers",
         "name": "Kassadin",
         "orientation": "v",
         "showlegend": true,
         "type": "scatter",
         "x": [
          16780.79
         ],
         "xaxis": "x",
         "y": [
          25587.68
         ],
         "yaxis": "y"
        },
        {
         "hovertemplate": "CHAMPIONNAME=Katarina<br>TOTALDAMAGEDEALTTOCHAMPIONS=%{x}<br>TOTALDAMAGETAKEN=%{y}<extra></extra>",
         "legendgroup": "Katarina",
         "marker": {
          "color": "#FF6692",
          "symbol": "circle"
         },
         "mode": "markers",
         "name": "Katarina",
         "orientation": "v",
         "showlegend": true,
         "type": "scatter",
         "x": [
          23180.29
         ],
         "xaxis": "x",
         "y": [
          23824.54
         ],
         "yaxis": "y"
        },
        {
         "hovertemplate": "CHAMPIONNAME=Kayle<br>TOTALDAMAGEDEALTTOCHAMPIONS=%{x}<br>TOTALDAMAGETAKEN=%{y}<extra></extra>",
         "legendgroup": "Kayle",
         "marker": {
          "color": "#B6E880",
          "symbol": "circle"
         },
         "mode": "markers",
         "name": "Kayle",
         "orientation": "v",
         "showlegend": true,
         "type": "scatter",
         "x": [
          17518.7
         ],
         "xaxis": "x",
         "y": [
          21146.23
         ],
         "yaxis": "y"
        },
        {
         "hovertemplate": "CHAMPIONNAME=Kayn<br>TOTALDAMAGEDEALTTOCHAMPIONS=%{x}<br>TOTALDAMAGETAKEN=%{y}<extra></extra>",
         "legendgroup": "Kayn",
         "marker": {
          "color": "#FF97FF",
          "symbol": "circle"
         },
         "mode": "markers",
         "name": "Kayn",
         "orientation": "v",
         "showlegend": true,
         "type": "scatter",
         "x": [
          19453.5
         ],
         "xaxis": "x",
         "y": [
          31326.58
         ],
         "yaxis": "y"
        },
        {
         "hovertemplate": "CHAMPIONNAME=Kennen<br>TOTALDAMAGEDEALTTOCHAMPIONS=%{x}<br>TOTALDAMAGETAKEN=%{y}<extra></extra>",
         "legendgroup": "Kennen",
         "marker": {
          "color": "#FECB52",
          "symbol": "circle"
         },
         "mode": "markers",
         "name": "Kennen",
         "orientation": "v",
         "showlegend": true,
         "type": "scatter",
         "x": [
          23323.69
         ],
         "xaxis": "x",
         "y": [
          21774.31
         ],
         "yaxis": "y"
        },
        {
         "hovertemplate": "CHAMPIONNAME=Khazix<br>TOTALDAMAGEDEALTTOCHAMPIONS=%{x}<br>TOTALDAMAGETAKEN=%{y}<extra></extra>",
         "legendgroup": "Khazix",
         "marker": {
          "color": "#636efa",
          "symbol": "circle"
         },
         "mode": "markers",
         "name": "Khazix",
         "orientation": "v",
         "showlegend": true,
         "type": "scatter",
         "x": [
          15413.02
         ],
         "xaxis": "x",
         "y": [
          25576.05
         ],
         "yaxis": "y"
        },
        {
         "hovertemplate": "CHAMPIONNAME=Kindred<br>TOTALDAMAGEDEALTTOCHAMPIONS=%{x}<br>TOTALDAMAGETAKEN=%{y}<extra></extra>",
         "legendgroup": "Kindred",
         "marker": {
          "color": "#EF553B",
          "symbol": "circle"
         },
         "mode": "markers",
         "name": "Kindred",
         "orientation": "v",
         "showlegend": true,
         "type": "scatter",
         "x": [
          21868.39
         ],
         "xaxis": "x",
         "y": [
          27819.85
         ],
         "yaxis": "y"
        },
        {
         "hovertemplate": "CHAMPIONNAME=Kled<br>TOTALDAMAGEDEALTTOCHAMPIONS=%{x}<br>TOTALDAMAGETAKEN=%{y}<extra></extra>",
         "legendgroup": "Kled",
         "marker": {
          "color": "#00cc96",
          "symbol": "circle"
         },
         "mode": "markers",
         "name": "Kled",
         "orientation": "v",
         "showlegend": true,
         "type": "scatter",
         "x": [
          21950.2
         ],
         "xaxis": "x",
         "y": [
          38970.8
         ],
         "yaxis": "y"
        },
        {
         "hovertemplate": "CHAMPIONNAME=KogMaw<br>TOTALDAMAGEDEALTTOCHAMPIONS=%{x}<br>TOTALDAMAGETAKEN=%{y}<extra></extra>",
         "legendgroup": "KogMaw",
         "marker": {
          "color": "#ab63fa",
          "symbol": "circle"
         },
         "mode": "markers",
         "name": "KogMaw",
         "orientation": "v",
         "showlegend": true,
         "type": "scatter",
         "x": [
          25860.39
         ],
         "xaxis": "x",
         "y": [
          21104.46
         ],
         "yaxis": "y"
        },
        {
         "hovertemplate": "CHAMPIONNAME=Leblanc<br>TOTALDAMAGEDEALTTOCHAMPIONS=%{x}<br>TOTALDAMAGETAKEN=%{y}<extra></extra>",
         "legendgroup": "Leblanc",
         "marker": {
          "color": "#FFA15A",
          "symbol": "circle"
         },
         "mode": "markers",
         "name": "Leblanc",
         "orientation": "v",
         "showlegend": true,
         "type": "scatter",
         "x": [
          20014.93
         ],
         "xaxis": "x",
         "y": [
          21682.1
         ],
         "yaxis": "y"
        },
        {
         "hovertemplate": "CHAMPIONNAME=LeeSin<br>TOTALDAMAGEDEALTTOCHAMPIONS=%{x}<br>TOTALDAMAGETAKEN=%{y}<extra></extra>",
         "legendgroup": "LeeSin",
         "marker": {
          "color": "#19d3f3",
          "symbol": "circle"
         },
         "mode": "markers",
         "name": "LeeSin",
         "orientation": "v",
         "showlegend": true,
         "type": "scatter",
         "x": [
          15127.95
         ],
         "xaxis": "x",
         "y": [
          29089.54
         ],
         "yaxis": "y"
        },
        {
         "hovertemplate": "CHAMPIONNAME=Leona<br>TOTALDAMAGEDEALTTOCHAMPIONS=%{x}<br>TOTALDAMAGETAKEN=%{y}<extra></extra>",
         "legendgroup": "Leona",
         "marker": {
          "color": "#FF6692",
          "symbol": "circle"
         },
         "mode": "markers",
         "name": "Leona",
         "orientation": "v",
         "showlegend": true,
         "type": "scatter",
         "x": [
          6419.93
         ],
         "xaxis": "x",
         "y": [
          20585.52
         ],
         "yaxis": "y"
        },
        {
         "hovertemplate": "CHAMPIONNAME=Lillia<br>TOTALDAMAGEDEALTTOCHAMPIONS=%{x}<br>TOTALDAMAGETAKEN=%{y}<extra></extra>",
         "legendgroup": "Lillia",
         "marker": {
          "color": "#B6E880",
          "symbol": "circle"
         },
         "mode": "markers",
         "name": "Lillia",
         "orientation": "v",
         "showlegend": true,
         "type": "scatter",
         "x": [
          22259.79
         ],
         "xaxis": "x",
         "y": [
          27048.35
         ],
         "yaxis": "y"
        },
        {
         "hovertemplate": "CHAMPIONNAME=Lissandra<br>TOTALDAMAGEDEALTTOCHAMPIONS=%{x}<br>TOTALDAMAGETAKEN=%{y}<extra></extra>",
         "legendgroup": "Lissandra",
         "marker": {
          "color": "#FF97FF",
          "symbol": "circle"
         },
         "mode": "markers",
         "name": "Lissandra",
         "orientation": "v",
         "showlegend": true,
         "type": "scatter",
         "x": [
          18756.17
         ],
         "xaxis": "x",
         "y": [
          21756.9
         ],
         "yaxis": "y"
        },
        {
         "hovertemplate": "CHAMPIONNAME=Lucian<br>TOTALDAMAGEDEALTTOCHAMPIONS=%{x}<br>TOTALDAMAGETAKEN=%{y}<extra></extra>",
         "legendgroup": "Lucian",
         "marker": {
          "color": "#FECB52",
          "symbol": "circle"
         },
         "mode": "markers",
         "name": "Lucian",
         "orientation": "v",
         "showlegend": true,
         "type": "scatter",
         "x": [
          20394.54
         ],
         "xaxis": "x",
         "y": [
          20490.54
         ],
         "yaxis": "y"
        },
        {
         "hovertemplate": "CHAMPIONNAME=Lulu<br>TOTALDAMAGEDEALTTOCHAMPIONS=%{x}<br>TOTALDAMAGETAKEN=%{y}<extra></extra>",
         "legendgroup": "Lulu",
         "marker": {
          "color": "#636efa",
          "symbol": "circle"
         },
         "mode": "markers",
         "name": "Lulu",
         "orientation": "v",
         "showlegend": true,
         "type": "scatter",
         "x": [
          5513.32
         ],
         "xaxis": "x",
         "y": [
          14605.63
         ],
         "yaxis": "y"
        },
        {
         "hovertemplate": "CHAMPIONNAME=Lux<br>TOTALDAMAGEDEALTTOCHAMPIONS=%{x}<br>TOTALDAMAGETAKEN=%{y}<extra></extra>",
         "legendgroup": "Lux",
         "marker": {
          "color": "#EF553B",
          "symbol": "circle"
         },
         "mode": "markers",
         "name": "Lux",
         "orientation": "v",
         "showlegend": true,
         "type": "scatter",
         "x": [
          17243.84
         ],
         "xaxis": "x",
         "y": [
          14261.35
         ],
         "yaxis": "y"
        },
        {
         "hovertemplate": "CHAMPIONNAME=Malphite<br>TOTALDAMAGEDEALTTOCHAMPIONS=%{x}<br>TOTALDAMAGETAKEN=%{y}<extra></extra>",
         "legendgroup": "Malphite",
         "marker": {
          "color": "#00cc96",
          "symbol": "circle"
         },
         "mode": "markers",
         "name": "Malphite",
         "orientation": "v",
         "showlegend": true,
         "type": "scatter",
         "x": [
          17271.92
         ],
         "xaxis": "x",
         "y": [
          21776.12
         ],
         "yaxis": "y"
        },
        {
         "hovertemplate": "CHAMPIONNAME=Malzahar<br>TOTALDAMAGEDEALTTOCHAMPIONS=%{x}<br>TOTALDAMAGETAKEN=%{y}<extra></extra>",
         "legendgroup": "Malzahar",
         "marker": {
          "color": "#ab63fa",
          "symbol": "circle"
         },
         "mode": "markers",
         "name": "Malzahar",
         "orientation": "v",
         "showlegend": true,
         "type": "scatter",
         "x": [
          21943.75
         ],
         "xaxis": "x",
         "y": [
          17610.5
         ],
         "yaxis": "y"
        },
        {
         "hovertemplate": "CHAMPIONNAME=Maokai<br>TOTALDAMAGEDEALTTOCHAMPIONS=%{x}<br>TOTALDAMAGETAKEN=%{y}<extra></extra>",
         "legendgroup": "Maokai",
         "marker": {
          "color": "#FFA15A",
          "symbol": "circle"
         },
         "mode": "markers",
         "name": "Maokai",
         "orientation": "v",
         "showlegend": true,
         "type": "scatter",
         "x": [
          12145.98
         ],
         "xaxis": "x",
         "y": [
          23986.78
         ],
         "yaxis": "y"
        },
        {
         "hovertemplate": "CHAMPIONNAME=MasterYi<br>TOTALDAMAGEDEALTTOCHAMPIONS=%{x}<br>TOTALDAMAGETAKEN=%{y}<extra></extra>",
         "legendgroup": "MasterYi",
         "marker": {
          "color": "#19d3f3",
          "symbol": "circle"
         },
         "mode": "markers",
         "name": "MasterYi",
         "orientation": "v",
         "showlegend": true,
         "type": "scatter",
         "x": [
          18723.09
         ],
         "xaxis": "x",
         "y": [
          26112.7
         ],
         "yaxis": "y"
        },
        {
         "hovertemplate": "CHAMPIONNAME=MissFortune<br>TOTALDAMAGEDEALTTOCHAMPIONS=%{x}<br>TOTALDAMAGETAKEN=%{y}<extra></extra>",
         "legendgroup": "MissFortune",
         "marker": {
          "color": "#FF6692",
          "symbol": "circle"
         },
         "mode": "markers",
         "name": "MissFortune",
         "orientation": "v",
         "showlegend": true,
         "type": "scatter",
         "x": [
          19496.57
         ],
         "xaxis": "x",
         "y": [
          17488.28
         ],
         "yaxis": "y"
        },
        {
         "hovertemplate": "CHAMPIONNAME=MonkeyKing<br>TOTALDAMAGEDEALTTOCHAMPIONS=%{x}<br>TOTALDAMAGETAKEN=%{y}<extra></extra>",
         "legendgroup": "MonkeyKing",
         "marker": {
          "color": "#B6E880",
          "symbol": "circle"
         },
         "mode": "markers",
         "name": "MonkeyKing",
         "orientation": "v",
         "showlegend": true,
         "type": "scatter",
         "x": [
          14995.87
         ],
         "xaxis": "x",
         "y": [
          26261.66
         ],
         "yaxis": "y"
        },
        {
         "hovertemplate": "CHAMPIONNAME=Mordekaiser<br>TOTALDAMAGEDEALTTOCHAMPIONS=%{x}<br>TOTALDAMAGETAKEN=%{y}<extra></extra>",
         "legendgroup": "Mordekaiser",
         "marker": {
          "color": "#FF97FF",
          "symbol": "circle"
         },
         "mode": "markers",
         "name": "Mordekaiser",
         "orientation": "v",
         "showlegend": true,
         "type": "scatter",
         "x": [
          21948.27
         ],
         "xaxis": "x",
         "y": [
          31010.57
         ],
         "yaxis": "y"
        },
        {
         "hovertemplate": "CHAMPIONNAME=Morgana<br>TOTALDAMAGEDEALTTOCHAMPIONS=%{x}<br>TOTALDAMAGETAKEN=%{y}<extra></extra>",
         "legendgroup": "Morgana",
         "marker": {
          "color": "#FECB52",
          "symbol": "circle"
         },
         "mode": "markers",
         "name": "Morgana",
         "orientation": "v",
         "showlegend": true,
         "type": "scatter",
         "x": [
          12700.79
         ],
         "xaxis": "x",
         "y": [
          16875.23
         ],
         "yaxis": "y"
        },
        {
         "hovertemplate": "CHAMPIONNAME=Nami<br>TOTALDAMAGEDEALTTOCHAMPIONS=%{x}<br>TOTALDAMAGETAKEN=%{y}<extra></extra>",
         "legendgroup": "Nami",
         "marker": {
          "color": "#636efa",
          "symbol": "circle"
         },
         "mode": "markers",
         "name": "Nami",
         "orientation": "v",
         "showlegend": true,
         "type": "scatter",
         "x": [
          8732.87
         ],
         "xaxis": "x",
         "y": [
          16742.19
         ],
         "yaxis": "y"
        },
        {
         "hovertemplate": "CHAMPIONNAME=Nasus<br>TOTALDAMAGEDEALTTOCHAMPIONS=%{x}<br>TOTALDAMAGETAKEN=%{y}<extra></extra>",
         "legendgroup": "Nasus",
         "marker": {
          "color": "#EF553B",
          "symbol": "circle"
         },
         "mode": "markers",
         "name": "Nasus",
         "orientation": "v",
         "showlegend": true,
         "type": "scatter",
         "x": [
          18591.8
         ],
         "xaxis": "x",
         "y": [
          31618.47
         ],
         "yaxis": "y"
        },
        {
         "hovertemplate": "CHAMPIONNAME=Nautilus<br>TOTALDAMAGEDEALTTOCHAMPIONS=%{x}<br>TOTALDAMAGETAKEN=%{y}<extra></extra>",
         "legendgroup": "Nautilus",
         "marker": {
          "color": "#00cc96",
          "symbol": "circle"
         },
         "mode": "markers",
         "name": "Nautilus",
         "orientation": "v",
         "showlegend": true,
         "type": "scatter",
         "x": [
          8993.36
         ],
         "xaxis": "x",
         "y": [
          20153.06
         ],
         "yaxis": "y"
        },
        {
         "hovertemplate": "CHAMPIONNAME=Neeko<br>TOTALDAMAGEDEALTTOCHAMPIONS=%{x}<br>TOTALDAMAGETAKEN=%{y}<extra></extra>",
         "legendgroup": "Neeko",
         "marker": {
          "color": "#ab63fa",
          "symbol": "circle"
         },
         "mode": "markers",
         "name": "Neeko",
         "orientation": "v",
         "showlegend": true,
         "type": "scatter",
         "x": [
          14854.18
         ],
         "xaxis": "x",
         "y": [
          17083.6
         ],
         "yaxis": "y"
        },
        {
         "hovertemplate": "CHAMPIONNAME=Nidalee<br>TOTALDAMAGEDEALTTOCHAMPIONS=%{x}<br>TOTALDAMAGETAKEN=%{y}<extra></extra>",
         "legendgroup": "Nidalee",
         "marker": {
          "color": "#FFA15A",
          "symbol": "circle"
         },
         "mode": "markers",
         "name": "Nidalee",
         "orientation": "v",
         "showlegend": true,
         "type": "scatter",
         "x": [
          15477.42
         ],
         "xaxis": "x",
         "y": [
          25368.32
         ],
         "yaxis": "y"
        },
        {
         "hovertemplate": "CHAMPIONNAME=Nocturne<br>TOTALDAMAGEDEALTTOCHAMPIONS=%{x}<br>TOTALDAMAGETAKEN=%{y}<extra></extra>",
         "legendgroup": "Nocturne",
         "marker": {
          "color": "#19d3f3",
          "symbol": "circle"
         },
         "mode": "markers",
         "name": "Nocturne",
         "orientation": "v",
         "showlegend": true,
         "type": "scatter",
         "x": [
          15995.06
         ],
         "xaxis": "x",
         "y": [
          28585.97
         ],
         "yaxis": "y"
        },
        {
         "hovertemplate": "CHAMPIONNAME=Nunu<br>TOTALDAMAGEDEALTTOCHAMPIONS=%{x}<br>TOTALDAMAGETAKEN=%{y}<extra></extra>",
         "legendgroup": "Nunu",
         "marker": {
          "color": "#FF6692",
          "symbol": "circle"
         },
         "mode": "markers",
         "name": "Nunu",
         "orientation": "v",
         "showlegend": true,
         "type": "scatter",
         "x": [
          12801
         ],
         "xaxis": "x",
         "y": [
          27952.09
         ],
         "yaxis": "y"
        },
        {
         "hovertemplate": "CHAMPIONNAME=Olaf<br>TOTALDAMAGEDEALTTOCHAMPIONS=%{x}<br>TOTALDAMAGETAKEN=%{y}<extra></extra>",
         "legendgroup": "Olaf",
         "marker": {
          "color": "#B6E880",
          "symbol": "circle"
         },
         "mode": "markers",
         "name": "Olaf",
         "orientation": "v",
         "showlegend": true,
         "type": "scatter",
         "x": [
          18339.67
         ],
         "xaxis": "x",
         "y": [
          26994.26
         ],
         "yaxis": "y"
        },
        {
         "hovertemplate": "CHAMPIONNAME=Orianna<br>TOTALDAMAGEDEALTTOCHAMPIONS=%{x}<br>TOTALDAMAGETAKEN=%{y}<extra></extra>",
         "legendgroup": "Orianna",
         "marker": {
          "color": "#FF97FF",
          "symbol": "circle"
         },
         "mode": "markers",
         "name": "Orianna",
         "orientation": "v",
         "showlegend": true,
         "type": "scatter",
         "x": [
          20477.08
         ],
         "xaxis": "x",
         "y": [
          18820.15
         ],
         "yaxis": "y"
        },
        {
         "hovertemplate": "CHAMPIONNAME=Ornn<br>TOTALDAMAGEDEALTTOCHAMPIONS=%{x}<br>TOTALDAMAGETAKEN=%{y}<extra></extra>",
         "legendgroup": "Ornn",
         "marker": {
          "color": "#FECB52",
          "symbol": "circle"
         },
         "mode": "markers",
         "name": "Ornn",
         "orientation": "v",
         "showlegend": true,
         "type": "scatter",
         "x": [
          15152.55
         ],
         "xaxis": "x",
         "y": [
          26233.38
         ],
         "yaxis": "y"
        },
        {
         "hovertemplate": "CHAMPIONNAME=Pantheon<br>TOTALDAMAGEDEALTTOCHAMPIONS=%{x}<br>TOTALDAMAGETAKEN=%{y}<extra></extra>",
         "legendgroup": "Pantheon",
         "marker": {
          "color": "#636efa",
          "symbol": "circle"
         },
         "mode": "markers",
         "name": "Pantheon",
         "orientation": "v",
         "showlegend": true,
         "type": "scatter",
         "x": [
          16492.54
         ],
         "xaxis": "x",
         "y": [
          22136.09
         ],
         "yaxis": "y"
        },
        {
         "hovertemplate": "CHAMPIONNAME=Poppy<br>TOTALDAMAGEDEALTTOCHAMPIONS=%{x}<br>TOTALDAMAGETAKEN=%{y}<extra></extra>",
         "legendgroup": "Poppy",
         "marker": {
          "color": "#EF553B",
          "symbol": "circle"
         },
         "mode": "markers",
         "name": "Poppy",
         "orientation": "v",
         "showlegend": true,
         "type": "scatter",
         "x": [
          15109.11
         ],
         "xaxis": "x",
         "y": [
          23586.33
         ],
         "yaxis": "y"
        },
        {
         "hovertemplate": "CHAMPIONNAME=Pyke<br>TOTALDAMAGEDEALTTOCHAMPIONS=%{x}<br>TOTALDAMAGETAKEN=%{y}<extra></extra>",
         "legendgroup": "Pyke",
         "marker": {
          "color": "#00cc96",
          "symbol": "circle"
         },
         "mode": "markers",
         "name": "Pyke",
         "orientation": "v",
         "showlegend": true,
         "type": "scatter",
         "x": [
          9987.22
         ],
         "xaxis": "x",
         "y": [
          19128.71
         ],
         "yaxis": "y"
        },
        {
         "hovertemplate": "CHAMPIONNAME=Qiyana<br>TOTALDAMAGEDEALTTOCHAMPIONS=%{x}<br>TOTALDAMAGETAKEN=%{y}<extra></extra>",
         "legendgroup": "Qiyana",
         "marker": {
          "color": "#ab63fa",
          "symbol": "circle"
         },
         "mode": "markers",
         "name": "Qiyana",
         "orientation": "v",
         "showlegend": true,
         "type": "scatter",
         "x": [
          16632.61
         ],
         "xaxis": "x",
         "y": [
          18635.06
         ],
         "yaxis": "y"
        },
        {
         "hovertemplate": "CHAMPIONNAME=Quinn<br>TOTALDAMAGEDEALTTOCHAMPIONS=%{x}<br>TOTALDAMAGETAKEN=%{y}<extra></extra>",
         "legendgroup": "Quinn",
         "marker": {
          "color": "#FFA15A",
          "symbol": "circle"
         },
         "mode": "markers",
         "name": "Quinn",
         "orientation": "v",
         "showlegend": true,
         "type": "scatter",
         "x": [
          22881.81
         ],
         "xaxis": "x",
         "y": [
          23028.38
         ],
         "yaxis": "y"
        },
        {
         "hovertemplate": "CHAMPIONNAME=Rakan<br>TOTALDAMAGEDEALTTOCHAMPIONS=%{x}<br>TOTALDAMAGETAKEN=%{y}<extra></extra>",
         "legendgroup": "Rakan",
         "marker": {
          "color": "#19d3f3",
          "symbol": "circle"
         },
         "mode": "markers",
         "name": "Rakan",
         "orientation": "v",
         "showlegend": true,
         "type": "scatter",
         "x": [
          6440.46
         ],
         "xaxis": "x",
         "y": [
          17230.25
         ],
         "yaxis": "y"
        },
        {
         "hovertemplate": "CHAMPIONNAME=Rammus<br>TOTALDAMAGEDEALTTOCHAMPIONS=%{x}<br>TOTALDAMAGETAKEN=%{y}<extra></extra>",
         "legendgroup": "Rammus",
         "marker": {
          "color": "#FF6692",
          "symbol": "circle"
         },
         "mode": "markers",
         "name": "Rammus",
         "orientation": "v",
         "showlegend": true,
         "type": "scatter",
         "x": [
          13912.14
         ],
         "xaxis": "x",
         "y": [
          25888.08
         ],
         "yaxis": "y"
        },
        {
         "hovertemplate": "CHAMPIONNAME=RekSai<br>TOTALDAMAGEDEALTTOCHAMPIONS=%{x}<br>TOTALDAMAGETAKEN=%{y}<extra></extra>",
         "legendgroup": "RekSai",
         "marker": {
          "color": "#B6E880",
          "symbol": "circle"
         },
         "mode": "markers",
         "name": "RekSai",
         "orientation": "v",
         "showlegend": true,
         "type": "scatter",
         "x": [
          15544.38
         ],
         "xaxis": "x",
         "y": [
          24848.97
         ],
         "yaxis": "y"
        },
        {
         "hovertemplate": "CHAMPIONNAME=Rell<br>TOTALDAMAGEDEALTTOCHAMPIONS=%{x}<br>TOTALDAMAGETAKEN=%{y}<extra></extra>",
         "legendgroup": "Rell",
         "marker": {
          "color": "#FF97FF",
          "symbol": "circle"
         },
         "mode": "markers",
         "name": "Rell",
         "orientation": "v",
         "showlegend": true,
         "type": "scatter",
         "x": [
          7563.12
         ],
         "xaxis": "x",
         "y": [
          18031.62
         ],
         "yaxis": "y"
        },
        {
         "hovertemplate": "CHAMPIONNAME=Renata<br>TOTALDAMAGEDEALTTOCHAMPIONS=%{x}<br>TOTALDAMAGETAKEN=%{y}<extra></extra>",
         "legendgroup": "Renata",
         "marker": {
          "color": "#FECB52",
          "symbol": "circle"
         },
         "mode": "markers",
         "name": "Renata",
         "orientation": "v",
         "showlegend": true,
         "type": "scatter",
         "x": [
          9259.19
         ],
         "xaxis": "x",
         "y": [
          18976.28
         ],
         "yaxis": "y"
        },
        {
         "hovertemplate": "CHAMPIONNAME=Renekton<br>TOTALDAMAGEDEALTTOCHAMPIONS=%{x}<br>TOTALDAMAGETAKEN=%{y}<extra></extra>",
         "legendgroup": "Renekton",
         "marker": {
          "color": "#636efa",
          "symbol": "circle"
         },
         "mode": "markers",
         "name": "Renekton",
         "orientation": "v",
         "showlegend": true,
         "type": "scatter",
         "x": [
          16001
         ],
         "xaxis": "x",
         "y": [
          30408.26
         ],
         "yaxis": "y"
        },
        {
         "hovertemplate": "CHAMPIONNAME=Rengar<br>TOTALDAMAGEDEALTTOCHAMPIONS=%{x}<br>TOTALDAMAGETAKEN=%{y}<extra></extra>",
         "legendgroup": "Rengar",
         "marker": {
          "color": "#EF553B",
          "symbol": "circle"
         },
         "mode": "markers",
         "name": "Rengar",
         "orientation": "v",
         "showlegend": true,
         "type": "scatter",
         "x": [
          15423.22
         ],
         "xaxis": "x",
         "y": [
          25126.39
         ],
         "yaxis": "y"
        },
        {
         "hovertemplate": "CHAMPIONNAME=Riven<br>TOTALDAMAGEDEALTTOCHAMPIONS=%{x}<br>TOTALDAMAGETAKEN=%{y}<extra></extra>",
         "legendgroup": "Riven",
         "marker": {
          "color": "#00cc96",
          "symbol": "circle"
         },
         "mode": "markers",
         "name": "Riven",
         "orientation": "v",
         "showlegend": true,
         "type": "scatter",
         "x": [
          15444.02
         ],
         "xaxis": "x",
         "y": [
          24400
         ],
         "yaxis": "y"
        },
        {
         "hovertemplate": "CHAMPIONNAME=Rumble<br>TOTALDAMAGEDEALTTOCHAMPIONS=%{x}<br>TOTALDAMAGETAKEN=%{y}<extra></extra>",
         "legendgroup": "Rumble",
         "marker": {
          "color": "#ab63fa",
          "symbol": "circle"
         },
         "mode": "markers",
         "name": "Rumble",
         "orientation": "v",
         "showlegend": true,
         "type": "scatter",
         "x": [
          21962.76
         ],
         "xaxis": "x",
         "y": [
          23082.24
         ],
         "yaxis": "y"
        },
        {
         "hovertemplate": "CHAMPIONNAME=Ryze<br>TOTALDAMAGEDEALTTOCHAMPIONS=%{x}<br>TOTALDAMAGETAKEN=%{y}<extra></extra>",
         "legendgroup": "Ryze",
         "marker": {
          "color": "#FFA15A",
          "symbol": "circle"
         },
         "mode": "markers",
         "name": "Ryze",
         "orientation": "v",
         "showlegend": true,
         "type": "scatter",
         "x": [
          18684.24
         ],
         "xaxis": "x",
         "y": [
          23599.83
         ],
         "yaxis": "y"
        },
        {
         "hovertemplate": "CHAMPIONNAME=Samira<br>TOTALDAMAGEDEALTTOCHAMPIONS=%{x}<br>TOTALDAMAGETAKEN=%{y}<extra></extra>",
         "legendgroup": "Samira",
         "marker": {
          "color": "#19d3f3",
          "symbol": "circle"
         },
         "mode": "markers",
         "name": "Samira",
         "orientation": "v",
         "showlegend": true,
         "type": "scatter",
         "x": [
          20713.03
         ],
         "xaxis": "x",
         "y": [
          22238
         ],
         "yaxis": "y"
        },
        {
         "hovertemplate": "CHAMPIONNAME=Sejuani<br>TOTALDAMAGEDEALTTOCHAMPIONS=%{x}<br>TOTALDAMAGETAKEN=%{y}<extra></extra>",
         "legendgroup": "Sejuani",
         "marker": {
          "color": "#FF6692",
          "symbol": "circle"
         },
         "mode": "markers",
         "name": "Sejuani",
         "orientation": "v",
         "showlegend": true,
         "type": "scatter",
         "x": [
          18897.68
         ],
         "xaxis": "x",
         "y": [
          34535.02
         ],
         "yaxis": "y"
        },
        {
         "hovertemplate": "CHAMPIONNAME=Senna<br>TOTALDAMAGEDEALTTOCHAMPIONS=%{x}<br>TOTALDAMAGETAKEN=%{y}<extra></extra>",
         "legendgroup": "Senna",
         "marker": {
          "color": "#B6E880",
          "symbol": "circle"
         },
         "mode": "markers",
         "name": "Senna",
         "orientation": "v",
         "showlegend": true,
         "type": "scatter",
         "x": [
          17195.81
         ],
         "xaxis": "x",
         "y": [
          17436.66
         ],
         "yaxis": "y"
        },
        {
         "hovertemplate": "CHAMPIONNAME=Seraphine<br>TOTALDAMAGEDEALTTOCHAMPIONS=%{x}<br>TOTALDAMAGETAKEN=%{y}<extra></extra>",
         "legendgroup": "Seraphine",
         "marker": {
          "color": "#FF97FF",
          "symbol": "circle"
         },
         "mode": "markers",
         "name": "Seraphine",
         "orientation": "v",
         "showlegend": true,
         "type": "scatter",
         "x": [
          11980.12
         ],
         "xaxis": "x",
         "y": [
          16492.5
         ],
         "yaxis": "y"
        },
        {
         "hovertemplate": "CHAMPIONNAME=Sett<br>TOTALDAMAGEDEALTTOCHAMPIONS=%{x}<br>TOTALDAMAGETAKEN=%{y}<extra></extra>",
         "legendgroup": "Sett",
         "marker": {
          "color": "#FECB52",
          "symbol": "circle"
         },
         "mode": "markers",
         "name": "Sett",
         "orientation": "v",
         "showlegend": true,
         "type": "scatter",
         "x": [
          18492.09
         ],
         "xaxis": "x",
         "y": [
          28688.49
         ],
         "yaxis": "y"
        },
        {
         "hovertemplate": "CHAMPIONNAME=Shaco<br>TOTALDAMAGEDEALTTOCHAMPIONS=%{x}<br>TOTALDAMAGETAKEN=%{y}<extra></extra>",
         "legendgroup": "Shaco",
         "marker": {
          "color": "#636efa",
          "symbol": "circle"
         },
         "mode": "markers",
         "name": "Shaco",
         "orientation": "v",
         "showlegend": true,
         "type": "scatter",
         "x": [
          17212.75
         ],
         "xaxis": "x",
         "y": [
          21167.88
         ],
         "yaxis": "y"
        },
        {
         "hovertemplate": "CHAMPIONNAME=Shen<br>TOTALDAMAGEDEALTTOCHAMPIONS=%{x}<br>TOTALDAMAGETAKEN=%{y}<extra></extra>",
         "legendgroup": "Shen",
         "marker": {
          "color": "#EF553B",
          "symbol": "circle"
         },
         "mode": "markers",
         "name": "Shen",
         "orientation": "v",
         "showlegend": true,
         "type": "scatter",
         "x": [
          11852.29
         ],
         "xaxis": "x",
         "y": [
          24101.92
         ],
         "yaxis": "y"
        },
        {
         "hovertemplate": "CHAMPIONNAME=Shyvana<br>TOTALDAMAGEDEALTTOCHAMPIONS=%{x}<br>TOTALDAMAGETAKEN=%{y}<extra></extra>",
         "legendgroup": "Shyvana",
         "marker": {
          "color": "#00cc96",
          "symbol": "circle"
         },
         "mode": "markers",
         "name": "Shyvana",
         "orientation": "v",
         "showlegend": true,
         "type": "scatter",
         "x": [
          21572.63
         ],
         "xaxis": "x",
         "y": [
          34910.1
         ],
         "yaxis": "y"
        },
        {
         "hovertemplate": "CHAMPIONNAME=Singed<br>TOTALDAMAGEDEALTTOCHAMPIONS=%{x}<br>TOTALDAMAGETAKEN=%{y}<extra></extra>",
         "legendgroup": "Singed",
         "marker": {
          "color": "#ab63fa",
          "symbol": "circle"
         },
         "mode": "markers",
         "name": "Singed",
         "orientation": "v",
         "showlegend": true,
         "type": "scatter",
         "x": [
          16487.25
         ],
         "xaxis": "x",
         "y": [
          28558.83
         ],
         "yaxis": "y"
        },
        {
         "hovertemplate": "CHAMPIONNAME=Sion<br>TOTALDAMAGEDEALTTOCHAMPIONS=%{x}<br>TOTALDAMAGETAKEN=%{y}<extra></extra>",
         "legendgroup": "Sion",
         "marker": {
          "color": "#FFA15A",
          "symbol": "circle"
         },
         "mode": "markers",
         "name": "Sion",
         "orientation": "v",
         "showlegend": true,
         "type": "scatter",
         "x": [
          18792.41
         ],
         "xaxis": "x",
         "y": [
          42240.11
         ],
         "yaxis": "y"
        },
        {
         "hovertemplate": "CHAMPIONNAME=Sivir<br>TOTALDAMAGEDEALTTOCHAMPIONS=%{x}<br>TOTALDAMAGETAKEN=%{y}<extra></extra>",
         "legendgroup": "Sivir",
         "marker": {
          "color": "#19d3f3",
          "symbol": "circle"
         },
         "mode": "markers",
         "name": "Sivir",
         "orientation": "v",
         "showlegend": true,
         "type": "scatter",
         "x": [
          19192.18
         ],
         "xaxis": "x",
         "y": [
          17638.3
         ],
         "yaxis": "y"
        },
        {
         "hovertemplate": "CHAMPIONNAME=Skarner<br>TOTALDAMAGEDEALTTOCHAMPIONS=%{x}<br>TOTALDAMAGETAKEN=%{y}<extra></extra>",
         "legendgroup": "Skarner",
         "marker": {
          "color": "#FF6692",
          "symbol": "circle"
         },
         "mode": "markers",
         "name": "Skarner",
         "orientation": "v",
         "showlegend": true,
         "type": "scatter",
         "x": [
          9060.33
         ],
         "xaxis": "x",
         "y": [
          26863
         ],
         "yaxis": "y"
        },
        {
         "hovertemplate": "CHAMPIONNAME=Sona<br>TOTALDAMAGEDEALTTOCHAMPIONS=%{x}<br>TOTALDAMAGETAKEN=%{y}<extra></extra>",
         "legendgroup": "Sona",
         "marker": {
          "color": "#B6E880",
          "symbol": "circle"
         },
         "mode": "markers",
         "name": "Sona",
         "orientation": "v",
         "showlegend": true,
         "type": "scatter",
         "x": [
          9902.25
         ],
         "xaxis": "x",
         "y": [
          15764.21
         ],
         "yaxis": "y"
        },
        {
         "hovertemplate": "CHAMPIONNAME=Soraka<br>TOTALDAMAGEDEALTTOCHAMPIONS=%{x}<br>TOTALDAMAGETAKEN=%{y}<extra></extra>",
         "legendgroup": "Soraka",
         "marker": {
          "color": "#FF97FF",
          "symbol": "circle"
         },
         "mode": "markers",
         "name": "Soraka",
         "orientation": "v",
         "showlegend": true,
         "type": "scatter",
         "x": [
          5783.16
         ],
         "xaxis": "x",
         "y": [
          14385.45
         ],
         "yaxis": "y"
        },
        {
         "hovertemplate": "CHAMPIONNAME=Swain<br>TOTALDAMAGEDEALTTOCHAMPIONS=%{x}<br>TOTALDAMAGETAKEN=%{y}<extra></extra>",
         "legendgroup": "Swain",
         "marker": {
          "color": "#FECB52",
          "symbol": "circle"
         },
         "mode": "markers",
         "name": "Swain",
         "orientation": "v",
         "showlegend": true,
         "type": "scatter",
         "x": [
          21446.07
         ],
         "xaxis": "x",
         "y": [
          26972.86
         ],
         "yaxis": "y"
        },
        {
         "hovertemplate": "CHAMPIONNAME=Sylas<br>TOTALDAMAGEDEALTTOCHAMPIONS=%{x}<br>TOTALDAMAGETAKEN=%{y}<extra></extra>",
         "legendgroup": "Sylas",
         "marker": {
          "color": "#636efa",
          "symbol": "circle"
         },
         "mode": "markers",
         "name": "Sylas",
         "orientation": "v",
         "showlegend": true,
         "type": "scatter",
         "x": [
          20088.97
         ],
         "xaxis": "x",
         "y": [
          29799.73
         ],
         "yaxis": "y"
        },
        {
         "hovertemplate": "CHAMPIONNAME=Syndra<br>TOTALDAMAGEDEALTTOCHAMPIONS=%{x}<br>TOTALDAMAGETAKEN=%{y}<extra></extra>",
         "legendgroup": "Syndra",
         "marker": {
          "color": "#EF553B",
          "symbol": "circle"
         },
         "mode": "markers",
         "name": "Syndra",
         "orientation": "v",
         "showlegend": true,
         "type": "scatter",
         "x": [
          19699.98
         ],
         "xaxis": "x",
         "y": [
          15999.18
         ],
         "yaxis": "y"
        },
        {
         "hovertemplate": "CHAMPIONNAME=TahmKench<br>TOTALDAMAGEDEALTTOCHAMPIONS=%{x}<br>TOTALDAMAGETAKEN=%{y}<extra></extra>",
         "legendgroup": "TahmKench",
         "marker": {
          "color": "#00cc96",
          "symbol": "circle"
         },
         "mode": "markers",
         "name": "TahmKench",
         "orientation": "v",
         "showlegend": true,
         "type": "scatter",
         "x": [
          13981.82
         ],
         "xaxis": "x",
         "y": [
          26648.06
         ],
         "yaxis": "y"
        },
        {
         "hovertemplate": "CHAMPIONNAME=Taliyah<br>TOTALDAMAGEDEALTTOCHAMPIONS=%{x}<br>TOTALDAMAGETAKEN=%{y}<extra></extra>",
         "legendgroup": "Taliyah",
         "marker": {
          "color": "#ab63fa",
          "symbol": "circle"
         },
         "mode": "markers",
         "name": "Taliyah",
         "orientation": "v",
         "showlegend": true,
         "type": "scatter",
         "x": [
          19933.21
         ],
         "xaxis": "x",
         "y": [
          22083.58
         ],
         "yaxis": "y"
        },
        {
         "hovertemplate": "CHAMPIONNAME=Talon<br>TOTALDAMAGEDEALTTOCHAMPIONS=%{x}<br>TOTALDAMAGETAKEN=%{y}<extra></extra>",
         "legendgroup": "Talon",
         "marker": {
          "color": "#FFA15A",
          "symbol": "circle"
         },
         "mode": "markers",
         "name": "Talon",
         "orientation": "v",
         "showlegend": true,
         "type": "scatter",
         "x": [
          21493.58
         ],
         "xaxis": "x",
         "y": [
          28457.27
         ],
         "yaxis": "y"
        },
        {
         "hovertemplate": "CHAMPIONNAME=Taric<br>TOTALDAMAGEDEALTTOCHAMPIONS=%{x}<br>TOTALDAMAGETAKEN=%{y}<extra></extra>",
         "legendgroup": "Taric",
         "marker": {
          "color": "#19d3f3",
          "symbol": "circle"
         },
         "mode": "markers",
         "name": "Taric",
         "orientation": "v",
         "showlegend": true,
         "type": "scatter",
         "x": [
          8625.42
         ],
         "xaxis": "x",
         "y": [
          24103.85
         ],
         "yaxis": "y"
        },
        {
         "hovertemplate": "CHAMPIONNAME=Teemo<br>TOTALDAMAGEDEALTTOCHAMPIONS=%{x}<br>TOTALDAMAGETAKEN=%{y}<extra></extra>",
         "legendgroup": "Teemo",
         "marker": {
          "color": "#FF6692",
          "symbol": "circle"
         },
         "mode": "markers",
         "name": "Teemo",
         "orientation": "v",
         "showlegend": true,
         "type": "scatter",
         "x": [
          23925.27
         ],
         "xaxis": "x",
         "y": [
          21495.14
         ],
         "yaxis": "y"
        },
        {
         "hovertemplate": "CHAMPIONNAME=Thresh<br>TOTALDAMAGEDEALTTOCHAMPIONS=%{x}<br>TOTALDAMAGETAKEN=%{y}<extra></extra>",
         "legendgroup": "Thresh",
         "marker": {
          "color": "#B6E880",
          "symbol": "circle"
         },
         "mode": "markers",
         "name": "Thresh",
         "orientation": "v",
         "showlegend": true,
         "type": "scatter",
         "x": [
          6580.35
         ],
         "xaxis": "x",
         "y": [
          18344.22
         ],
         "yaxis": "y"
        },
        {
         "hovertemplate": "CHAMPIONNAME=Tristana<br>TOTALDAMAGEDEALTTOCHAMPIONS=%{x}<br>TOTALDAMAGETAKEN=%{y}<extra></extra>",
         "legendgroup": "Tristana",
         "marker": {
          "color": "#FF97FF",
          "symbol": "circle"
         },
         "mode": "markers",
         "name": "Tristana",
         "orientation": "v",
         "showlegend": true,
         "type": "scatter",
         "x": [
          18991.29
         ],
         "xaxis": "x",
         "y": [
          20227.52
         ],
         "yaxis": "y"
        },
        {
         "hovertemplate": "CHAMPIONNAME=Trundle<br>TOTALDAMAGEDEALTTOCHAMPIONS=%{x}<br>TOTALDAMAGETAKEN=%{y}<extra></extra>",
         "legendgroup": "Trundle",
         "marker": {
          "color": "#FECB52",
          "symbol": "circle"
         },
         "mode": "markers",
         "name": "Trundle",
         "orientation": "v",
         "showlegend": true,
         "type": "scatter",
         "x": [
          14233.89
         ],
         "xaxis": "x",
         "y": [
          30280.94
         ],
         "yaxis": "y"
        },
        {
         "hovertemplate": "CHAMPIONNAME=Tryndamere<br>TOTALDAMAGEDEALTTOCHAMPIONS=%{x}<br>TOTALDAMAGETAKEN=%{y}<extra></extra>",
         "legendgroup": "Tryndamere",
         "marker": {
          "color": "#636efa",
          "symbol": "circle"
         },
         "mode": "markers",
         "name": "Tryndamere",
         "orientation": "v",
         "showlegend": true,
         "type": "scatter",
         "x": [
          15065.12
         ],
         "xaxis": "x",
         "y": [
          28016.83
         ],
         "yaxis": "y"
        },
        {
         "hovertemplate": "CHAMPIONNAME=TwistedFate<br>TOTALDAMAGEDEALTTOCHAMPIONS=%{x}<br>TOTALDAMAGETAKEN=%{y}<extra></extra>",
         "legendgroup": "TwistedFate",
         "marker": {
          "color": "#EF553B",
          "symbol": "circle"
         },
         "mode": "markers",
         "name": "TwistedFate",
         "orientation": "v",
         "showlegend": true,
         "type": "scatter",
         "x": [
          16026.62
         ],
         "xaxis": "x",
         "y": [
          20557.08
         ],
         "yaxis": "y"
        },
        {
         "hovertemplate": "CHAMPIONNAME=Twitch<br>TOTALDAMAGEDEALTTOCHAMPIONS=%{x}<br>TOTALDAMAGETAKEN=%{y}<extra></extra>",
         "legendgroup": "Twitch",
         "marker": {
          "color": "#00cc96",
          "symbol": "circle"
         },
         "mode": "markers",
         "name": "Twitch",
         "orientation": "v",
         "showlegend": true,
         "type": "scatter",
         "x": [
          17014.49
         ],
         "xaxis": "x",
         "y": [
          18124.04
         ],
         "yaxis": "y"
        },
        {
         "hovertemplate": "CHAMPIONNAME=Udyr<br>TOTALDAMAGEDEALTTOCHAMPIONS=%{x}<br>TOTALDAMAGETAKEN=%{y}<extra></extra>",
         "legendgroup": "Udyr",
         "marker": {
          "color": "#ab63fa",
          "symbol": "circle"
         },
         "mode": "markers",
         "name": "Udyr",
         "orientation": "v",
         "showlegend": true,
         "type": "scatter",
         "x": [
          11582.05
         ],
         "xaxis": "x",
         "y": [
          24309.25
         ],
         "yaxis": "y"
        },
        {
         "hovertemplate": "CHAMPIONNAME=Urgot<br>TOTALDAMAGEDEALTTOCHAMPIONS=%{x}<br>TOTALDAMAGETAKEN=%{y}<extra></extra>",
         "legendgroup": "Urgot",
         "marker": {
          "color": "#FFA15A",
          "symbol": "circle"
         },
         "mode": "markers",
         "name": "Urgot",
         "orientation": "v",
         "showlegend": true,
         "type": "scatter",
         "x": [
          13931.54
         ],
         "xaxis": "x",
         "y": [
          18852.08
         ],
         "yaxis": "y"
        },
        {
         "hovertemplate": "CHAMPIONNAME=Varus<br>TOTALDAMAGEDEALTTOCHAMPIONS=%{x}<br>TOTALDAMAGETAKEN=%{y}<extra></extra>",
         "legendgroup": "Varus",
         "marker": {
          "color": "#19d3f3",
          "symbol": "circle"
         },
         "mode": "markers",
         "name": "Varus",
         "orientation": "v",
         "showlegend": true,
         "type": "scatter",
         "x": [
          19456.82
         ],
         "xaxis": "x",
         "y": [
          17099.25
         ],
         "yaxis": "y"
        },
        {
         "hovertemplate": "CHAMPIONNAME=Vayne<br>TOTALDAMAGEDEALTTOCHAMPIONS=%{x}<br>TOTALDAMAGETAKEN=%{y}<extra></extra>",
         "legendgroup": "Vayne",
         "marker": {
          "color": "#FF6692",
          "symbol": "circle"
         },
         "mode": "markers",
         "name": "Vayne",
         "orientation": "v",
         "showlegend": true,
         "type": "scatter",
         "x": [
          19455.05
         ],
         "xaxis": "x",
         "y": [
          19854.28
         ],
         "yaxis": "y"
        },
        {
         "hovertemplate": "CHAMPIONNAME=Veigar<br>TOTALDAMAGEDEALTTOCHAMPIONS=%{x}<br>TOTALDAMAGETAKEN=%{y}<extra></extra>",
         "legendgroup": "Veigar",
         "marker": {
          "color": "#B6E880",
          "symbol": "circle"
         },
         "mode": "markers",
         "name": "Veigar",
         "orientation": "v",
         "showlegend": true,
         "type": "scatter",
         "x": [
          17180.58
         ],
         "xaxis": "x",
         "y": [
          17685.74
         ],
         "yaxis": "y"
        },
        {
         "hovertemplate": "CHAMPIONNAME=Velkoz<br>TOTALDAMAGEDEALTTOCHAMPIONS=%{x}<br>TOTALDAMAGETAKEN=%{y}<extra></extra>",
         "legendgroup": "Velkoz",
         "marker": {
          "color": "#FF97FF",
          "symbol": "circle"
         },
         "mode": "markers",
         "name": "Velkoz",
         "orientation": "v",
         "showlegend": true,
         "type": "scatter",
         "x": [
          23273.29
         ],
         "xaxis": "x",
         "y": [
          16345.64
         ],
         "yaxis": "y"
        },
        {
         "hovertemplate": "CHAMPIONNAME=Vex<br>TOTALDAMAGEDEALTTOCHAMPIONS=%{x}<br>TOTALDAMAGETAKEN=%{y}<extra></extra>",
         "legendgroup": "Vex",
         "marker": {
          "color": "#FECB52",
          "symbol": "circle"
         },
         "mode": "markers",
         "name": "Vex",
         "orientation": "v",
         "showlegend": true,
         "type": "scatter",
         "x": [
          18714.86
         ],
         "xaxis": "x",
         "y": [
          18362.59
         ],
         "yaxis": "y"
        },
        {
         "hovertemplate": "CHAMPIONNAME=Vi<br>TOTALDAMAGEDEALTTOCHAMPIONS=%{x}<br>TOTALDAMAGETAKEN=%{y}<extra></extra>",
         "legendgroup": "Vi",
         "marker": {
          "color": "#636efa",
          "symbol": "circle"
         },
         "mode": "markers",
         "name": "Vi",
         "orientation": "v",
         "showlegend": true,
         "type": "scatter",
         "x": [
          16696.12
         ],
         "xaxis": "x",
         "y": [
          24302.15
         ],
         "yaxis": "y"
        },
        {
         "hovertemplate": "CHAMPIONNAME=Viego<br>TOTALDAMAGEDEALTTOCHAMPIONS=%{x}<br>TOTALDAMAGETAKEN=%{y}<extra></extra>",
         "legendgroup": "Viego",
         "marker": {
          "color": "#EF553B",
          "symbol": "circle"
         },
         "mode": "markers",
         "name": "Viego",
         "orientation": "v",
         "showlegend": true,
         "type": "scatter",
         "x": [
          17232.42
         ],
         "xaxis": "x",
         "y": [
          30061.08
         ],
         "yaxis": "y"
        },
        {
         "hovertemplate": "CHAMPIONNAME=Viktor<br>TOTALDAMAGEDEALTTOCHAMPIONS=%{x}<br>TOTALDAMAGETAKEN=%{y}<extra></extra>",
         "legendgroup": "Viktor",
         "marker": {
          "color": "#00cc96",
          "symbol": "circle"
         },
         "mode": "markers",
         "name": "Viktor",
         "orientation": "v",
         "showlegend": true,
         "type": "scatter",
         "x": [
          26106.05
         ],
         "xaxis": "x",
         "y": [
          17131.44
         ],
         "yaxis": "y"
        },
        {
         "hovertemplate": "CHAMPIONNAME=Vladimir<br>TOTALDAMAGEDEALTTOCHAMPIONS=%{x}<br>TOTALDAMAGETAKEN=%{y}<extra></extra>",
         "legendgroup": "Vladimir",
         "marker": {
          "color": "#ab63fa",
          "symbol": "circle"
         },
         "mode": "markers",
         "name": "Vladimir",
         "orientation": "v",
         "showlegend": true,
         "type": "scatter",
         "x": [
          20848.73
         ],
         "xaxis": "x",
         "y": [
          27890.89
         ],
         "yaxis": "y"
        },
        {
         "hovertemplate": "CHAMPIONNAME=Volibear<br>TOTALDAMAGEDEALTTOCHAMPIONS=%{x}<br>TOTALDAMAGETAKEN=%{y}<extra></extra>",
         "legendgroup": "Volibear",
         "marker": {
          "color": "#FFA15A",
          "symbol": "circle"
         },
         "mode": "markers",
         "name": "Volibear",
         "orientation": "v",
         "showlegend": true,
         "type": "scatter",
         "x": [
          17391.02
         ],
         "xaxis": "x",
         "y": [
          30234.1
         ],
         "yaxis": "y"
        },
        {
         "hovertemplate": "CHAMPIONNAME=Warwick<br>TOTALDAMAGEDEALTTOCHAMPIONS=%{x}<br>TOTALDAMAGETAKEN=%{y}<extra></extra>",
         "legendgroup": "Warwick",
         "marker": {
          "color": "#19d3f3",
          "symbol": "circle"
         },
         "mode": "markers",
         "name": "Warwick",
         "orientation": "v",
         "showlegend": true,
         "type": "scatter",
         "x": [
          15458.69
         ],
         "xaxis": "x",
         "y": [
          32914.41
         ],
         "yaxis": "y"
        },
        {
         "hovertemplate": "CHAMPIONNAME=Xayah<br>TOTALDAMAGEDEALTTOCHAMPIONS=%{x}<br>TOTALDAMAGETAKEN=%{y}<extra></extra>",
         "legendgroup": "Xayah",
         "marker": {
          "color": "#FF6692",
          "symbol": "circle"
         },
         "mode": "markers",
         "name": "Xayah",
         "orientation": "v",
         "showlegend": true,
         "type": "scatter",
         "x": [
          19818.89
         ],
         "xaxis": "x",
         "y": [
          19761.34
         ],
         "yaxis": "y"
        },
        {
         "hovertemplate": "CHAMPIONNAME=Xerath<br>TOTALDAMAGEDEALTTOCHAMPIONS=%{x}<br>TOTALDAMAGETAKEN=%{y}<extra></extra>",
         "legendgroup": "Xerath",
         "marker": {
          "color": "#B6E880",
          "symbol": "circle"
         },
         "mode": "markers",
         "name": "Xerath",
         "orientation": "v",
         "showlegend": true,
         "type": "scatter",
         "x": [
          21619.8
         ],
         "xaxis": "x",
         "y": [
          14989.87
         ],
         "yaxis": "y"
        },
        {
         "hovertemplate": "CHAMPIONNAME=XinZhao<br>TOTALDAMAGEDEALTTOCHAMPIONS=%{x}<br>TOTALDAMAGETAKEN=%{y}<extra></extra>",
         "legendgroup": "XinZhao",
         "marker": {
          "color": "#FF97FF",
          "symbol": "circle"
         },
         "mode": "markers",
         "name": "XinZhao",
         "orientation": "v",
         "showlegend": true,
         "type": "scatter",
         "x": [
          17133.59
         ],
         "xaxis": "x",
         "y": [
          29314.03
         ],
         "yaxis": "y"
        },
        {
         "hovertemplate": "CHAMPIONNAME=Yasuo<br>TOTALDAMAGEDEALTTOCHAMPIONS=%{x}<br>TOTALDAMAGETAKEN=%{y}<extra></extra>",
         "legendgroup": "Yasuo",
         "marker": {
          "color": "#FECB52",
          "symbol": "circle"
         },
         "mode": "markers",
         "name": "Yasuo",
         "orientation": "v",
         "showlegend": true,
         "type": "scatter",
         "x": [
          17419.76
         ],
         "xaxis": "x",
         "y": [
          21587.54
         ],
         "yaxis": "y"
        },
        {
         "hovertemplate": "CHAMPIONNAME=Yone<br>TOTALDAMAGEDEALTTOCHAMPIONS=%{x}<br>TOTALDAMAGETAKEN=%{y}<extra></extra>",
         "legendgroup": "Yone",
         "marker": {
          "color": "#636efa",
          "symbol": "circle"
         },
         "mode": "markers",
         "name": "Yone",
         "orientation": "v",
         "showlegend": true,
         "type": "scatter",
         "x": [
          20330.21
         ],
         "xaxis": "x",
         "y": [
          22865.98
         ],
         "yaxis": "y"
        },
        {
         "hovertemplate": "CHAMPIONNAME=Yorick<br>TOTALDAMAGEDEALTTOCHAMPIONS=%{x}<br>TOTALDAMAGETAKEN=%{y}<extra></extra>",
         "legendgroup": "Yorick",
         "marker": {
          "color": "#EF553B",
          "symbol": "circle"
         },
         "mode": "markers",
         "name": "Yorick",
         "orientation": "v",
         "showlegend": true,
         "type": "scatter",
         "x": [
          15862.91
         ],
         "xaxis": "x",
         "y": [
          24283.52
         ],
         "yaxis": "y"
        },
        {
         "hovertemplate": "CHAMPIONNAME=Yuumi<br>TOTALDAMAGEDEALTTOCHAMPIONS=%{x}<br>TOTALDAMAGETAKEN=%{y}<extra></extra>",
         "legendgroup": "Yuumi",
         "marker": {
          "color": "#00cc96",
          "symbol": "circle"
         },
         "mode": "markers",
         "name": "Yuumi",
         "orientation": "v",
         "showlegend": true,
         "type": "scatter",
         "x": [
          9321.9
         ],
         "xaxis": "x",
         "y": [
          8710.66
         ],
         "yaxis": "y"
        },
        {
         "hovertemplate": "CHAMPIONNAME=Zac<br>TOTALDAMAGEDEALTTOCHAMPIONS=%{x}<br>TOTALDAMAGETAKEN=%{y}<extra></extra>",
         "legendgroup": "Zac",
         "marker": {
          "color": "#ab63fa",
          "symbol": "circle"
         },
         "mode": "markers",
         "name": "Zac",
         "orientation": "v",
         "showlegend": true,
         "type": "scatter",
         "x": [
          17141.13
         ],
         "xaxis": "x",
         "y": [
          35092.96
         ],
         "yaxis": "y"
        },
        {
         "hovertemplate": "CHAMPIONNAME=Zed<br>TOTALDAMAGEDEALTTOCHAMPIONS=%{x}<br>TOTALDAMAGETAKEN=%{y}<extra></extra>",
         "legendgroup": "Zed",
         "marker": {
          "color": "#FFA15A",
          "symbol": "circle"
         },
         "mode": "markers",
         "name": "Zed",
         "orientation": "v",
         "showlegend": true,
         "type": "scatter",
         "x": [
          21472.08
         ],
         "xaxis": "x",
         "y": [
          20412.84
         ],
         "yaxis": "y"
        },
        {
         "hovertemplate": "CHAMPIONNAME=Zeri<br>TOTALDAMAGEDEALTTOCHAMPIONS=%{x}<br>TOTALDAMAGETAKEN=%{y}<extra></extra>",
         "legendgroup": "Zeri",
         "marker": {
          "color": "#19d3f3",
          "symbol": "circle"
         },
         "mode": "markers",
         "name": "Zeri",
         "orientation": "v",
         "showlegend": true,
         "type": "scatter",
         "x": [
          19277.7
         ],
         "xaxis": "x",
         "y": [
          19991.97
         ],
         "yaxis": "y"
        },
        {
         "hovertemplate": "CHAMPIONNAME=Ziggs<br>TOTALDAMAGEDEALTTOCHAMPIONS=%{x}<br>TOTALDAMAGETAKEN=%{y}<extra></extra>",
         "legendgroup": "Ziggs",
         "marker": {
          "color": "#FF6692",
          "symbol": "circle"
         },
         "mode": "markers",
         "name": "Ziggs",
         "orientation": "v",
         "showlegend": true,
         "type": "scatter",
         "x": [
          20367.65
         ],
         "xaxis": "x",
         "y": [
          15448.65
         ],
         "yaxis": "y"
        },
        {
         "hovertemplate": "CHAMPIONNAME=Zilean<br>TOTALDAMAGEDEALTTOCHAMPIONS=%{x}<br>TOTALDAMAGETAKEN=%{y}<extra></extra>",
         "legendgroup": "Zilean",
         "marker": {
          "color": "#B6E880",
          "symbol": "circle"
         },
         "mode": "markers",
         "name": "Zilean",
         "orientation": "v",
         "showlegend": true,
         "type": "scatter",
         "x": [
          10336.74
         ],
         "xaxis": "x",
         "y": [
          14571.47
         ],
         "yaxis": "y"
        },
        {
         "hovertemplate": "CHAMPIONNAME=Zoe<br>TOTALDAMAGEDEALTTOCHAMPIONS=%{x}<br>TOTALDAMAGETAKEN=%{y}<extra></extra>",
         "legendgroup": "Zoe",
         "marker": {
          "color": "#FF97FF",
          "symbol": "circle"
         },
         "mode": "markers",
         "name": "Zoe",
         "orientation": "v",
         "showlegend": true,
         "type": "scatter",
         "x": [
          18373.78
         ],
         "xaxis": "x",
         "y": [
          16566.97
         ],
         "yaxis": "y"
        },
        {
         "hovertemplate": "CHAMPIONNAME=Zyra<br>TOTALDAMAGEDEALTTOCHAMPIONS=%{x}<br>TOTALDAMAGETAKEN=%{y}<extra></extra>",
         "legendgroup": "Zyra",
         "marker": {
          "color": "#FECB52",
          "symbol": "circle"
         },
         "mode": "markers",
         "name": "Zyra",
         "orientation": "v",
         "showlegend": true,
         "type": "scatter",
         "x": [
          20177
         ],
         "xaxis": "x",
         "y": [
          16175.92
         ],
         "yaxis": "y"
        }
       ],
       "layout": {
        "legend": {
         "title": {
          "text": "CHAMPIONNAME"
         },
         "tracegroupgap": 0
        },
        "template": {
         "data": {
          "bar": [
           {
            "error_x": {
             "color": "#2a3f5f"
            },
            "error_y": {
             "color": "#2a3f5f"
            },
            "marker": {
             "line": {
              "color": "#E5ECF6",
              "width": 0.5
             },
             "pattern": {
              "fillmode": "overlay",
              "size": 10,
              "solidity": 0.2
             }
            },
            "type": "bar"
           }
          ],
          "barpolar": [
           {
            "marker": {
             "line": {
              "color": "#E5ECF6",
              "width": 0.5
             },
             "pattern": {
              "fillmode": "overlay",
              "size": 10,
              "solidity": 0.2
             }
            },
            "type": "barpolar"
           }
          ],
          "carpet": [
           {
            "aaxis": {
             "endlinecolor": "#2a3f5f",
             "gridcolor": "white",
             "linecolor": "white",
             "minorgridcolor": "white",
             "startlinecolor": "#2a3f5f"
            },
            "baxis": {
             "endlinecolor": "#2a3f5f",
             "gridcolor": "white",
             "linecolor": "white",
             "minorgridcolor": "white",
             "startlinecolor": "#2a3f5f"
            },
            "type": "carpet"
           }
          ],
          "choropleth": [
           {
            "colorbar": {
             "outlinewidth": 0,
             "ticks": ""
            },
            "type": "choropleth"
           }
          ],
          "contour": [
           {
            "colorbar": {
             "outlinewidth": 0,
             "ticks": ""
            },
            "colorscale": [
             [
              0,
              "#0d0887"
             ],
             [
              0.1111111111111111,
              "#46039f"
             ],
             [
              0.2222222222222222,
              "#7201a8"
             ],
             [
              0.3333333333333333,
              "#9c179e"
             ],
             [
              0.4444444444444444,
              "#bd3786"
             ],
             [
              0.5555555555555556,
              "#d8576b"
             ],
             [
              0.6666666666666666,
              "#ed7953"
             ],
             [
              0.7777777777777778,
              "#fb9f3a"
             ],
             [
              0.8888888888888888,
              "#fdca26"
             ],
             [
              1,
              "#f0f921"
             ]
            ],
            "type": "contour"
           }
          ],
          "contourcarpet": [
           {
            "colorbar": {
             "outlinewidth": 0,
             "ticks": ""
            },
            "type": "contourcarpet"
           }
          ],
          "heatmap": [
           {
            "colorbar": {
             "outlinewidth": 0,
             "ticks": ""
            },
            "colorscale": [
             [
              0,
              "#0d0887"
             ],
             [
              0.1111111111111111,
              "#46039f"
             ],
             [
              0.2222222222222222,
              "#7201a8"
             ],
             [
              0.3333333333333333,
              "#9c179e"
             ],
             [
              0.4444444444444444,
              "#bd3786"
             ],
             [
              0.5555555555555556,
              "#d8576b"
             ],
             [
              0.6666666666666666,
              "#ed7953"
             ],
             [
              0.7777777777777778,
              "#fb9f3a"
             ],
             [
              0.8888888888888888,
              "#fdca26"
             ],
             [
              1,
              "#f0f921"
             ]
            ],
            "type": "heatmap"
           }
          ],
          "heatmapgl": [
           {
            "colorbar": {
             "outlinewidth": 0,
             "ticks": ""
            },
            "colorscale": [
             [
              0,
              "#0d0887"
             ],
             [
              0.1111111111111111,
              "#46039f"
             ],
             [
              0.2222222222222222,
              "#7201a8"
             ],
             [
              0.3333333333333333,
              "#9c179e"
             ],
             [
              0.4444444444444444,
              "#bd3786"
             ],
             [
              0.5555555555555556,
              "#d8576b"
             ],
             [
              0.6666666666666666,
              "#ed7953"
             ],
             [
              0.7777777777777778,
              "#fb9f3a"
             ],
             [
              0.8888888888888888,
              "#fdca26"
             ],
             [
              1,
              "#f0f921"
             ]
            ],
            "type": "heatmapgl"
           }
          ],
          "histogram": [
           {
            "marker": {
             "pattern": {
              "fillmode": "overlay",
              "size": 10,
              "solidity": 0.2
             }
            },
            "type": "histogram"
           }
          ],
          "histogram2d": [
           {
            "colorbar": {
             "outlinewidth": 0,
             "ticks": ""
            },
            "colorscale": [
             [
              0,
              "#0d0887"
             ],
             [
              0.1111111111111111,
              "#46039f"
             ],
             [
              0.2222222222222222,
              "#7201a8"
             ],
             [
              0.3333333333333333,
              "#9c179e"
             ],
             [
              0.4444444444444444,
              "#bd3786"
             ],
             [
              0.5555555555555556,
              "#d8576b"
             ],
             [
              0.6666666666666666,
              "#ed7953"
             ],
             [
              0.7777777777777778,
              "#fb9f3a"
             ],
             [
              0.8888888888888888,
              "#fdca26"
             ],
             [
              1,
              "#f0f921"
             ]
            ],
            "type": "histogram2d"
           }
          ],
          "histogram2dcontour": [
           {
            "colorbar": {
             "outlinewidth": 0,
             "ticks": ""
            },
            "colorscale": [
             [
              0,
              "#0d0887"
             ],
             [
              0.1111111111111111,
              "#46039f"
             ],
             [
              0.2222222222222222,
              "#7201a8"
             ],
             [
              0.3333333333333333,
              "#9c179e"
             ],
             [
              0.4444444444444444,
              "#bd3786"
             ],
             [
              0.5555555555555556,
              "#d8576b"
             ],
             [
              0.6666666666666666,
              "#ed7953"
             ],
             [
              0.7777777777777778,
              "#fb9f3a"
             ],
             [
              0.8888888888888888,
              "#fdca26"
             ],
             [
              1,
              "#f0f921"
             ]
            ],
            "type": "histogram2dcontour"
           }
          ],
          "mesh3d": [
           {
            "colorbar": {
             "outlinewidth": 0,
             "ticks": ""
            },
            "type": "mesh3d"
           }
          ],
          "parcoords": [
           {
            "line": {
             "colorbar": {
              "outlinewidth": 0,
              "ticks": ""
             }
            },
            "type": "parcoords"
           }
          ],
          "pie": [
           {
            "automargin": true,
            "type": "pie"
           }
          ],
          "scatter": [
           {
            "fillpattern": {
             "fillmode": "overlay",
             "size": 10,
             "solidity": 0.2
            },
            "type": "scatter"
           }
          ],
          "scatter3d": [
           {
            "line": {
             "colorbar": {
              "outlinewidth": 0,
              "ticks": ""
             }
            },
            "marker": {
             "colorbar": {
              "outlinewidth": 0,
              "ticks": ""
             }
            },
            "type": "scatter3d"
           }
          ],
          "scattercarpet": [
           {
            "marker": {
             "colorbar": {
              "outlinewidth": 0,
              "ticks": ""
             }
            },
            "type": "scattercarpet"
           }
          ],
          "scattergeo": [
           {
            "marker": {
             "colorbar": {
              "outlinewidth": 0,
              "ticks": ""
             }
            },
            "type": "scattergeo"
           }
          ],
          "scattergl": [
           {
            "marker": {
             "colorbar": {
              "outlinewidth": 0,
              "ticks": ""
             }
            },
            "type": "scattergl"
           }
          ],
          "scattermapbox": [
           {
            "marker": {
             "colorbar": {
              "outlinewidth": 0,
              "ticks": ""
             }
            },
            "type": "scattermapbox"
           }
          ],
          "scatterpolar": [
           {
            "marker": {
             "colorbar": {
              "outlinewidth": 0,
              "ticks": ""
             }
            },
            "type": "scatterpolar"
           }
          ],
          "scatterpolargl": [
           {
            "marker": {
             "colorbar": {
              "outlinewidth": 0,
              "ticks": ""
             }
            },
            "type": "scatterpolargl"
           }
          ],
          "scatterternary": [
           {
            "marker": {
             "colorbar": {
              "outlinewidth": 0,
              "ticks": ""
             }
            },
            "type": "scatterternary"
           }
          ],
          "surface": [
           {
            "colorbar": {
             "outlinewidth": 0,
             "ticks": ""
            },
            "colorscale": [
             [
              0,
              "#0d0887"
             ],
             [
              0.1111111111111111,
              "#46039f"
             ],
             [
              0.2222222222222222,
              "#7201a8"
             ],
             [
              0.3333333333333333,
              "#9c179e"
             ],
             [
              0.4444444444444444,
              "#bd3786"
             ],
             [
              0.5555555555555556,
              "#d8576b"
             ],
             [
              0.6666666666666666,
              "#ed7953"
             ],
             [
              0.7777777777777778,
              "#fb9f3a"
             ],
             [
              0.8888888888888888,
              "#fdca26"
             ],
             [
              1,
              "#f0f921"
             ]
            ],
            "type": "surface"
           }
          ],
          "table": [
           {
            "cells": {
             "fill": {
              "color": "#EBF0F8"
             },
             "line": {
              "color": "white"
             }
            },
            "header": {
             "fill": {
              "color": "#C8D4E3"
             },
             "line": {
              "color": "white"
             }
            },
            "type": "table"
           }
          ]
         },
         "layout": {
          "annotationdefaults": {
           "arrowcolor": "#2a3f5f",
           "arrowhead": 0,
           "arrowwidth": 1
          },
          "autotypenumbers": "strict",
          "coloraxis": {
           "colorbar": {
            "outlinewidth": 0,
            "ticks": ""
           }
          },
          "colorscale": {
           "diverging": [
            [
             0,
             "#8e0152"
            ],
            [
             0.1,
             "#c51b7d"
            ],
            [
             0.2,
             "#de77ae"
            ],
            [
             0.3,
             "#f1b6da"
            ],
            [
             0.4,
             "#fde0ef"
            ],
            [
             0.5,
             "#f7f7f7"
            ],
            [
             0.6,
             "#e6f5d0"
            ],
            [
             0.7,
             "#b8e186"
            ],
            [
             0.8,
             "#7fbc41"
            ],
            [
             0.9,
             "#4d9221"
            ],
            [
             1,
             "#276419"
            ]
           ],
           "sequential": [
            [
             0,
             "#0d0887"
            ],
            [
             0.1111111111111111,
             "#46039f"
            ],
            [
             0.2222222222222222,
             "#7201a8"
            ],
            [
             0.3333333333333333,
             "#9c179e"
            ],
            [
             0.4444444444444444,
             "#bd3786"
            ],
            [
             0.5555555555555556,
             "#d8576b"
            ],
            [
             0.6666666666666666,
             "#ed7953"
            ],
            [
             0.7777777777777778,
             "#fb9f3a"
            ],
            [
             0.8888888888888888,
             "#fdca26"
            ],
            [
             1,
             "#f0f921"
            ]
           ],
           "sequentialminus": [
            [
             0,
             "#0d0887"
            ],
            [
             0.1111111111111111,
             "#46039f"
            ],
            [
             0.2222222222222222,
             "#7201a8"
            ],
            [
             0.3333333333333333,
             "#9c179e"
            ],
            [
             0.4444444444444444,
             "#bd3786"
            ],
            [
             0.5555555555555556,
             "#d8576b"
            ],
            [
             0.6666666666666666,
             "#ed7953"
            ],
            [
             0.7777777777777778,
             "#fb9f3a"
            ],
            [
             0.8888888888888888,
             "#fdca26"
            ],
            [
             1,
             "#f0f921"
            ]
           ]
          },
          "colorway": [
           "#636efa",
           "#EF553B",
           "#00cc96",
           "#ab63fa",
           "#FFA15A",
           "#19d3f3",
           "#FF6692",
           "#B6E880",
           "#FF97FF",
           "#FECB52"
          ],
          "font": {
           "color": "#2a3f5f"
          },
          "geo": {
           "bgcolor": "white",
           "lakecolor": "white",
           "landcolor": "#E5ECF6",
           "showlakes": true,
           "showland": true,
           "subunitcolor": "white"
          },
          "hoverlabel": {
           "align": "left"
          },
          "hovermode": "closest",
          "mapbox": {
           "style": "light"
          },
          "paper_bgcolor": "white",
          "plot_bgcolor": "#E5ECF6",
          "polar": {
           "angularaxis": {
            "gridcolor": "white",
            "linecolor": "white",
            "ticks": ""
           },
           "bgcolor": "#E5ECF6",
           "radialaxis": {
            "gridcolor": "white",
            "linecolor": "white",
            "ticks": ""
           }
          },
          "scene": {
           "xaxis": {
            "backgroundcolor": "#E5ECF6",
            "gridcolor": "white",
            "gridwidth": 2,
            "linecolor": "white",
            "showbackground": true,
            "ticks": "",
            "zerolinecolor": "white"
           },
           "yaxis": {
            "backgroundcolor": "#E5ECF6",
            "gridcolor": "white",
            "gridwidth": 2,
            "linecolor": "white",
            "showbackground": true,
            "ticks": "",
            "zerolinecolor": "white"
           },
           "zaxis": {
            "backgroundcolor": "#E5ECF6",
            "gridcolor": "white",
            "gridwidth": 2,
            "linecolor": "white",
            "showbackground": true,
            "ticks": "",
            "zerolinecolor": "white"
           }
          },
          "shapedefaults": {
           "line": {
            "color": "#2a3f5f"
           }
          },
          "ternary": {
           "aaxis": {
            "gridcolor": "white",
            "linecolor": "white",
            "ticks": ""
           },
           "baxis": {
            "gridcolor": "white",
            "linecolor": "white",
            "ticks": ""
           },
           "bgcolor": "#E5ECF6",
           "caxis": {
            "gridcolor": "white",
            "linecolor": "white",
            "ticks": ""
           }
          },
          "title": {
           "x": 0.05
          },
          "xaxis": {
           "automargin": true,
           "gridcolor": "white",
           "linecolor": "white",
           "ticks": "",
           "title": {
            "standoff": 15
           },
           "zerolinecolor": "white",
           "zerolinewidth": 2
          },
          "yaxis": {
           "automargin": true,
           "gridcolor": "white",
           "linecolor": "white",
           "ticks": "",
           "title": {
            "standoff": 15
           },
           "zerolinecolor": "white",
           "zerolinewidth": 2
          }
         }
        },
        "title": {
         "text": "조은지_챔피언별 딜량 및 피해량 그래프"
        },
        "xaxis": {
         "anchor": "y",
         "domain": [
          0,
          1
         ],
         "title": {
          "text": "TOTALDAMAGEDEALTTOCHAMPIONS"
         }
        },
        "yaxis": {
         "anchor": "x",
         "domain": [
          0,
          1
         ],
         "title": {
          "text": "TOTALDAMAGETAKEN"
         }
        }
       }
      },
      "text/html": [
       "<div>                            <div id=\"1a2fa02a-e58d-4bad-82d8-e3d798f153b7\" class=\"plotly-graph-div\" style=\"height:525px; width:100%;\"></div>            <script type=\"text/javascript\">                require([\"plotly\"], function(Plotly) {                    window.PLOTLYENV=window.PLOTLYENV || {};                                    if (document.getElementById(\"1a2fa02a-e58d-4bad-82d8-e3d798f153b7\")) {                    Plotly.newPlot(                        \"1a2fa02a-e58d-4bad-82d8-e3d798f153b7\",                        [{\"hovertemplate\":\"CHAMPIONNAME=Aatrox<br>TOTALDAMAGEDEALTTOCHAMPIONS=%{x}<br>TOTALDAMAGETAKEN=%{y}<extra></extra>\",\"legendgroup\":\"Aatrox\",\"marker\":{\"color\":\"#636efa\",\"symbol\":\"circle\"},\"mode\":\"markers\",\"name\":\"Aatrox\",\"orientation\":\"v\",\"showlegend\":true,\"x\":[19638.45],\"xaxis\":\"x\",\"y\":[30609.3],\"yaxis\":\"y\",\"type\":\"scatter\"},{\"hovertemplate\":\"CHAMPIONNAME=Ahri<br>TOTALDAMAGEDEALTTOCHAMPIONS=%{x}<br>TOTALDAMAGETAKEN=%{y}<extra></extra>\",\"legendgroup\":\"Ahri\",\"marker\":{\"color\":\"#EF553B\",\"symbol\":\"circle\"},\"mode\":\"markers\",\"name\":\"Ahri\",\"orientation\":\"v\",\"showlegend\":true,\"x\":[18891.18],\"xaxis\":\"x\",\"y\":[20133.34],\"yaxis\":\"y\",\"type\":\"scatter\"},{\"hovertemplate\":\"CHAMPIONNAME=Akali<br>TOTALDAMAGEDEALTTOCHAMPIONS=%{x}<br>TOTALDAMAGETAKEN=%{y}<extra></extra>\",\"legendgroup\":\"Akali\",\"marker\":{\"color\":\"#00cc96\",\"symbol\":\"circle\"},\"mode\":\"markers\",\"name\":\"Akali\",\"orientation\":\"v\",\"showlegend\":true,\"x\":[21327.57],\"xaxis\":\"x\",\"y\":[25495.87],\"yaxis\":\"y\",\"type\":\"scatter\"},{\"hovertemplate\":\"CHAMPIONNAME=Akshan<br>TOTALDAMAGEDEALTTOCHAMPIONS=%{x}<br>TOTALDAMAGETAKEN=%{y}<extra></extra>\",\"legendgroup\":\"Akshan\",\"marker\":{\"color\":\"#ab63fa\",\"symbol\":\"circle\"},\"mode\":\"markers\",\"name\":\"Akshan\",\"orientation\":\"v\",\"showlegend\":true,\"x\":[18933.46],\"xaxis\":\"x\",\"y\":[19567.37],\"yaxis\":\"y\",\"type\":\"scatter\"},{\"hovertemplate\":\"CHAMPIONNAME=Alistar<br>TOTALDAMAGEDEALTTOCHAMPIONS=%{x}<br>TOTALDAMAGETAKEN=%{y}<extra></extra>\",\"legendgroup\":\"Alistar\",\"marker\":{\"color\":\"#FFA15A\",\"symbol\":\"circle\"},\"mode\":\"markers\",\"name\":\"Alistar\",\"orientation\":\"v\",\"showlegend\":true,\"x\":[7292.36],\"xaxis\":\"x\",\"y\":[22061.31],\"yaxis\":\"y\",\"type\":\"scatter\"},{\"hovertemplate\":\"CHAMPIONNAME=Amumu<br>TOTALDAMAGEDEALTTOCHAMPIONS=%{x}<br>TOTALDAMAGETAKEN=%{y}<extra></extra>\",\"legendgroup\":\"Amumu\",\"marker\":{\"color\":\"#19d3f3\",\"symbol\":\"circle\"},\"mode\":\"markers\",\"name\":\"Amumu\",\"orientation\":\"v\",\"showlegend\":true,\"x\":[16658.61],\"xaxis\":\"x\",\"y\":[27689.18],\"yaxis\":\"y\",\"type\":\"scatter\"},{\"hovertemplate\":\"CHAMPIONNAME=Anivia<br>TOTALDAMAGEDEALTTOCHAMPIONS=%{x}<br>TOTALDAMAGETAKEN=%{y}<extra></extra>\",\"legendgroup\":\"Anivia\",\"marker\":{\"color\":\"#FF6692\",\"symbol\":\"circle\"},\"mode\":\"markers\",\"name\":\"Anivia\",\"orientation\":\"v\",\"showlegend\":true,\"x\":[14113.0],\"xaxis\":\"x\",\"y\":[21533.5],\"yaxis\":\"y\",\"type\":\"scatter\"},{\"hovertemplate\":\"CHAMPIONNAME=Annie<br>TOTALDAMAGEDEALTTOCHAMPIONS=%{x}<br>TOTALDAMAGETAKEN=%{y}<extra></extra>\",\"legendgroup\":\"Annie\",\"marker\":{\"color\":\"#B6E880\",\"symbol\":\"circle\"},\"mode\":\"markers\",\"name\":\"Annie\",\"orientation\":\"v\",\"showlegend\":true,\"x\":[17686.1],\"xaxis\":\"x\",\"y\":[15622.3],\"yaxis\":\"y\",\"type\":\"scatter\"},{\"hovertemplate\":\"CHAMPIONNAME=Aphelios<br>TOTALDAMAGEDEALTTOCHAMPIONS=%{x}<br>TOTALDAMAGETAKEN=%{y}<extra></extra>\",\"legendgroup\":\"Aphelios\",\"marker\":{\"color\":\"#FF97FF\",\"symbol\":\"circle\"},\"mode\":\"markers\",\"name\":\"Aphelios\",\"orientation\":\"v\",\"showlegend\":true,\"x\":[20698.98],\"xaxis\":\"x\",\"y\":[19677.25],\"yaxis\":\"y\",\"type\":\"scatter\"},{\"hovertemplate\":\"CHAMPIONNAME=Ashe<br>TOTALDAMAGEDEALTTOCHAMPIONS=%{x}<br>TOTALDAMAGETAKEN=%{y}<extra></extra>\",\"legendgroup\":\"Ashe\",\"marker\":{\"color\":\"#FECB52\",\"symbol\":\"circle\"},\"mode\":\"markers\",\"name\":\"Ashe\",\"orientation\":\"v\",\"showlegend\":true,\"x\":[17504.53],\"xaxis\":\"x\",\"y\":[19083.51],\"yaxis\":\"y\",\"type\":\"scatter\"},{\"hovertemplate\":\"CHAMPIONNAME=AurelionSol<br>TOTALDAMAGEDEALTTOCHAMPIONS=%{x}<br>TOTALDAMAGETAKEN=%{y}<extra></extra>\",\"legendgroup\":\"AurelionSol\",\"marker\":{\"color\":\"#636efa\",\"symbol\":\"circle\"},\"mode\":\"markers\",\"name\":\"AurelionSol\",\"orientation\":\"v\",\"showlegend\":true,\"x\":[15084.9],\"xaxis\":\"x\",\"y\":[20518.7],\"yaxis\":\"y\",\"type\":\"scatter\"},{\"hovertemplate\":\"CHAMPIONNAME=Azir<br>TOTALDAMAGEDEALTTOCHAMPIONS=%{x}<br>TOTALDAMAGETAKEN=%{y}<extra></extra>\",\"legendgroup\":\"Azir\",\"marker\":{\"color\":\"#EF553B\",\"symbol\":\"circle\"},\"mode\":\"markers\",\"name\":\"Azir\",\"orientation\":\"v\",\"showlegend\":true,\"x\":[21964.14],\"xaxis\":\"x\",\"y\":[20933.88],\"yaxis\":\"y\",\"type\":\"scatter\"},{\"hovertemplate\":\"CHAMPIONNAME=Bard<br>TOTALDAMAGEDEALTTOCHAMPIONS=%{x}<br>TOTALDAMAGETAKEN=%{y}<extra></extra>\",\"legendgroup\":\"Bard\",\"marker\":{\"color\":\"#00cc96\",\"symbol\":\"circle\"},\"mode\":\"markers\",\"name\":\"Bard\",\"orientation\":\"v\",\"showlegend\":true,\"x\":[10957.52],\"xaxis\":\"x\",\"y\":[18648.4],\"yaxis\":\"y\",\"type\":\"scatter\"},{\"hovertemplate\":\"CHAMPIONNAME=Belveth<br>TOTALDAMAGEDEALTTOCHAMPIONS=%{x}<br>TOTALDAMAGETAKEN=%{y}<extra></extra>\",\"legendgroup\":\"Belveth\",\"marker\":{\"color\":\"#ab63fa\",\"symbol\":\"circle\"},\"mode\":\"markers\",\"name\":\"Belveth\",\"orientation\":\"v\",\"showlegend\":true,\"x\":[18425.27],\"xaxis\":\"x\",\"y\":[29941.23],\"yaxis\":\"y\",\"type\":\"scatter\"},{\"hovertemplate\":\"CHAMPIONNAME=Blitzcrank<br>TOTALDAMAGEDEALTTOCHAMPIONS=%{x}<br>TOTALDAMAGETAKEN=%{y}<extra></extra>\",\"legendgroup\":\"Blitzcrank\",\"marker\":{\"color\":\"#FFA15A\",\"symbol\":\"circle\"},\"mode\":\"markers\",\"name\":\"Blitzcrank\",\"orientation\":\"v\",\"showlegend\":true,\"x\":[8929.52],\"xaxis\":\"x\",\"y\":[20634.06],\"yaxis\":\"y\",\"type\":\"scatter\"},{\"hovertemplate\":\"CHAMPIONNAME=Brand<br>TOTALDAMAGEDEALTTOCHAMPIONS=%{x}<br>TOTALDAMAGETAKEN=%{y}<extra></extra>\",\"legendgroup\":\"Brand\",\"marker\":{\"color\":\"#19d3f3\",\"symbol\":\"circle\"},\"mode\":\"markers\",\"name\":\"Brand\",\"orientation\":\"v\",\"showlegend\":true,\"x\":[23178.85],\"xaxis\":\"x\",\"y\":[18349.08],\"yaxis\":\"y\",\"type\":\"scatter\"},{\"hovertemplate\":\"CHAMPIONNAME=Braum<br>TOTALDAMAGEDEALTTOCHAMPIONS=%{x}<br>TOTALDAMAGETAKEN=%{y}<extra></extra>\",\"legendgroup\":\"Braum\",\"marker\":{\"color\":\"#FF6692\",\"symbol\":\"circle\"},\"mode\":\"markers\",\"name\":\"Braum\",\"orientation\":\"v\",\"showlegend\":true,\"x\":[8405.67],\"xaxis\":\"x\",\"y\":[23466.67],\"yaxis\":\"y\",\"type\":\"scatter\"},{\"hovertemplate\":\"CHAMPIONNAME=Caitlyn<br>TOTALDAMAGEDEALTTOCHAMPIONS=%{x}<br>TOTALDAMAGETAKEN=%{y}<extra></extra>\",\"legendgroup\":\"Caitlyn\",\"marker\":{\"color\":\"#B6E880\",\"symbol\":\"circle\"},\"mode\":\"markers\",\"name\":\"Caitlyn\",\"orientation\":\"v\",\"showlegend\":true,\"x\":[19166.86],\"xaxis\":\"x\",\"y\":[17841.33],\"yaxis\":\"y\",\"type\":\"scatter\"},{\"hovertemplate\":\"CHAMPIONNAME=Camille<br>TOTALDAMAGEDEALTTOCHAMPIONS=%{x}<br>TOTALDAMAGETAKEN=%{y}<extra></extra>\",\"legendgroup\":\"Camille\",\"marker\":{\"color\":\"#FF97FF\",\"symbol\":\"circle\"},\"mode\":\"markers\",\"name\":\"Camille\",\"orientation\":\"v\",\"showlegend\":true,\"x\":[16829.96],\"xaxis\":\"x\",\"y\":[24069.52],\"yaxis\":\"y\",\"type\":\"scatter\"},{\"hovertemplate\":\"CHAMPIONNAME=Cassiopeia<br>TOTALDAMAGEDEALTTOCHAMPIONS=%{x}<br>TOTALDAMAGETAKEN=%{y}<extra></extra>\",\"legendgroup\":\"Cassiopeia\",\"marker\":{\"color\":\"#FECB52\",\"symbol\":\"circle\"},\"mode\":\"markers\",\"name\":\"Cassiopeia\",\"orientation\":\"v\",\"showlegend\":true,\"x\":[19688.81],\"xaxis\":\"x\",\"y\":[23911.43],\"yaxis\":\"y\",\"type\":\"scatter\"},{\"hovertemplate\":\"CHAMPIONNAME=Chogath<br>TOTALDAMAGEDEALTTOCHAMPIONS=%{x}<br>TOTALDAMAGETAKEN=%{y}<extra></extra>\",\"legendgroup\":\"Chogath\",\"marker\":{\"color\":\"#636efa\",\"symbol\":\"circle\"},\"mode\":\"markers\",\"name\":\"Chogath\",\"orientation\":\"v\",\"showlegend\":true,\"x\":[16187.62],\"xaxis\":\"x\",\"y\":[31761.54],\"yaxis\":\"y\",\"type\":\"scatter\"},{\"hovertemplate\":\"CHAMPIONNAME=Corki<br>TOTALDAMAGEDEALTTOCHAMPIONS=%{x}<br>TOTALDAMAGETAKEN=%{y}<extra></extra>\",\"legendgroup\":\"Corki\",\"marker\":{\"color\":\"#EF553B\",\"symbol\":\"circle\"},\"mode\":\"markers\",\"name\":\"Corki\",\"orientation\":\"v\",\"showlegend\":true,\"x\":[21928.37],\"xaxis\":\"x\",\"y\":[19366.39],\"yaxis\":\"y\",\"type\":\"scatter\"},{\"hovertemplate\":\"CHAMPIONNAME=Darius<br>TOTALDAMAGEDEALTTOCHAMPIONS=%{x}<br>TOTALDAMAGETAKEN=%{y}<extra></extra>\",\"legendgroup\":\"Darius\",\"marker\":{\"color\":\"#00cc96\",\"symbol\":\"circle\"},\"mode\":\"markers\",\"name\":\"Darius\",\"orientation\":\"v\",\"showlegend\":true,\"x\":[17299.82],\"xaxis\":\"x\",\"y\":[25280.17],\"yaxis\":\"y\",\"type\":\"scatter\"},{\"hovertemplate\":\"CHAMPIONNAME=Diana<br>TOTALDAMAGEDEALTTOCHAMPIONS=%{x}<br>TOTALDAMAGETAKEN=%{y}<extra></extra>\",\"legendgroup\":\"Diana\",\"marker\":{\"color\":\"#ab63fa\",\"symbol\":\"circle\"},\"mode\":\"markers\",\"name\":\"Diana\",\"orientation\":\"v\",\"showlegend\":true,\"x\":[17769.52],\"xaxis\":\"x\",\"y\":[23377.59],\"yaxis\":\"y\",\"type\":\"scatter\"},{\"hovertemplate\":\"CHAMPIONNAME=DrMundo<br>TOTALDAMAGEDEALTTOCHAMPIONS=%{x}<br>TOTALDAMAGETAKEN=%{y}<extra></extra>\",\"legendgroup\":\"DrMundo\",\"marker\":{\"color\":\"#FFA15A\",\"symbol\":\"circle\"},\"mode\":\"markers\",\"name\":\"DrMundo\",\"orientation\":\"v\",\"showlegend\":true,\"x\":[20861.5],\"xaxis\":\"x\",\"y\":[36729.0],\"yaxis\":\"y\",\"type\":\"scatter\"},{\"hovertemplate\":\"CHAMPIONNAME=Draven<br>TOTALDAMAGEDEALTTOCHAMPIONS=%{x}<br>TOTALDAMAGETAKEN=%{y}<extra></extra>\",\"legendgroup\":\"Draven\",\"marker\":{\"color\":\"#19d3f3\",\"symbol\":\"circle\"},\"mode\":\"markers\",\"name\":\"Draven\",\"orientation\":\"v\",\"showlegend\":true,\"x\":[24313.12],\"xaxis\":\"x\",\"y\":[23302.54],\"yaxis\":\"y\",\"type\":\"scatter\"},{\"hovertemplate\":\"CHAMPIONNAME=Ekko<br>TOTALDAMAGEDEALTTOCHAMPIONS=%{x}<br>TOTALDAMAGETAKEN=%{y}<extra></extra>\",\"legendgroup\":\"Ekko\",\"marker\":{\"color\":\"#FF6692\",\"symbol\":\"circle\"},\"mode\":\"markers\",\"name\":\"Ekko\",\"orientation\":\"v\",\"showlegend\":true,\"x\":[18815.06],\"xaxis\":\"x\",\"y\":[29480.52],\"yaxis\":\"y\",\"type\":\"scatter\"},{\"hovertemplate\":\"CHAMPIONNAME=Elise<br>TOTALDAMAGEDEALTTOCHAMPIONS=%{x}<br>TOTALDAMAGETAKEN=%{y}<extra></extra>\",\"legendgroup\":\"Elise\",\"marker\":{\"color\":\"#B6E880\",\"symbol\":\"circle\"},\"mode\":\"markers\",\"name\":\"Elise\",\"orientation\":\"v\",\"showlegend\":true,\"x\":[17841.68],\"xaxis\":\"x\",\"y\":[23613.42],\"yaxis\":\"y\",\"type\":\"scatter\"},{\"hovertemplate\":\"CHAMPIONNAME=Evelynn<br>TOTALDAMAGEDEALTTOCHAMPIONS=%{x}<br>TOTALDAMAGETAKEN=%{y}<extra></extra>\",\"legendgroup\":\"Evelynn\",\"marker\":{\"color\":\"#FF97FF\",\"symbol\":\"circle\"},\"mode\":\"markers\",\"name\":\"Evelynn\",\"orientation\":\"v\",\"showlegend\":true,\"x\":[20993.13],\"xaxis\":\"x\",\"y\":[23759.73],\"yaxis\":\"y\",\"type\":\"scatter\"},{\"hovertemplate\":\"CHAMPIONNAME=Ezreal<br>TOTALDAMAGEDEALTTOCHAMPIONS=%{x}<br>TOTALDAMAGETAKEN=%{y}<extra></extra>\",\"legendgroup\":\"Ezreal\",\"marker\":{\"color\":\"#FECB52\",\"symbol\":\"circle\"},\"mode\":\"markers\",\"name\":\"Ezreal\",\"orientation\":\"v\",\"showlegend\":true,\"x\":[22566.07],\"xaxis\":\"x\",\"y\":[18877.42],\"yaxis\":\"y\",\"type\":\"scatter\"},{\"hovertemplate\":\"CHAMPIONNAME=FiddleSticks<br>TOTALDAMAGEDEALTTOCHAMPIONS=%{x}<br>TOTALDAMAGETAKEN=%{y}<extra></extra>\",\"legendgroup\":\"FiddleSticks\",\"marker\":{\"color\":\"#636efa\",\"symbol\":\"circle\"},\"mode\":\"markers\",\"name\":\"FiddleSticks\",\"orientation\":\"v\",\"showlegend\":true,\"x\":[19999.09],\"xaxis\":\"x\",\"y\":[27796.39],\"yaxis\":\"y\",\"type\":\"scatter\"},{\"hovertemplate\":\"CHAMPIONNAME=Fiora<br>TOTALDAMAGEDEALTTOCHAMPIONS=%{x}<br>TOTALDAMAGETAKEN=%{y}<extra></extra>\",\"legendgroup\":\"Fiora\",\"marker\":{\"color\":\"#EF553B\",\"symbol\":\"circle\"},\"mode\":\"markers\",\"name\":\"Fiora\",\"orientation\":\"v\",\"showlegend\":true,\"x\":[19076.53],\"xaxis\":\"x\",\"y\":[27956.88],\"yaxis\":\"y\",\"type\":\"scatter\"},{\"hovertemplate\":\"CHAMPIONNAME=Fizz<br>TOTALDAMAGEDEALTTOCHAMPIONS=%{x}<br>TOTALDAMAGETAKEN=%{y}<extra></extra>\",\"legendgroup\":\"Fizz\",\"marker\":{\"color\":\"#00cc96\",\"symbol\":\"circle\"},\"mode\":\"markers\",\"name\":\"Fizz\",\"orientation\":\"v\",\"showlegend\":true,\"x\":[20725.41],\"xaxis\":\"x\",\"y\":[22617.45],\"yaxis\":\"y\",\"type\":\"scatter\"},{\"hovertemplate\":\"CHAMPIONNAME=Galio<br>TOTALDAMAGEDEALTTOCHAMPIONS=%{x}<br>TOTALDAMAGETAKEN=%{y}<extra></extra>\",\"legendgroup\":\"Galio\",\"marker\":{\"color\":\"#ab63fa\",\"symbol\":\"circle\"},\"mode\":\"markers\",\"name\":\"Galio\",\"orientation\":\"v\",\"showlegend\":true,\"x\":[13797.04],\"xaxis\":\"x\",\"y\":[21155.07],\"yaxis\":\"y\",\"type\":\"scatter\"},{\"hovertemplate\":\"CHAMPIONNAME=Gangplank<br>TOTALDAMAGEDEALTTOCHAMPIONS=%{x}<br>TOTALDAMAGETAKEN=%{y}<extra></extra>\",\"legendgroup\":\"Gangplank\",\"marker\":{\"color\":\"#FFA15A\",\"symbol\":\"circle\"},\"mode\":\"markers\",\"name\":\"Gangplank\",\"orientation\":\"v\",\"showlegend\":true,\"x\":[20432.88],\"xaxis\":\"x\",\"y\":[24544.24],\"yaxis\":\"y\",\"type\":\"scatter\"},{\"hovertemplate\":\"CHAMPIONNAME=Garen<br>TOTALDAMAGEDEALTTOCHAMPIONS=%{x}<br>TOTALDAMAGETAKEN=%{y}<extra></extra>\",\"legendgroup\":\"Garen\",\"marker\":{\"color\":\"#19d3f3\",\"symbol\":\"circle\"},\"mode\":\"markers\",\"name\":\"Garen\",\"orientation\":\"v\",\"showlegend\":true,\"x\":[14660.47],\"xaxis\":\"x\",\"y\":[23526.85],\"yaxis\":\"y\",\"type\":\"scatter\"},{\"hovertemplate\":\"CHAMPIONNAME=Gnar<br>TOTALDAMAGEDEALTTOCHAMPIONS=%{x}<br>TOTALDAMAGETAKEN=%{y}<extra></extra>\",\"legendgroup\":\"Gnar\",\"marker\":{\"color\":\"#FF6692\",\"symbol\":\"circle\"},\"mode\":\"markers\",\"name\":\"Gnar\",\"orientation\":\"v\",\"showlegend\":true,\"x\":[20334.63],\"xaxis\":\"x\",\"y\":[26574.0],\"yaxis\":\"y\",\"type\":\"scatter\"},{\"hovertemplate\":\"CHAMPIONNAME=Gragas<br>TOTALDAMAGEDEALTTOCHAMPIONS=%{x}<br>TOTALDAMAGETAKEN=%{y}<extra></extra>\",\"legendgroup\":\"Gragas\",\"marker\":{\"color\":\"#B6E880\",\"symbol\":\"circle\"},\"mode\":\"markers\",\"name\":\"Gragas\",\"orientation\":\"v\",\"showlegend\":true,\"x\":[12955.63],\"xaxis\":\"x\",\"y\":[22416.71],\"yaxis\":\"y\",\"type\":\"scatter\"},{\"hovertemplate\":\"CHAMPIONNAME=Graves<br>TOTALDAMAGEDEALTTOCHAMPIONS=%{x}<br>TOTALDAMAGETAKEN=%{y}<extra></extra>\",\"legendgroup\":\"Graves\",\"marker\":{\"color\":\"#FF97FF\",\"symbol\":\"circle\"},\"mode\":\"markers\",\"name\":\"Graves\",\"orientation\":\"v\",\"showlegend\":true,\"x\":[18296.01],\"xaxis\":\"x\",\"y\":[22555.34],\"yaxis\":\"y\",\"type\":\"scatter\"},{\"hovertemplate\":\"CHAMPIONNAME=Gwen<br>TOTALDAMAGEDEALTTOCHAMPIONS=%{x}<br>TOTALDAMAGETAKEN=%{y}<extra></extra>\",\"legendgroup\":\"Gwen\",\"marker\":{\"color\":\"#FECB52\",\"symbol\":\"circle\"},\"mode\":\"markers\",\"name\":\"Gwen\",\"orientation\":\"v\",\"showlegend\":true,\"x\":[18230.77],\"xaxis\":\"x\",\"y\":[28095.8],\"yaxis\":\"y\",\"type\":\"scatter\"},{\"hovertemplate\":\"CHAMPIONNAME=Hecarim<br>TOTALDAMAGEDEALTTOCHAMPIONS=%{x}<br>TOTALDAMAGETAKEN=%{y}<extra></extra>\",\"legendgroup\":\"Hecarim\",\"marker\":{\"color\":\"#636efa\",\"symbol\":\"circle\"},\"mode\":\"markers\",\"name\":\"Hecarim\",\"orientation\":\"v\",\"showlegend\":true,\"x\":[15482.38],\"xaxis\":\"x\",\"y\":[32965.12],\"yaxis\":\"y\",\"type\":\"scatter\"},{\"hovertemplate\":\"CHAMPIONNAME=Heimerdinger<br>TOTALDAMAGEDEALTTOCHAMPIONS=%{x}<br>TOTALDAMAGETAKEN=%{y}<extra></extra>\",\"legendgroup\":\"Heimerdinger\",\"marker\":{\"color\":\"#EF553B\",\"symbol\":\"circle\"},\"mode\":\"markers\",\"name\":\"Heimerdinger\",\"orientation\":\"v\",\"showlegend\":true,\"x\":[19638.71],\"xaxis\":\"x\",\"y\":[14255.8],\"yaxis\":\"y\",\"type\":\"scatter\"},{\"hovertemplate\":\"CHAMPIONNAME=Illaoi<br>TOTALDAMAGEDEALTTOCHAMPIONS=%{x}<br>TOTALDAMAGETAKEN=%{y}<extra></extra>\",\"legendgroup\":\"Illaoi\",\"marker\":{\"color\":\"#00cc96\",\"symbol\":\"circle\"},\"mode\":\"markers\",\"name\":\"Illaoi\",\"orientation\":\"v\",\"showlegend\":true,\"x\":[21337.24],\"xaxis\":\"x\",\"y\":[29005.85],\"yaxis\":\"y\",\"type\":\"scatter\"},{\"hovertemplate\":\"CHAMPIONNAME=Irelia<br>TOTALDAMAGEDEALTTOCHAMPIONS=%{x}<br>TOTALDAMAGETAKEN=%{y}<extra></extra>\",\"legendgroup\":\"Irelia\",\"marker\":{\"color\":\"#ab63fa\",\"symbol\":\"circle\"},\"mode\":\"markers\",\"name\":\"Irelia\",\"orientation\":\"v\",\"showlegend\":true,\"x\":[21793.73],\"xaxis\":\"x\",\"y\":[29395.08],\"yaxis\":\"y\",\"type\":\"scatter\"},{\"hovertemplate\":\"CHAMPIONNAME=Ivern<br>TOTALDAMAGEDEALTTOCHAMPIONS=%{x}<br>TOTALDAMAGETAKEN=%{y}<extra></extra>\",\"legendgroup\":\"Ivern\",\"marker\":{\"color\":\"#FFA15A\",\"symbol\":\"circle\"},\"mode\":\"markers\",\"name\":\"Ivern\",\"orientation\":\"v\",\"showlegend\":true,\"x\":[7651.6],\"xaxis\":\"x\",\"y\":[13670.4],\"yaxis\":\"y\",\"type\":\"scatter\"},{\"hovertemplate\":\"CHAMPIONNAME=Janna<br>TOTALDAMAGEDEALTTOCHAMPIONS=%{x}<br>TOTALDAMAGETAKEN=%{y}<extra></extra>\",\"legendgroup\":\"Janna\",\"marker\":{\"color\":\"#19d3f3\",\"symbol\":\"circle\"},\"mode\":\"markers\",\"name\":\"Janna\",\"orientation\":\"v\",\"showlegend\":true,\"x\":[6137.94],\"xaxis\":\"x\",\"y\":[15879.28],\"yaxis\":\"y\",\"type\":\"scatter\"},{\"hovertemplate\":\"CHAMPIONNAME=JarvanIV<br>TOTALDAMAGEDEALTTOCHAMPIONS=%{x}<br>TOTALDAMAGETAKEN=%{y}<extra></extra>\",\"legendgroup\":\"JarvanIV\",\"marker\":{\"color\":\"#FF6692\",\"symbol\":\"circle\"},\"mode\":\"markers\",\"name\":\"JarvanIV\",\"orientation\":\"v\",\"showlegend\":true,\"x\":[13108.13],\"xaxis\":\"x\",\"y\":[26594.59],\"yaxis\":\"y\",\"type\":\"scatter\"},{\"hovertemplate\":\"CHAMPIONNAME=Jax<br>TOTALDAMAGEDEALTTOCHAMPIONS=%{x}<br>TOTALDAMAGETAKEN=%{y}<extra></extra>\",\"legendgroup\":\"Jax\",\"marker\":{\"color\":\"#B6E880\",\"symbol\":\"circle\"},\"mode\":\"markers\",\"name\":\"Jax\",\"orientation\":\"v\",\"showlegend\":true,\"x\":[17485.0],\"xaxis\":\"x\",\"y\":[24367.69],\"yaxis\":\"y\",\"type\":\"scatter\"},{\"hovertemplate\":\"CHAMPIONNAME=Jayce<br>TOTALDAMAGEDEALTTOCHAMPIONS=%{x}<br>TOTALDAMAGETAKEN=%{y}<extra></extra>\",\"legendgroup\":\"Jayce\",\"marker\":{\"color\":\"#FF97FF\",\"symbol\":\"circle\"},\"mode\":\"markers\",\"name\":\"Jayce\",\"orientation\":\"v\",\"showlegend\":true,\"x\":[20274.4],\"xaxis\":\"x\",\"y\":[19444.47],\"yaxis\":\"y\",\"type\":\"scatter\"},{\"hovertemplate\":\"CHAMPIONNAME=Jhin<br>TOTALDAMAGEDEALTTOCHAMPIONS=%{x}<br>TOTALDAMAGETAKEN=%{y}<extra></extra>\",\"legendgroup\":\"Jhin\",\"marker\":{\"color\":\"#FECB52\",\"symbol\":\"circle\"},\"mode\":\"markers\",\"name\":\"Jhin\",\"orientation\":\"v\",\"showlegend\":true,\"x\":[18494.15],\"xaxis\":\"x\",\"y\":[17701.48],\"yaxis\":\"y\",\"type\":\"scatter\"},{\"hovertemplate\":\"CHAMPIONNAME=Jinx<br>TOTALDAMAGEDEALTTOCHAMPIONS=%{x}<br>TOTALDAMAGETAKEN=%{y}<extra></extra>\",\"legendgroup\":\"Jinx\",\"marker\":{\"color\":\"#636efa\",\"symbol\":\"circle\"},\"mode\":\"markers\",\"name\":\"Jinx\",\"orientation\":\"v\",\"showlegend\":true,\"x\":[17782.21],\"xaxis\":\"x\",\"y\":[18165.38],\"yaxis\":\"y\",\"type\":\"scatter\"},{\"hovertemplate\":\"CHAMPIONNAME=Kaisa<br>TOTALDAMAGEDEALTTOCHAMPIONS=%{x}<br>TOTALDAMAGETAKEN=%{y}<extra></extra>\",\"legendgroup\":\"Kaisa\",\"marker\":{\"color\":\"#EF553B\",\"symbol\":\"circle\"},\"mode\":\"markers\",\"name\":\"Kaisa\",\"orientation\":\"v\",\"showlegend\":true,\"x\":[19870.06],\"xaxis\":\"x\",\"y\":[18495.89],\"yaxis\":\"y\",\"type\":\"scatter\"},{\"hovertemplate\":\"CHAMPIONNAME=Kalista<br>TOTALDAMAGEDEALTTOCHAMPIONS=%{x}<br>TOTALDAMAGETAKEN=%{y}<extra></extra>\",\"legendgroup\":\"Kalista\",\"marker\":{\"color\":\"#00cc96\",\"symbol\":\"circle\"},\"mode\":\"markers\",\"name\":\"Kalista\",\"orientation\":\"v\",\"showlegend\":true,\"x\":[17364.41],\"xaxis\":\"x\",\"y\":[19665.68],\"yaxis\":\"y\",\"type\":\"scatter\"},{\"hovertemplate\":\"CHAMPIONNAME=Karma<br>TOTALDAMAGEDEALTTOCHAMPIONS=%{x}<br>TOTALDAMAGETAKEN=%{y}<extra></extra>\",\"legendgroup\":\"Karma\",\"marker\":{\"color\":\"#ab63fa\",\"symbol\":\"circle\"},\"mode\":\"markers\",\"name\":\"Karma\",\"orientation\":\"v\",\"showlegend\":true,\"x\":[12503.96],\"xaxis\":\"x\",\"y\":[17644.72],\"yaxis\":\"y\",\"type\":\"scatter\"},{\"hovertemplate\":\"CHAMPIONNAME=Karthus<br>TOTALDAMAGEDEALTTOCHAMPIONS=%{x}<br>TOTALDAMAGETAKEN=%{y}<extra></extra>\",\"legendgroup\":\"Karthus\",\"marker\":{\"color\":\"#FFA15A\",\"symbol\":\"circle\"},\"mode\":\"markers\",\"name\":\"Karthus\",\"orientation\":\"v\",\"showlegend\":true,\"x\":[27714.41],\"xaxis\":\"x\",\"y\":[22283.95],\"yaxis\":\"y\",\"type\":\"scatter\"},{\"hovertemplate\":\"CHAMPIONNAME=Kassadin<br>TOTALDAMAGEDEALTTOCHAMPIONS=%{x}<br>TOTALDAMAGETAKEN=%{y}<extra></extra>\",\"legendgroup\":\"Kassadin\",\"marker\":{\"color\":\"#19d3f3\",\"symbol\":\"circle\"},\"mode\":\"markers\",\"name\":\"Kassadin\",\"orientation\":\"v\",\"showlegend\":true,\"x\":[16780.79],\"xaxis\":\"x\",\"y\":[25587.68],\"yaxis\":\"y\",\"type\":\"scatter\"},{\"hovertemplate\":\"CHAMPIONNAME=Katarina<br>TOTALDAMAGEDEALTTOCHAMPIONS=%{x}<br>TOTALDAMAGETAKEN=%{y}<extra></extra>\",\"legendgroup\":\"Katarina\",\"marker\":{\"color\":\"#FF6692\",\"symbol\":\"circle\"},\"mode\":\"markers\",\"name\":\"Katarina\",\"orientation\":\"v\",\"showlegend\":true,\"x\":[23180.29],\"xaxis\":\"x\",\"y\":[23824.54],\"yaxis\":\"y\",\"type\":\"scatter\"},{\"hovertemplate\":\"CHAMPIONNAME=Kayle<br>TOTALDAMAGEDEALTTOCHAMPIONS=%{x}<br>TOTALDAMAGETAKEN=%{y}<extra></extra>\",\"legendgroup\":\"Kayle\",\"marker\":{\"color\":\"#B6E880\",\"symbol\":\"circle\"},\"mode\":\"markers\",\"name\":\"Kayle\",\"orientation\":\"v\",\"showlegend\":true,\"x\":[17518.7],\"xaxis\":\"x\",\"y\":[21146.23],\"yaxis\":\"y\",\"type\":\"scatter\"},{\"hovertemplate\":\"CHAMPIONNAME=Kayn<br>TOTALDAMAGEDEALTTOCHAMPIONS=%{x}<br>TOTALDAMAGETAKEN=%{y}<extra></extra>\",\"legendgroup\":\"Kayn\",\"marker\":{\"color\":\"#FF97FF\",\"symbol\":\"circle\"},\"mode\":\"markers\",\"name\":\"Kayn\",\"orientation\":\"v\",\"showlegend\":true,\"x\":[19453.5],\"xaxis\":\"x\",\"y\":[31326.58],\"yaxis\":\"y\",\"type\":\"scatter\"},{\"hovertemplate\":\"CHAMPIONNAME=Kennen<br>TOTALDAMAGEDEALTTOCHAMPIONS=%{x}<br>TOTALDAMAGETAKEN=%{y}<extra></extra>\",\"legendgroup\":\"Kennen\",\"marker\":{\"color\":\"#FECB52\",\"symbol\":\"circle\"},\"mode\":\"markers\",\"name\":\"Kennen\",\"orientation\":\"v\",\"showlegend\":true,\"x\":[23323.69],\"xaxis\":\"x\",\"y\":[21774.31],\"yaxis\":\"y\",\"type\":\"scatter\"},{\"hovertemplate\":\"CHAMPIONNAME=Khazix<br>TOTALDAMAGEDEALTTOCHAMPIONS=%{x}<br>TOTALDAMAGETAKEN=%{y}<extra></extra>\",\"legendgroup\":\"Khazix\",\"marker\":{\"color\":\"#636efa\",\"symbol\":\"circle\"},\"mode\":\"markers\",\"name\":\"Khazix\",\"orientation\":\"v\",\"showlegend\":true,\"x\":[15413.02],\"xaxis\":\"x\",\"y\":[25576.05],\"yaxis\":\"y\",\"type\":\"scatter\"},{\"hovertemplate\":\"CHAMPIONNAME=Kindred<br>TOTALDAMAGEDEALTTOCHAMPIONS=%{x}<br>TOTALDAMAGETAKEN=%{y}<extra></extra>\",\"legendgroup\":\"Kindred\",\"marker\":{\"color\":\"#EF553B\",\"symbol\":\"circle\"},\"mode\":\"markers\",\"name\":\"Kindred\",\"orientation\":\"v\",\"showlegend\":true,\"x\":[21868.39],\"xaxis\":\"x\",\"y\":[27819.85],\"yaxis\":\"y\",\"type\":\"scatter\"},{\"hovertemplate\":\"CHAMPIONNAME=Kled<br>TOTALDAMAGEDEALTTOCHAMPIONS=%{x}<br>TOTALDAMAGETAKEN=%{y}<extra></extra>\",\"legendgroup\":\"Kled\",\"marker\":{\"color\":\"#00cc96\",\"symbol\":\"circle\"},\"mode\":\"markers\",\"name\":\"Kled\",\"orientation\":\"v\",\"showlegend\":true,\"x\":[21950.2],\"xaxis\":\"x\",\"y\":[38970.8],\"yaxis\":\"y\",\"type\":\"scatter\"},{\"hovertemplate\":\"CHAMPIONNAME=KogMaw<br>TOTALDAMAGEDEALTTOCHAMPIONS=%{x}<br>TOTALDAMAGETAKEN=%{y}<extra></extra>\",\"legendgroup\":\"KogMaw\",\"marker\":{\"color\":\"#ab63fa\",\"symbol\":\"circle\"},\"mode\":\"markers\",\"name\":\"KogMaw\",\"orientation\":\"v\",\"showlegend\":true,\"x\":[25860.39],\"xaxis\":\"x\",\"y\":[21104.46],\"yaxis\":\"y\",\"type\":\"scatter\"},{\"hovertemplate\":\"CHAMPIONNAME=Leblanc<br>TOTALDAMAGEDEALTTOCHAMPIONS=%{x}<br>TOTALDAMAGETAKEN=%{y}<extra></extra>\",\"legendgroup\":\"Leblanc\",\"marker\":{\"color\":\"#FFA15A\",\"symbol\":\"circle\"},\"mode\":\"markers\",\"name\":\"Leblanc\",\"orientation\":\"v\",\"showlegend\":true,\"x\":[20014.93],\"xaxis\":\"x\",\"y\":[21682.1],\"yaxis\":\"y\",\"type\":\"scatter\"},{\"hovertemplate\":\"CHAMPIONNAME=LeeSin<br>TOTALDAMAGEDEALTTOCHAMPIONS=%{x}<br>TOTALDAMAGETAKEN=%{y}<extra></extra>\",\"legendgroup\":\"LeeSin\",\"marker\":{\"color\":\"#19d3f3\",\"symbol\":\"circle\"},\"mode\":\"markers\",\"name\":\"LeeSin\",\"orientation\":\"v\",\"showlegend\":true,\"x\":[15127.95],\"xaxis\":\"x\",\"y\":[29089.54],\"yaxis\":\"y\",\"type\":\"scatter\"},{\"hovertemplate\":\"CHAMPIONNAME=Leona<br>TOTALDAMAGEDEALTTOCHAMPIONS=%{x}<br>TOTALDAMAGETAKEN=%{y}<extra></extra>\",\"legendgroup\":\"Leona\",\"marker\":{\"color\":\"#FF6692\",\"symbol\":\"circle\"},\"mode\":\"markers\",\"name\":\"Leona\",\"orientation\":\"v\",\"showlegend\":true,\"x\":[6419.93],\"xaxis\":\"x\",\"y\":[20585.52],\"yaxis\":\"y\",\"type\":\"scatter\"},{\"hovertemplate\":\"CHAMPIONNAME=Lillia<br>TOTALDAMAGEDEALTTOCHAMPIONS=%{x}<br>TOTALDAMAGETAKEN=%{y}<extra></extra>\",\"legendgroup\":\"Lillia\",\"marker\":{\"color\":\"#B6E880\",\"symbol\":\"circle\"},\"mode\":\"markers\",\"name\":\"Lillia\",\"orientation\":\"v\",\"showlegend\":true,\"x\":[22259.79],\"xaxis\":\"x\",\"y\":[27048.35],\"yaxis\":\"y\",\"type\":\"scatter\"},{\"hovertemplate\":\"CHAMPIONNAME=Lissandra<br>TOTALDAMAGEDEALTTOCHAMPIONS=%{x}<br>TOTALDAMAGETAKEN=%{y}<extra></extra>\",\"legendgroup\":\"Lissandra\",\"marker\":{\"color\":\"#FF97FF\",\"symbol\":\"circle\"},\"mode\":\"markers\",\"name\":\"Lissandra\",\"orientation\":\"v\",\"showlegend\":true,\"x\":[18756.17],\"xaxis\":\"x\",\"y\":[21756.9],\"yaxis\":\"y\",\"type\":\"scatter\"},{\"hovertemplate\":\"CHAMPIONNAME=Lucian<br>TOTALDAMAGEDEALTTOCHAMPIONS=%{x}<br>TOTALDAMAGETAKEN=%{y}<extra></extra>\",\"legendgroup\":\"Lucian\",\"marker\":{\"color\":\"#FECB52\",\"symbol\":\"circle\"},\"mode\":\"markers\",\"name\":\"Lucian\",\"orientation\":\"v\",\"showlegend\":true,\"x\":[20394.54],\"xaxis\":\"x\",\"y\":[20490.54],\"yaxis\":\"y\",\"type\":\"scatter\"},{\"hovertemplate\":\"CHAMPIONNAME=Lulu<br>TOTALDAMAGEDEALTTOCHAMPIONS=%{x}<br>TOTALDAMAGETAKEN=%{y}<extra></extra>\",\"legendgroup\":\"Lulu\",\"marker\":{\"color\":\"#636efa\",\"symbol\":\"circle\"},\"mode\":\"markers\",\"name\":\"Lulu\",\"orientation\":\"v\",\"showlegend\":true,\"x\":[5513.32],\"xaxis\":\"x\",\"y\":[14605.63],\"yaxis\":\"y\",\"type\":\"scatter\"},{\"hovertemplate\":\"CHAMPIONNAME=Lux<br>TOTALDAMAGEDEALTTOCHAMPIONS=%{x}<br>TOTALDAMAGETAKEN=%{y}<extra></extra>\",\"legendgroup\":\"Lux\",\"marker\":{\"color\":\"#EF553B\",\"symbol\":\"circle\"},\"mode\":\"markers\",\"name\":\"Lux\",\"orientation\":\"v\",\"showlegend\":true,\"x\":[17243.84],\"xaxis\":\"x\",\"y\":[14261.35],\"yaxis\":\"y\",\"type\":\"scatter\"},{\"hovertemplate\":\"CHAMPIONNAME=Malphite<br>TOTALDAMAGEDEALTTOCHAMPIONS=%{x}<br>TOTALDAMAGETAKEN=%{y}<extra></extra>\",\"legendgroup\":\"Malphite\",\"marker\":{\"color\":\"#00cc96\",\"symbol\":\"circle\"},\"mode\":\"markers\",\"name\":\"Malphite\",\"orientation\":\"v\",\"showlegend\":true,\"x\":[17271.92],\"xaxis\":\"x\",\"y\":[21776.12],\"yaxis\":\"y\",\"type\":\"scatter\"},{\"hovertemplate\":\"CHAMPIONNAME=Malzahar<br>TOTALDAMAGEDEALTTOCHAMPIONS=%{x}<br>TOTALDAMAGETAKEN=%{y}<extra></extra>\",\"legendgroup\":\"Malzahar\",\"marker\":{\"color\":\"#ab63fa\",\"symbol\":\"circle\"},\"mode\":\"markers\",\"name\":\"Malzahar\",\"orientation\":\"v\",\"showlegend\":true,\"x\":[21943.75],\"xaxis\":\"x\",\"y\":[17610.5],\"yaxis\":\"y\",\"type\":\"scatter\"},{\"hovertemplate\":\"CHAMPIONNAME=Maokai<br>TOTALDAMAGEDEALTTOCHAMPIONS=%{x}<br>TOTALDAMAGETAKEN=%{y}<extra></extra>\",\"legendgroup\":\"Maokai\",\"marker\":{\"color\":\"#FFA15A\",\"symbol\":\"circle\"},\"mode\":\"markers\",\"name\":\"Maokai\",\"orientation\":\"v\",\"showlegend\":true,\"x\":[12145.98],\"xaxis\":\"x\",\"y\":[23986.78],\"yaxis\":\"y\",\"type\":\"scatter\"},{\"hovertemplate\":\"CHAMPIONNAME=MasterYi<br>TOTALDAMAGEDEALTTOCHAMPIONS=%{x}<br>TOTALDAMAGETAKEN=%{y}<extra></extra>\",\"legendgroup\":\"MasterYi\",\"marker\":{\"color\":\"#19d3f3\",\"symbol\":\"circle\"},\"mode\":\"markers\",\"name\":\"MasterYi\",\"orientation\":\"v\",\"showlegend\":true,\"x\":[18723.09],\"xaxis\":\"x\",\"y\":[26112.7],\"yaxis\":\"y\",\"type\":\"scatter\"},{\"hovertemplate\":\"CHAMPIONNAME=MissFortune<br>TOTALDAMAGEDEALTTOCHAMPIONS=%{x}<br>TOTALDAMAGETAKEN=%{y}<extra></extra>\",\"legendgroup\":\"MissFortune\",\"marker\":{\"color\":\"#FF6692\",\"symbol\":\"circle\"},\"mode\":\"markers\",\"name\":\"MissFortune\",\"orientation\":\"v\",\"showlegend\":true,\"x\":[19496.57],\"xaxis\":\"x\",\"y\":[17488.28],\"yaxis\":\"y\",\"type\":\"scatter\"},{\"hovertemplate\":\"CHAMPIONNAME=MonkeyKing<br>TOTALDAMAGEDEALTTOCHAMPIONS=%{x}<br>TOTALDAMAGETAKEN=%{y}<extra></extra>\",\"legendgroup\":\"MonkeyKing\",\"marker\":{\"color\":\"#B6E880\",\"symbol\":\"circle\"},\"mode\":\"markers\",\"name\":\"MonkeyKing\",\"orientation\":\"v\",\"showlegend\":true,\"x\":[14995.87],\"xaxis\":\"x\",\"y\":[26261.66],\"yaxis\":\"y\",\"type\":\"scatter\"},{\"hovertemplate\":\"CHAMPIONNAME=Mordekaiser<br>TOTALDAMAGEDEALTTOCHAMPIONS=%{x}<br>TOTALDAMAGETAKEN=%{y}<extra></extra>\",\"legendgroup\":\"Mordekaiser\",\"marker\":{\"color\":\"#FF97FF\",\"symbol\":\"circle\"},\"mode\":\"markers\",\"name\":\"Mordekaiser\",\"orientation\":\"v\",\"showlegend\":true,\"x\":[21948.27],\"xaxis\":\"x\",\"y\":[31010.57],\"yaxis\":\"y\",\"type\":\"scatter\"},{\"hovertemplate\":\"CHAMPIONNAME=Morgana<br>TOTALDAMAGEDEALTTOCHAMPIONS=%{x}<br>TOTALDAMAGETAKEN=%{y}<extra></extra>\",\"legendgroup\":\"Morgana\",\"marker\":{\"color\":\"#FECB52\",\"symbol\":\"circle\"},\"mode\":\"markers\",\"name\":\"Morgana\",\"orientation\":\"v\",\"showlegend\":true,\"x\":[12700.79],\"xaxis\":\"x\",\"y\":[16875.23],\"yaxis\":\"y\",\"type\":\"scatter\"},{\"hovertemplate\":\"CHAMPIONNAME=Nami<br>TOTALDAMAGEDEALTTOCHAMPIONS=%{x}<br>TOTALDAMAGETAKEN=%{y}<extra></extra>\",\"legendgroup\":\"Nami\",\"marker\":{\"color\":\"#636efa\",\"symbol\":\"circle\"},\"mode\":\"markers\",\"name\":\"Nami\",\"orientation\":\"v\",\"showlegend\":true,\"x\":[8732.87],\"xaxis\":\"x\",\"y\":[16742.19],\"yaxis\":\"y\",\"type\":\"scatter\"},{\"hovertemplate\":\"CHAMPIONNAME=Nasus<br>TOTALDAMAGEDEALTTOCHAMPIONS=%{x}<br>TOTALDAMAGETAKEN=%{y}<extra></extra>\",\"legendgroup\":\"Nasus\",\"marker\":{\"color\":\"#EF553B\",\"symbol\":\"circle\"},\"mode\":\"markers\",\"name\":\"Nasus\",\"orientation\":\"v\",\"showlegend\":true,\"x\":[18591.8],\"xaxis\":\"x\",\"y\":[31618.47],\"yaxis\":\"y\",\"type\":\"scatter\"},{\"hovertemplate\":\"CHAMPIONNAME=Nautilus<br>TOTALDAMAGEDEALTTOCHAMPIONS=%{x}<br>TOTALDAMAGETAKEN=%{y}<extra></extra>\",\"legendgroup\":\"Nautilus\",\"marker\":{\"color\":\"#00cc96\",\"symbol\":\"circle\"},\"mode\":\"markers\",\"name\":\"Nautilus\",\"orientation\":\"v\",\"showlegend\":true,\"x\":[8993.36],\"xaxis\":\"x\",\"y\":[20153.06],\"yaxis\":\"y\",\"type\":\"scatter\"},{\"hovertemplate\":\"CHAMPIONNAME=Neeko<br>TOTALDAMAGEDEALTTOCHAMPIONS=%{x}<br>TOTALDAMAGETAKEN=%{y}<extra></extra>\",\"legendgroup\":\"Neeko\",\"marker\":{\"color\":\"#ab63fa\",\"symbol\":\"circle\"},\"mode\":\"markers\",\"name\":\"Neeko\",\"orientation\":\"v\",\"showlegend\":true,\"x\":[14854.18],\"xaxis\":\"x\",\"y\":[17083.6],\"yaxis\":\"y\",\"type\":\"scatter\"},{\"hovertemplate\":\"CHAMPIONNAME=Nidalee<br>TOTALDAMAGEDEALTTOCHAMPIONS=%{x}<br>TOTALDAMAGETAKEN=%{y}<extra></extra>\",\"legendgroup\":\"Nidalee\",\"marker\":{\"color\":\"#FFA15A\",\"symbol\":\"circle\"},\"mode\":\"markers\",\"name\":\"Nidalee\",\"orientation\":\"v\",\"showlegend\":true,\"x\":[15477.42],\"xaxis\":\"x\",\"y\":[25368.32],\"yaxis\":\"y\",\"type\":\"scatter\"},{\"hovertemplate\":\"CHAMPIONNAME=Nocturne<br>TOTALDAMAGEDEALTTOCHAMPIONS=%{x}<br>TOTALDAMAGETAKEN=%{y}<extra></extra>\",\"legendgroup\":\"Nocturne\",\"marker\":{\"color\":\"#19d3f3\",\"symbol\":\"circle\"},\"mode\":\"markers\",\"name\":\"Nocturne\",\"orientation\":\"v\",\"showlegend\":true,\"x\":[15995.06],\"xaxis\":\"x\",\"y\":[28585.97],\"yaxis\":\"y\",\"type\":\"scatter\"},{\"hovertemplate\":\"CHAMPIONNAME=Nunu<br>TOTALDAMAGEDEALTTOCHAMPIONS=%{x}<br>TOTALDAMAGETAKEN=%{y}<extra></extra>\",\"legendgroup\":\"Nunu\",\"marker\":{\"color\":\"#FF6692\",\"symbol\":\"circle\"},\"mode\":\"markers\",\"name\":\"Nunu\",\"orientation\":\"v\",\"showlegend\":true,\"x\":[12801.0],\"xaxis\":\"x\",\"y\":[27952.09],\"yaxis\":\"y\",\"type\":\"scatter\"},{\"hovertemplate\":\"CHAMPIONNAME=Olaf<br>TOTALDAMAGEDEALTTOCHAMPIONS=%{x}<br>TOTALDAMAGETAKEN=%{y}<extra></extra>\",\"legendgroup\":\"Olaf\",\"marker\":{\"color\":\"#B6E880\",\"symbol\":\"circle\"},\"mode\":\"markers\",\"name\":\"Olaf\",\"orientation\":\"v\",\"showlegend\":true,\"x\":[18339.67],\"xaxis\":\"x\",\"y\":[26994.26],\"yaxis\":\"y\",\"type\":\"scatter\"},{\"hovertemplate\":\"CHAMPIONNAME=Orianna<br>TOTALDAMAGEDEALTTOCHAMPIONS=%{x}<br>TOTALDAMAGETAKEN=%{y}<extra></extra>\",\"legendgroup\":\"Orianna\",\"marker\":{\"color\":\"#FF97FF\",\"symbol\":\"circle\"},\"mode\":\"markers\",\"name\":\"Orianna\",\"orientation\":\"v\",\"showlegend\":true,\"x\":[20477.08],\"xaxis\":\"x\",\"y\":[18820.15],\"yaxis\":\"y\",\"type\":\"scatter\"},{\"hovertemplate\":\"CHAMPIONNAME=Ornn<br>TOTALDAMAGEDEALTTOCHAMPIONS=%{x}<br>TOTALDAMAGETAKEN=%{y}<extra></extra>\",\"legendgroup\":\"Ornn\",\"marker\":{\"color\":\"#FECB52\",\"symbol\":\"circle\"},\"mode\":\"markers\",\"name\":\"Ornn\",\"orientation\":\"v\",\"showlegend\":true,\"x\":[15152.55],\"xaxis\":\"x\",\"y\":[26233.38],\"yaxis\":\"y\",\"type\":\"scatter\"},{\"hovertemplate\":\"CHAMPIONNAME=Pantheon<br>TOTALDAMAGEDEALTTOCHAMPIONS=%{x}<br>TOTALDAMAGETAKEN=%{y}<extra></extra>\",\"legendgroup\":\"Pantheon\",\"marker\":{\"color\":\"#636efa\",\"symbol\":\"circle\"},\"mode\":\"markers\",\"name\":\"Pantheon\",\"orientation\":\"v\",\"showlegend\":true,\"x\":[16492.54],\"xaxis\":\"x\",\"y\":[22136.09],\"yaxis\":\"y\",\"type\":\"scatter\"},{\"hovertemplate\":\"CHAMPIONNAME=Poppy<br>TOTALDAMAGEDEALTTOCHAMPIONS=%{x}<br>TOTALDAMAGETAKEN=%{y}<extra></extra>\",\"legendgroup\":\"Poppy\",\"marker\":{\"color\":\"#EF553B\",\"symbol\":\"circle\"},\"mode\":\"markers\",\"name\":\"Poppy\",\"orientation\":\"v\",\"showlegend\":true,\"x\":[15109.11],\"xaxis\":\"x\",\"y\":[23586.33],\"yaxis\":\"y\",\"type\":\"scatter\"},{\"hovertemplate\":\"CHAMPIONNAME=Pyke<br>TOTALDAMAGEDEALTTOCHAMPIONS=%{x}<br>TOTALDAMAGETAKEN=%{y}<extra></extra>\",\"legendgroup\":\"Pyke\",\"marker\":{\"color\":\"#00cc96\",\"symbol\":\"circle\"},\"mode\":\"markers\",\"name\":\"Pyke\",\"orientation\":\"v\",\"showlegend\":true,\"x\":[9987.22],\"xaxis\":\"x\",\"y\":[19128.71],\"yaxis\":\"y\",\"type\":\"scatter\"},{\"hovertemplate\":\"CHAMPIONNAME=Qiyana<br>TOTALDAMAGEDEALTTOCHAMPIONS=%{x}<br>TOTALDAMAGETAKEN=%{y}<extra></extra>\",\"legendgroup\":\"Qiyana\",\"marker\":{\"color\":\"#ab63fa\",\"symbol\":\"circle\"},\"mode\":\"markers\",\"name\":\"Qiyana\",\"orientation\":\"v\",\"showlegend\":true,\"x\":[16632.61],\"xaxis\":\"x\",\"y\":[18635.06],\"yaxis\":\"y\",\"type\":\"scatter\"},{\"hovertemplate\":\"CHAMPIONNAME=Quinn<br>TOTALDAMAGEDEALTTOCHAMPIONS=%{x}<br>TOTALDAMAGETAKEN=%{y}<extra></extra>\",\"legendgroup\":\"Quinn\",\"marker\":{\"color\":\"#FFA15A\",\"symbol\":\"circle\"},\"mode\":\"markers\",\"name\":\"Quinn\",\"orientation\":\"v\",\"showlegend\":true,\"x\":[22881.81],\"xaxis\":\"x\",\"y\":[23028.38],\"yaxis\":\"y\",\"type\":\"scatter\"},{\"hovertemplate\":\"CHAMPIONNAME=Rakan<br>TOTALDAMAGEDEALTTOCHAMPIONS=%{x}<br>TOTALDAMAGETAKEN=%{y}<extra></extra>\",\"legendgroup\":\"Rakan\",\"marker\":{\"color\":\"#19d3f3\",\"symbol\":\"circle\"},\"mode\":\"markers\",\"name\":\"Rakan\",\"orientation\":\"v\",\"showlegend\":true,\"x\":[6440.46],\"xaxis\":\"x\",\"y\":[17230.25],\"yaxis\":\"y\",\"type\":\"scatter\"},{\"hovertemplate\":\"CHAMPIONNAME=Rammus<br>TOTALDAMAGEDEALTTOCHAMPIONS=%{x}<br>TOTALDAMAGETAKEN=%{y}<extra></extra>\",\"legendgroup\":\"Rammus\",\"marker\":{\"color\":\"#FF6692\",\"symbol\":\"circle\"},\"mode\":\"markers\",\"name\":\"Rammus\",\"orientation\":\"v\",\"showlegend\":true,\"x\":[13912.14],\"xaxis\":\"x\",\"y\":[25888.08],\"yaxis\":\"y\",\"type\":\"scatter\"},{\"hovertemplate\":\"CHAMPIONNAME=RekSai<br>TOTALDAMAGEDEALTTOCHAMPIONS=%{x}<br>TOTALDAMAGETAKEN=%{y}<extra></extra>\",\"legendgroup\":\"RekSai\",\"marker\":{\"color\":\"#B6E880\",\"symbol\":\"circle\"},\"mode\":\"markers\",\"name\":\"RekSai\",\"orientation\":\"v\",\"showlegend\":true,\"x\":[15544.38],\"xaxis\":\"x\",\"y\":[24848.97],\"yaxis\":\"y\",\"type\":\"scatter\"},{\"hovertemplate\":\"CHAMPIONNAME=Rell<br>TOTALDAMAGEDEALTTOCHAMPIONS=%{x}<br>TOTALDAMAGETAKEN=%{y}<extra></extra>\",\"legendgroup\":\"Rell\",\"marker\":{\"color\":\"#FF97FF\",\"symbol\":\"circle\"},\"mode\":\"markers\",\"name\":\"Rell\",\"orientation\":\"v\",\"showlegend\":true,\"x\":[7563.12],\"xaxis\":\"x\",\"y\":[18031.62],\"yaxis\":\"y\",\"type\":\"scatter\"},{\"hovertemplate\":\"CHAMPIONNAME=Renata<br>TOTALDAMAGEDEALTTOCHAMPIONS=%{x}<br>TOTALDAMAGETAKEN=%{y}<extra></extra>\",\"legendgroup\":\"Renata\",\"marker\":{\"color\":\"#FECB52\",\"symbol\":\"circle\"},\"mode\":\"markers\",\"name\":\"Renata\",\"orientation\":\"v\",\"showlegend\":true,\"x\":[9259.19],\"xaxis\":\"x\",\"y\":[18976.28],\"yaxis\":\"y\",\"type\":\"scatter\"},{\"hovertemplate\":\"CHAMPIONNAME=Renekton<br>TOTALDAMAGEDEALTTOCHAMPIONS=%{x}<br>TOTALDAMAGETAKEN=%{y}<extra></extra>\",\"legendgroup\":\"Renekton\",\"marker\":{\"color\":\"#636efa\",\"symbol\":\"circle\"},\"mode\":\"markers\",\"name\":\"Renekton\",\"orientation\":\"v\",\"showlegend\":true,\"x\":[16001.0],\"xaxis\":\"x\",\"y\":[30408.26],\"yaxis\":\"y\",\"type\":\"scatter\"},{\"hovertemplate\":\"CHAMPIONNAME=Rengar<br>TOTALDAMAGEDEALTTOCHAMPIONS=%{x}<br>TOTALDAMAGETAKEN=%{y}<extra></extra>\",\"legendgroup\":\"Rengar\",\"marker\":{\"color\":\"#EF553B\",\"symbol\":\"circle\"},\"mode\":\"markers\",\"name\":\"Rengar\",\"orientation\":\"v\",\"showlegend\":true,\"x\":[15423.22],\"xaxis\":\"x\",\"y\":[25126.39],\"yaxis\":\"y\",\"type\":\"scatter\"},{\"hovertemplate\":\"CHAMPIONNAME=Riven<br>TOTALDAMAGEDEALTTOCHAMPIONS=%{x}<br>TOTALDAMAGETAKEN=%{y}<extra></extra>\",\"legendgroup\":\"Riven\",\"marker\":{\"color\":\"#00cc96\",\"symbol\":\"circle\"},\"mode\":\"markers\",\"name\":\"Riven\",\"orientation\":\"v\",\"showlegend\":true,\"x\":[15444.02],\"xaxis\":\"x\",\"y\":[24400.0],\"yaxis\":\"y\",\"type\":\"scatter\"},{\"hovertemplate\":\"CHAMPIONNAME=Rumble<br>TOTALDAMAGEDEALTTOCHAMPIONS=%{x}<br>TOTALDAMAGETAKEN=%{y}<extra></extra>\",\"legendgroup\":\"Rumble\",\"marker\":{\"color\":\"#ab63fa\",\"symbol\":\"circle\"},\"mode\":\"markers\",\"name\":\"Rumble\",\"orientation\":\"v\",\"showlegend\":true,\"x\":[21962.76],\"xaxis\":\"x\",\"y\":[23082.24],\"yaxis\":\"y\",\"type\":\"scatter\"},{\"hovertemplate\":\"CHAMPIONNAME=Ryze<br>TOTALDAMAGEDEALTTOCHAMPIONS=%{x}<br>TOTALDAMAGETAKEN=%{y}<extra></extra>\",\"legendgroup\":\"Ryze\",\"marker\":{\"color\":\"#FFA15A\",\"symbol\":\"circle\"},\"mode\":\"markers\",\"name\":\"Ryze\",\"orientation\":\"v\",\"showlegend\":true,\"x\":[18684.24],\"xaxis\":\"x\",\"y\":[23599.83],\"yaxis\":\"y\",\"type\":\"scatter\"},{\"hovertemplate\":\"CHAMPIONNAME=Samira<br>TOTALDAMAGEDEALTTOCHAMPIONS=%{x}<br>TOTALDAMAGETAKEN=%{y}<extra></extra>\",\"legendgroup\":\"Samira\",\"marker\":{\"color\":\"#19d3f3\",\"symbol\":\"circle\"},\"mode\":\"markers\",\"name\":\"Samira\",\"orientation\":\"v\",\"showlegend\":true,\"x\":[20713.03],\"xaxis\":\"x\",\"y\":[22238.0],\"yaxis\":\"y\",\"type\":\"scatter\"},{\"hovertemplate\":\"CHAMPIONNAME=Sejuani<br>TOTALDAMAGEDEALTTOCHAMPIONS=%{x}<br>TOTALDAMAGETAKEN=%{y}<extra></extra>\",\"legendgroup\":\"Sejuani\",\"marker\":{\"color\":\"#FF6692\",\"symbol\":\"circle\"},\"mode\":\"markers\",\"name\":\"Sejuani\",\"orientation\":\"v\",\"showlegend\":true,\"x\":[18897.68],\"xaxis\":\"x\",\"y\":[34535.02],\"yaxis\":\"y\",\"type\":\"scatter\"},{\"hovertemplate\":\"CHAMPIONNAME=Senna<br>TOTALDAMAGEDEALTTOCHAMPIONS=%{x}<br>TOTALDAMAGETAKEN=%{y}<extra></extra>\",\"legendgroup\":\"Senna\",\"marker\":{\"color\":\"#B6E880\",\"symbol\":\"circle\"},\"mode\":\"markers\",\"name\":\"Senna\",\"orientation\":\"v\",\"showlegend\":true,\"x\":[17195.81],\"xaxis\":\"x\",\"y\":[17436.66],\"yaxis\":\"y\",\"type\":\"scatter\"},{\"hovertemplate\":\"CHAMPIONNAME=Seraphine<br>TOTALDAMAGEDEALTTOCHAMPIONS=%{x}<br>TOTALDAMAGETAKEN=%{y}<extra></extra>\",\"legendgroup\":\"Seraphine\",\"marker\":{\"color\":\"#FF97FF\",\"symbol\":\"circle\"},\"mode\":\"markers\",\"name\":\"Seraphine\",\"orientation\":\"v\",\"showlegend\":true,\"x\":[11980.12],\"xaxis\":\"x\",\"y\":[16492.5],\"yaxis\":\"y\",\"type\":\"scatter\"},{\"hovertemplate\":\"CHAMPIONNAME=Sett<br>TOTALDAMAGEDEALTTOCHAMPIONS=%{x}<br>TOTALDAMAGETAKEN=%{y}<extra></extra>\",\"legendgroup\":\"Sett\",\"marker\":{\"color\":\"#FECB52\",\"symbol\":\"circle\"},\"mode\":\"markers\",\"name\":\"Sett\",\"orientation\":\"v\",\"showlegend\":true,\"x\":[18492.09],\"xaxis\":\"x\",\"y\":[28688.49],\"yaxis\":\"y\",\"type\":\"scatter\"},{\"hovertemplate\":\"CHAMPIONNAME=Shaco<br>TOTALDAMAGEDEALTTOCHAMPIONS=%{x}<br>TOTALDAMAGETAKEN=%{y}<extra></extra>\",\"legendgroup\":\"Shaco\",\"marker\":{\"color\":\"#636efa\",\"symbol\":\"circle\"},\"mode\":\"markers\",\"name\":\"Shaco\",\"orientation\":\"v\",\"showlegend\":true,\"x\":[17212.75],\"xaxis\":\"x\",\"y\":[21167.88],\"yaxis\":\"y\",\"type\":\"scatter\"},{\"hovertemplate\":\"CHAMPIONNAME=Shen<br>TOTALDAMAGEDEALTTOCHAMPIONS=%{x}<br>TOTALDAMAGETAKEN=%{y}<extra></extra>\",\"legendgroup\":\"Shen\",\"marker\":{\"color\":\"#EF553B\",\"symbol\":\"circle\"},\"mode\":\"markers\",\"name\":\"Shen\",\"orientation\":\"v\",\"showlegend\":true,\"x\":[11852.29],\"xaxis\":\"x\",\"y\":[24101.92],\"yaxis\":\"y\",\"type\":\"scatter\"},{\"hovertemplate\":\"CHAMPIONNAME=Shyvana<br>TOTALDAMAGEDEALTTOCHAMPIONS=%{x}<br>TOTALDAMAGETAKEN=%{y}<extra></extra>\",\"legendgroup\":\"Shyvana\",\"marker\":{\"color\":\"#00cc96\",\"symbol\":\"circle\"},\"mode\":\"markers\",\"name\":\"Shyvana\",\"orientation\":\"v\",\"showlegend\":true,\"x\":[21572.63],\"xaxis\":\"x\",\"y\":[34910.1],\"yaxis\":\"y\",\"type\":\"scatter\"},{\"hovertemplate\":\"CHAMPIONNAME=Singed<br>TOTALDAMAGEDEALTTOCHAMPIONS=%{x}<br>TOTALDAMAGETAKEN=%{y}<extra></extra>\",\"legendgroup\":\"Singed\",\"marker\":{\"color\":\"#ab63fa\",\"symbol\":\"circle\"},\"mode\":\"markers\",\"name\":\"Singed\",\"orientation\":\"v\",\"showlegend\":true,\"x\":[16487.25],\"xaxis\":\"x\",\"y\":[28558.83],\"yaxis\":\"y\",\"type\":\"scatter\"},{\"hovertemplate\":\"CHAMPIONNAME=Sion<br>TOTALDAMAGEDEALTTOCHAMPIONS=%{x}<br>TOTALDAMAGETAKEN=%{y}<extra></extra>\",\"legendgroup\":\"Sion\",\"marker\":{\"color\":\"#FFA15A\",\"symbol\":\"circle\"},\"mode\":\"markers\",\"name\":\"Sion\",\"orientation\":\"v\",\"showlegend\":true,\"x\":[18792.41],\"xaxis\":\"x\",\"y\":[42240.11],\"yaxis\":\"y\",\"type\":\"scatter\"},{\"hovertemplate\":\"CHAMPIONNAME=Sivir<br>TOTALDAMAGEDEALTTOCHAMPIONS=%{x}<br>TOTALDAMAGETAKEN=%{y}<extra></extra>\",\"legendgroup\":\"Sivir\",\"marker\":{\"color\":\"#19d3f3\",\"symbol\":\"circle\"},\"mode\":\"markers\",\"name\":\"Sivir\",\"orientation\":\"v\",\"showlegend\":true,\"x\":[19192.18],\"xaxis\":\"x\",\"y\":[17638.3],\"yaxis\":\"y\",\"type\":\"scatter\"},{\"hovertemplate\":\"CHAMPIONNAME=Skarner<br>TOTALDAMAGEDEALTTOCHAMPIONS=%{x}<br>TOTALDAMAGETAKEN=%{y}<extra></extra>\",\"legendgroup\":\"Skarner\",\"marker\":{\"color\":\"#FF6692\",\"symbol\":\"circle\"},\"mode\":\"markers\",\"name\":\"Skarner\",\"orientation\":\"v\",\"showlegend\":true,\"x\":[9060.33],\"xaxis\":\"x\",\"y\":[26863.0],\"yaxis\":\"y\",\"type\":\"scatter\"},{\"hovertemplate\":\"CHAMPIONNAME=Sona<br>TOTALDAMAGEDEALTTOCHAMPIONS=%{x}<br>TOTALDAMAGETAKEN=%{y}<extra></extra>\",\"legendgroup\":\"Sona\",\"marker\":{\"color\":\"#B6E880\",\"symbol\":\"circle\"},\"mode\":\"markers\",\"name\":\"Sona\",\"orientation\":\"v\",\"showlegend\":true,\"x\":[9902.25],\"xaxis\":\"x\",\"y\":[15764.21],\"yaxis\":\"y\",\"type\":\"scatter\"},{\"hovertemplate\":\"CHAMPIONNAME=Soraka<br>TOTALDAMAGEDEALTTOCHAMPIONS=%{x}<br>TOTALDAMAGETAKEN=%{y}<extra></extra>\",\"legendgroup\":\"Soraka\",\"marker\":{\"color\":\"#FF97FF\",\"symbol\":\"circle\"},\"mode\":\"markers\",\"name\":\"Soraka\",\"orientation\":\"v\",\"showlegend\":true,\"x\":[5783.16],\"xaxis\":\"x\",\"y\":[14385.45],\"yaxis\":\"y\",\"type\":\"scatter\"},{\"hovertemplate\":\"CHAMPIONNAME=Swain<br>TOTALDAMAGEDEALTTOCHAMPIONS=%{x}<br>TOTALDAMAGETAKEN=%{y}<extra></extra>\",\"legendgroup\":\"Swain\",\"marker\":{\"color\":\"#FECB52\",\"symbol\":\"circle\"},\"mode\":\"markers\",\"name\":\"Swain\",\"orientation\":\"v\",\"showlegend\":true,\"x\":[21446.07],\"xaxis\":\"x\",\"y\":[26972.86],\"yaxis\":\"y\",\"type\":\"scatter\"},{\"hovertemplate\":\"CHAMPIONNAME=Sylas<br>TOTALDAMAGEDEALTTOCHAMPIONS=%{x}<br>TOTALDAMAGETAKEN=%{y}<extra></extra>\",\"legendgroup\":\"Sylas\",\"marker\":{\"color\":\"#636efa\",\"symbol\":\"circle\"},\"mode\":\"markers\",\"name\":\"Sylas\",\"orientation\":\"v\",\"showlegend\":true,\"x\":[20088.97],\"xaxis\":\"x\",\"y\":[29799.73],\"yaxis\":\"y\",\"type\":\"scatter\"},{\"hovertemplate\":\"CHAMPIONNAME=Syndra<br>TOTALDAMAGEDEALTTOCHAMPIONS=%{x}<br>TOTALDAMAGETAKEN=%{y}<extra></extra>\",\"legendgroup\":\"Syndra\",\"marker\":{\"color\":\"#EF553B\",\"symbol\":\"circle\"},\"mode\":\"markers\",\"name\":\"Syndra\",\"orientation\":\"v\",\"showlegend\":true,\"x\":[19699.98],\"xaxis\":\"x\",\"y\":[15999.18],\"yaxis\":\"y\",\"type\":\"scatter\"},{\"hovertemplate\":\"CHAMPIONNAME=TahmKench<br>TOTALDAMAGEDEALTTOCHAMPIONS=%{x}<br>TOTALDAMAGETAKEN=%{y}<extra></extra>\",\"legendgroup\":\"TahmKench\",\"marker\":{\"color\":\"#00cc96\",\"symbol\":\"circle\"},\"mode\":\"markers\",\"name\":\"TahmKench\",\"orientation\":\"v\",\"showlegend\":true,\"x\":[13981.82],\"xaxis\":\"x\",\"y\":[26648.06],\"yaxis\":\"y\",\"type\":\"scatter\"},{\"hovertemplate\":\"CHAMPIONNAME=Taliyah<br>TOTALDAMAGEDEALTTOCHAMPIONS=%{x}<br>TOTALDAMAGETAKEN=%{y}<extra></extra>\",\"legendgroup\":\"Taliyah\",\"marker\":{\"color\":\"#ab63fa\",\"symbol\":\"circle\"},\"mode\":\"markers\",\"name\":\"Taliyah\",\"orientation\":\"v\",\"showlegend\":true,\"x\":[19933.21],\"xaxis\":\"x\",\"y\":[22083.58],\"yaxis\":\"y\",\"type\":\"scatter\"},{\"hovertemplate\":\"CHAMPIONNAME=Talon<br>TOTALDAMAGEDEALTTOCHAMPIONS=%{x}<br>TOTALDAMAGETAKEN=%{y}<extra></extra>\",\"legendgroup\":\"Talon\",\"marker\":{\"color\":\"#FFA15A\",\"symbol\":\"circle\"},\"mode\":\"markers\",\"name\":\"Talon\",\"orientation\":\"v\",\"showlegend\":true,\"x\":[21493.58],\"xaxis\":\"x\",\"y\":[28457.27],\"yaxis\":\"y\",\"type\":\"scatter\"},{\"hovertemplate\":\"CHAMPIONNAME=Taric<br>TOTALDAMAGEDEALTTOCHAMPIONS=%{x}<br>TOTALDAMAGETAKEN=%{y}<extra></extra>\",\"legendgroup\":\"Taric\",\"marker\":{\"color\":\"#19d3f3\",\"symbol\":\"circle\"},\"mode\":\"markers\",\"name\":\"Taric\",\"orientation\":\"v\",\"showlegend\":true,\"x\":[8625.42],\"xaxis\":\"x\",\"y\":[24103.85],\"yaxis\":\"y\",\"type\":\"scatter\"},{\"hovertemplate\":\"CHAMPIONNAME=Teemo<br>TOTALDAMAGEDEALTTOCHAMPIONS=%{x}<br>TOTALDAMAGETAKEN=%{y}<extra></extra>\",\"legendgroup\":\"Teemo\",\"marker\":{\"color\":\"#FF6692\",\"symbol\":\"circle\"},\"mode\":\"markers\",\"name\":\"Teemo\",\"orientation\":\"v\",\"showlegend\":true,\"x\":[23925.27],\"xaxis\":\"x\",\"y\":[21495.14],\"yaxis\":\"y\",\"type\":\"scatter\"},{\"hovertemplate\":\"CHAMPIONNAME=Thresh<br>TOTALDAMAGEDEALTTOCHAMPIONS=%{x}<br>TOTALDAMAGETAKEN=%{y}<extra></extra>\",\"legendgroup\":\"Thresh\",\"marker\":{\"color\":\"#B6E880\",\"symbol\":\"circle\"},\"mode\":\"markers\",\"name\":\"Thresh\",\"orientation\":\"v\",\"showlegend\":true,\"x\":[6580.35],\"xaxis\":\"x\",\"y\":[18344.22],\"yaxis\":\"y\",\"type\":\"scatter\"},{\"hovertemplate\":\"CHAMPIONNAME=Tristana<br>TOTALDAMAGEDEALTTOCHAMPIONS=%{x}<br>TOTALDAMAGETAKEN=%{y}<extra></extra>\",\"legendgroup\":\"Tristana\",\"marker\":{\"color\":\"#FF97FF\",\"symbol\":\"circle\"},\"mode\":\"markers\",\"name\":\"Tristana\",\"orientation\":\"v\",\"showlegend\":true,\"x\":[18991.29],\"xaxis\":\"x\",\"y\":[20227.52],\"yaxis\":\"y\",\"type\":\"scatter\"},{\"hovertemplate\":\"CHAMPIONNAME=Trundle<br>TOTALDAMAGEDEALTTOCHAMPIONS=%{x}<br>TOTALDAMAGETAKEN=%{y}<extra></extra>\",\"legendgroup\":\"Trundle\",\"marker\":{\"color\":\"#FECB52\",\"symbol\":\"circle\"},\"mode\":\"markers\",\"name\":\"Trundle\",\"orientation\":\"v\",\"showlegend\":true,\"x\":[14233.89],\"xaxis\":\"x\",\"y\":[30280.94],\"yaxis\":\"y\",\"type\":\"scatter\"},{\"hovertemplate\":\"CHAMPIONNAME=Tryndamere<br>TOTALDAMAGEDEALTTOCHAMPIONS=%{x}<br>TOTALDAMAGETAKEN=%{y}<extra></extra>\",\"legendgroup\":\"Tryndamere\",\"marker\":{\"color\":\"#636efa\",\"symbol\":\"circle\"},\"mode\":\"markers\",\"name\":\"Tryndamere\",\"orientation\":\"v\",\"showlegend\":true,\"x\":[15065.12],\"xaxis\":\"x\",\"y\":[28016.83],\"yaxis\":\"y\",\"type\":\"scatter\"},{\"hovertemplate\":\"CHAMPIONNAME=TwistedFate<br>TOTALDAMAGEDEALTTOCHAMPIONS=%{x}<br>TOTALDAMAGETAKEN=%{y}<extra></extra>\",\"legendgroup\":\"TwistedFate\",\"marker\":{\"color\":\"#EF553B\",\"symbol\":\"circle\"},\"mode\":\"markers\",\"name\":\"TwistedFate\",\"orientation\":\"v\",\"showlegend\":true,\"x\":[16026.62],\"xaxis\":\"x\",\"y\":[20557.08],\"yaxis\":\"y\",\"type\":\"scatter\"},{\"hovertemplate\":\"CHAMPIONNAME=Twitch<br>TOTALDAMAGEDEALTTOCHAMPIONS=%{x}<br>TOTALDAMAGETAKEN=%{y}<extra></extra>\",\"legendgroup\":\"Twitch\",\"marker\":{\"color\":\"#00cc96\",\"symbol\":\"circle\"},\"mode\":\"markers\",\"name\":\"Twitch\",\"orientation\":\"v\",\"showlegend\":true,\"x\":[17014.49],\"xaxis\":\"x\",\"y\":[18124.04],\"yaxis\":\"y\",\"type\":\"scatter\"},{\"hovertemplate\":\"CHAMPIONNAME=Udyr<br>TOTALDAMAGEDEALTTOCHAMPIONS=%{x}<br>TOTALDAMAGETAKEN=%{y}<extra></extra>\",\"legendgroup\":\"Udyr\",\"marker\":{\"color\":\"#ab63fa\",\"symbol\":\"circle\"},\"mode\":\"markers\",\"name\":\"Udyr\",\"orientation\":\"v\",\"showlegend\":true,\"x\":[11582.05],\"xaxis\":\"x\",\"y\":[24309.25],\"yaxis\":\"y\",\"type\":\"scatter\"},{\"hovertemplate\":\"CHAMPIONNAME=Urgot<br>TOTALDAMAGEDEALTTOCHAMPIONS=%{x}<br>TOTALDAMAGETAKEN=%{y}<extra></extra>\",\"legendgroup\":\"Urgot\",\"marker\":{\"color\":\"#FFA15A\",\"symbol\":\"circle\"},\"mode\":\"markers\",\"name\":\"Urgot\",\"orientation\":\"v\",\"showlegend\":true,\"x\":[13931.54],\"xaxis\":\"x\",\"y\":[18852.08],\"yaxis\":\"y\",\"type\":\"scatter\"},{\"hovertemplate\":\"CHAMPIONNAME=Varus<br>TOTALDAMAGEDEALTTOCHAMPIONS=%{x}<br>TOTALDAMAGETAKEN=%{y}<extra></extra>\",\"legendgroup\":\"Varus\",\"marker\":{\"color\":\"#19d3f3\",\"symbol\":\"circle\"},\"mode\":\"markers\",\"name\":\"Varus\",\"orientation\":\"v\",\"showlegend\":true,\"x\":[19456.82],\"xaxis\":\"x\",\"y\":[17099.25],\"yaxis\":\"y\",\"type\":\"scatter\"},{\"hovertemplate\":\"CHAMPIONNAME=Vayne<br>TOTALDAMAGEDEALTTOCHAMPIONS=%{x}<br>TOTALDAMAGETAKEN=%{y}<extra></extra>\",\"legendgroup\":\"Vayne\",\"marker\":{\"color\":\"#FF6692\",\"symbol\":\"circle\"},\"mode\":\"markers\",\"name\":\"Vayne\",\"orientation\":\"v\",\"showlegend\":true,\"x\":[19455.05],\"xaxis\":\"x\",\"y\":[19854.28],\"yaxis\":\"y\",\"type\":\"scatter\"},{\"hovertemplate\":\"CHAMPIONNAME=Veigar<br>TOTALDAMAGEDEALTTOCHAMPIONS=%{x}<br>TOTALDAMAGETAKEN=%{y}<extra></extra>\",\"legendgroup\":\"Veigar\",\"marker\":{\"color\":\"#B6E880\",\"symbol\":\"circle\"},\"mode\":\"markers\",\"name\":\"Veigar\",\"orientation\":\"v\",\"showlegend\":true,\"x\":[17180.58],\"xaxis\":\"x\",\"y\":[17685.74],\"yaxis\":\"y\",\"type\":\"scatter\"},{\"hovertemplate\":\"CHAMPIONNAME=Velkoz<br>TOTALDAMAGEDEALTTOCHAMPIONS=%{x}<br>TOTALDAMAGETAKEN=%{y}<extra></extra>\",\"legendgroup\":\"Velkoz\",\"marker\":{\"color\":\"#FF97FF\",\"symbol\":\"circle\"},\"mode\":\"markers\",\"name\":\"Velkoz\",\"orientation\":\"v\",\"showlegend\":true,\"x\":[23273.29],\"xaxis\":\"x\",\"y\":[16345.64],\"yaxis\":\"y\",\"type\":\"scatter\"},{\"hovertemplate\":\"CHAMPIONNAME=Vex<br>TOTALDAMAGEDEALTTOCHAMPIONS=%{x}<br>TOTALDAMAGETAKEN=%{y}<extra></extra>\",\"legendgroup\":\"Vex\",\"marker\":{\"color\":\"#FECB52\",\"symbol\":\"circle\"},\"mode\":\"markers\",\"name\":\"Vex\",\"orientation\":\"v\",\"showlegend\":true,\"x\":[18714.86],\"xaxis\":\"x\",\"y\":[18362.59],\"yaxis\":\"y\",\"type\":\"scatter\"},{\"hovertemplate\":\"CHAMPIONNAME=Vi<br>TOTALDAMAGEDEALTTOCHAMPIONS=%{x}<br>TOTALDAMAGETAKEN=%{y}<extra></extra>\",\"legendgroup\":\"Vi\",\"marker\":{\"color\":\"#636efa\",\"symbol\":\"circle\"},\"mode\":\"markers\",\"name\":\"Vi\",\"orientation\":\"v\",\"showlegend\":true,\"x\":[16696.12],\"xaxis\":\"x\",\"y\":[24302.15],\"yaxis\":\"y\",\"type\":\"scatter\"},{\"hovertemplate\":\"CHAMPIONNAME=Viego<br>TOTALDAMAGEDEALTTOCHAMPIONS=%{x}<br>TOTALDAMAGETAKEN=%{y}<extra></extra>\",\"legendgroup\":\"Viego\",\"marker\":{\"color\":\"#EF553B\",\"symbol\":\"circle\"},\"mode\":\"markers\",\"name\":\"Viego\",\"orientation\":\"v\",\"showlegend\":true,\"x\":[17232.42],\"xaxis\":\"x\",\"y\":[30061.08],\"yaxis\":\"y\",\"type\":\"scatter\"},{\"hovertemplate\":\"CHAMPIONNAME=Viktor<br>TOTALDAMAGEDEALTTOCHAMPIONS=%{x}<br>TOTALDAMAGETAKEN=%{y}<extra></extra>\",\"legendgroup\":\"Viktor\",\"marker\":{\"color\":\"#00cc96\",\"symbol\":\"circle\"},\"mode\":\"markers\",\"name\":\"Viktor\",\"orientation\":\"v\",\"showlegend\":true,\"x\":[26106.05],\"xaxis\":\"x\",\"y\":[17131.44],\"yaxis\":\"y\",\"type\":\"scatter\"},{\"hovertemplate\":\"CHAMPIONNAME=Vladimir<br>TOTALDAMAGEDEALTTOCHAMPIONS=%{x}<br>TOTALDAMAGETAKEN=%{y}<extra></extra>\",\"legendgroup\":\"Vladimir\",\"marker\":{\"color\":\"#ab63fa\",\"symbol\":\"circle\"},\"mode\":\"markers\",\"name\":\"Vladimir\",\"orientation\":\"v\",\"showlegend\":true,\"x\":[20848.73],\"xaxis\":\"x\",\"y\":[27890.89],\"yaxis\":\"y\",\"type\":\"scatter\"},{\"hovertemplate\":\"CHAMPIONNAME=Volibear<br>TOTALDAMAGEDEALTTOCHAMPIONS=%{x}<br>TOTALDAMAGETAKEN=%{y}<extra></extra>\",\"legendgroup\":\"Volibear\",\"marker\":{\"color\":\"#FFA15A\",\"symbol\":\"circle\"},\"mode\":\"markers\",\"name\":\"Volibear\",\"orientation\":\"v\",\"showlegend\":true,\"x\":[17391.02],\"xaxis\":\"x\",\"y\":[30234.1],\"yaxis\":\"y\",\"type\":\"scatter\"},{\"hovertemplate\":\"CHAMPIONNAME=Warwick<br>TOTALDAMAGEDEALTTOCHAMPIONS=%{x}<br>TOTALDAMAGETAKEN=%{y}<extra></extra>\",\"legendgroup\":\"Warwick\",\"marker\":{\"color\":\"#19d3f3\",\"symbol\":\"circle\"},\"mode\":\"markers\",\"name\":\"Warwick\",\"orientation\":\"v\",\"showlegend\":true,\"x\":[15458.69],\"xaxis\":\"x\",\"y\":[32914.41],\"yaxis\":\"y\",\"type\":\"scatter\"},{\"hovertemplate\":\"CHAMPIONNAME=Xayah<br>TOTALDAMAGEDEALTTOCHAMPIONS=%{x}<br>TOTALDAMAGETAKEN=%{y}<extra></extra>\",\"legendgroup\":\"Xayah\",\"marker\":{\"color\":\"#FF6692\",\"symbol\":\"circle\"},\"mode\":\"markers\",\"name\":\"Xayah\",\"orientation\":\"v\",\"showlegend\":true,\"x\":[19818.89],\"xaxis\":\"x\",\"y\":[19761.34],\"yaxis\":\"y\",\"type\":\"scatter\"},{\"hovertemplate\":\"CHAMPIONNAME=Xerath<br>TOTALDAMAGEDEALTTOCHAMPIONS=%{x}<br>TOTALDAMAGETAKEN=%{y}<extra></extra>\",\"legendgroup\":\"Xerath\",\"marker\":{\"color\":\"#B6E880\",\"symbol\":\"circle\"},\"mode\":\"markers\",\"name\":\"Xerath\",\"orientation\":\"v\",\"showlegend\":true,\"x\":[21619.8],\"xaxis\":\"x\",\"y\":[14989.87],\"yaxis\":\"y\",\"type\":\"scatter\"},{\"hovertemplate\":\"CHAMPIONNAME=XinZhao<br>TOTALDAMAGEDEALTTOCHAMPIONS=%{x}<br>TOTALDAMAGETAKEN=%{y}<extra></extra>\",\"legendgroup\":\"XinZhao\",\"marker\":{\"color\":\"#FF97FF\",\"symbol\":\"circle\"},\"mode\":\"markers\",\"name\":\"XinZhao\",\"orientation\":\"v\",\"showlegend\":true,\"x\":[17133.59],\"xaxis\":\"x\",\"y\":[29314.03],\"yaxis\":\"y\",\"type\":\"scatter\"},{\"hovertemplate\":\"CHAMPIONNAME=Yasuo<br>TOTALDAMAGEDEALTTOCHAMPIONS=%{x}<br>TOTALDAMAGETAKEN=%{y}<extra></extra>\",\"legendgroup\":\"Yasuo\",\"marker\":{\"color\":\"#FECB52\",\"symbol\":\"circle\"},\"mode\":\"markers\",\"name\":\"Yasuo\",\"orientation\":\"v\",\"showlegend\":true,\"x\":[17419.76],\"xaxis\":\"x\",\"y\":[21587.54],\"yaxis\":\"y\",\"type\":\"scatter\"},{\"hovertemplate\":\"CHAMPIONNAME=Yone<br>TOTALDAMAGEDEALTTOCHAMPIONS=%{x}<br>TOTALDAMAGETAKEN=%{y}<extra></extra>\",\"legendgroup\":\"Yone\",\"marker\":{\"color\":\"#636efa\",\"symbol\":\"circle\"},\"mode\":\"markers\",\"name\":\"Yone\",\"orientation\":\"v\",\"showlegend\":true,\"x\":[20330.21],\"xaxis\":\"x\",\"y\":[22865.98],\"yaxis\":\"y\",\"type\":\"scatter\"},{\"hovertemplate\":\"CHAMPIONNAME=Yorick<br>TOTALDAMAGEDEALTTOCHAMPIONS=%{x}<br>TOTALDAMAGETAKEN=%{y}<extra></extra>\",\"legendgroup\":\"Yorick\",\"marker\":{\"color\":\"#EF553B\",\"symbol\":\"circle\"},\"mode\":\"markers\",\"name\":\"Yorick\",\"orientation\":\"v\",\"showlegend\":true,\"x\":[15862.91],\"xaxis\":\"x\",\"y\":[24283.52],\"yaxis\":\"y\",\"type\":\"scatter\"},{\"hovertemplate\":\"CHAMPIONNAME=Yuumi<br>TOTALDAMAGEDEALTTOCHAMPIONS=%{x}<br>TOTALDAMAGETAKEN=%{y}<extra></extra>\",\"legendgroup\":\"Yuumi\",\"marker\":{\"color\":\"#00cc96\",\"symbol\":\"circle\"},\"mode\":\"markers\",\"name\":\"Yuumi\",\"orientation\":\"v\",\"showlegend\":true,\"x\":[9321.9],\"xaxis\":\"x\",\"y\":[8710.66],\"yaxis\":\"y\",\"type\":\"scatter\"},{\"hovertemplate\":\"CHAMPIONNAME=Zac<br>TOTALDAMAGEDEALTTOCHAMPIONS=%{x}<br>TOTALDAMAGETAKEN=%{y}<extra></extra>\",\"legendgroup\":\"Zac\",\"marker\":{\"color\":\"#ab63fa\",\"symbol\":\"circle\"},\"mode\":\"markers\",\"name\":\"Zac\",\"orientation\":\"v\",\"showlegend\":true,\"x\":[17141.13],\"xaxis\":\"x\",\"y\":[35092.96],\"yaxis\":\"y\",\"type\":\"scatter\"},{\"hovertemplate\":\"CHAMPIONNAME=Zed<br>TOTALDAMAGEDEALTTOCHAMPIONS=%{x}<br>TOTALDAMAGETAKEN=%{y}<extra></extra>\",\"legendgroup\":\"Zed\",\"marker\":{\"color\":\"#FFA15A\",\"symbol\":\"circle\"},\"mode\":\"markers\",\"name\":\"Zed\",\"orientation\":\"v\",\"showlegend\":true,\"x\":[21472.08],\"xaxis\":\"x\",\"y\":[20412.84],\"yaxis\":\"y\",\"type\":\"scatter\"},{\"hovertemplate\":\"CHAMPIONNAME=Zeri<br>TOTALDAMAGEDEALTTOCHAMPIONS=%{x}<br>TOTALDAMAGETAKEN=%{y}<extra></extra>\",\"legendgroup\":\"Zeri\",\"marker\":{\"color\":\"#19d3f3\",\"symbol\":\"circle\"},\"mode\":\"markers\",\"name\":\"Zeri\",\"orientation\":\"v\",\"showlegend\":true,\"x\":[19277.7],\"xaxis\":\"x\",\"y\":[19991.97],\"yaxis\":\"y\",\"type\":\"scatter\"},{\"hovertemplate\":\"CHAMPIONNAME=Ziggs<br>TOTALDAMAGEDEALTTOCHAMPIONS=%{x}<br>TOTALDAMAGETAKEN=%{y}<extra></extra>\",\"legendgroup\":\"Ziggs\",\"marker\":{\"color\":\"#FF6692\",\"symbol\":\"circle\"},\"mode\":\"markers\",\"name\":\"Ziggs\",\"orientation\":\"v\",\"showlegend\":true,\"x\":[20367.65],\"xaxis\":\"x\",\"y\":[15448.65],\"yaxis\":\"y\",\"type\":\"scatter\"},{\"hovertemplate\":\"CHAMPIONNAME=Zilean<br>TOTALDAMAGEDEALTTOCHAMPIONS=%{x}<br>TOTALDAMAGETAKEN=%{y}<extra></extra>\",\"legendgroup\":\"Zilean\",\"marker\":{\"color\":\"#B6E880\",\"symbol\":\"circle\"},\"mode\":\"markers\",\"name\":\"Zilean\",\"orientation\":\"v\",\"showlegend\":true,\"x\":[10336.74],\"xaxis\":\"x\",\"y\":[14571.47],\"yaxis\":\"y\",\"type\":\"scatter\"},{\"hovertemplate\":\"CHAMPIONNAME=Zoe<br>TOTALDAMAGEDEALTTOCHAMPIONS=%{x}<br>TOTALDAMAGETAKEN=%{y}<extra></extra>\",\"legendgroup\":\"Zoe\",\"marker\":{\"color\":\"#FF97FF\",\"symbol\":\"circle\"},\"mode\":\"markers\",\"name\":\"Zoe\",\"orientation\":\"v\",\"showlegend\":true,\"x\":[18373.78],\"xaxis\":\"x\",\"y\":[16566.97],\"yaxis\":\"y\",\"type\":\"scatter\"},{\"hovertemplate\":\"CHAMPIONNAME=Zyra<br>TOTALDAMAGEDEALTTOCHAMPIONS=%{x}<br>TOTALDAMAGETAKEN=%{y}<extra></extra>\",\"legendgroup\":\"Zyra\",\"marker\":{\"color\":\"#FECB52\",\"symbol\":\"circle\"},\"mode\":\"markers\",\"name\":\"Zyra\",\"orientation\":\"v\",\"showlegend\":true,\"x\":[20177.0],\"xaxis\":\"x\",\"y\":[16175.92],\"yaxis\":\"y\",\"type\":\"scatter\"}],                        {\"legend\":{\"title\":{\"text\":\"CHAMPIONNAME\"},\"tracegroupgap\":0},\"template\":{\"data\":{\"barpolar\":[{\"marker\":{\"line\":{\"color\":\"#E5ECF6\",\"width\":0.5},\"pattern\":{\"fillmode\":\"overlay\",\"size\":10,\"solidity\":0.2}},\"type\":\"barpolar\"}],\"bar\":[{\"error_x\":{\"color\":\"#2a3f5f\"},\"error_y\":{\"color\":\"#2a3f5f\"},\"marker\":{\"line\":{\"color\":\"#E5ECF6\",\"width\":0.5},\"pattern\":{\"fillmode\":\"overlay\",\"size\":10,\"solidity\":0.2}},\"type\":\"bar\"}],\"carpet\":[{\"aaxis\":{\"endlinecolor\":\"#2a3f5f\",\"gridcolor\":\"white\",\"linecolor\":\"white\",\"minorgridcolor\":\"white\",\"startlinecolor\":\"#2a3f5f\"},\"baxis\":{\"endlinecolor\":\"#2a3f5f\",\"gridcolor\":\"white\",\"linecolor\":\"white\",\"minorgridcolor\":\"white\",\"startlinecolor\":\"#2a3f5f\"},\"type\":\"carpet\"}],\"choropleth\":[{\"colorbar\":{\"outlinewidth\":0,\"ticks\":\"\"},\"type\":\"choropleth\"}],\"contourcarpet\":[{\"colorbar\":{\"outlinewidth\":0,\"ticks\":\"\"},\"type\":\"contourcarpet\"}],\"contour\":[{\"colorbar\":{\"outlinewidth\":0,\"ticks\":\"\"},\"colorscale\":[[0.0,\"#0d0887\"],[0.1111111111111111,\"#46039f\"],[0.2222222222222222,\"#7201a8\"],[0.3333333333333333,\"#9c179e\"],[0.4444444444444444,\"#bd3786\"],[0.5555555555555556,\"#d8576b\"],[0.6666666666666666,\"#ed7953\"],[0.7777777777777778,\"#fb9f3a\"],[0.8888888888888888,\"#fdca26\"],[1.0,\"#f0f921\"]],\"type\":\"contour\"}],\"heatmapgl\":[{\"colorbar\":{\"outlinewidth\":0,\"ticks\":\"\"},\"colorscale\":[[0.0,\"#0d0887\"],[0.1111111111111111,\"#46039f\"],[0.2222222222222222,\"#7201a8\"],[0.3333333333333333,\"#9c179e\"],[0.4444444444444444,\"#bd3786\"],[0.5555555555555556,\"#d8576b\"],[0.6666666666666666,\"#ed7953\"],[0.7777777777777778,\"#fb9f3a\"],[0.8888888888888888,\"#fdca26\"],[1.0,\"#f0f921\"]],\"type\":\"heatmapgl\"}],\"heatmap\":[{\"colorbar\":{\"outlinewidth\":0,\"ticks\":\"\"},\"colorscale\":[[0.0,\"#0d0887\"],[0.1111111111111111,\"#46039f\"],[0.2222222222222222,\"#7201a8\"],[0.3333333333333333,\"#9c179e\"],[0.4444444444444444,\"#bd3786\"],[0.5555555555555556,\"#d8576b\"],[0.6666666666666666,\"#ed7953\"],[0.7777777777777778,\"#fb9f3a\"],[0.8888888888888888,\"#fdca26\"],[1.0,\"#f0f921\"]],\"type\":\"heatmap\"}],\"histogram2dcontour\":[{\"colorbar\":{\"outlinewidth\":0,\"ticks\":\"\"},\"colorscale\":[[0.0,\"#0d0887\"],[0.1111111111111111,\"#46039f\"],[0.2222222222222222,\"#7201a8\"],[0.3333333333333333,\"#9c179e\"],[0.4444444444444444,\"#bd3786\"],[0.5555555555555556,\"#d8576b\"],[0.6666666666666666,\"#ed7953\"],[0.7777777777777778,\"#fb9f3a\"],[0.8888888888888888,\"#fdca26\"],[1.0,\"#f0f921\"]],\"type\":\"histogram2dcontour\"}],\"histogram2d\":[{\"colorbar\":{\"outlinewidth\":0,\"ticks\":\"\"},\"colorscale\":[[0.0,\"#0d0887\"],[0.1111111111111111,\"#46039f\"],[0.2222222222222222,\"#7201a8\"],[0.3333333333333333,\"#9c179e\"],[0.4444444444444444,\"#bd3786\"],[0.5555555555555556,\"#d8576b\"],[0.6666666666666666,\"#ed7953\"],[0.7777777777777778,\"#fb9f3a\"],[0.8888888888888888,\"#fdca26\"],[1.0,\"#f0f921\"]],\"type\":\"histogram2d\"}],\"histogram\":[{\"marker\":{\"pattern\":{\"fillmode\":\"overlay\",\"size\":10,\"solidity\":0.2}},\"type\":\"histogram\"}],\"mesh3d\":[{\"colorbar\":{\"outlinewidth\":0,\"ticks\":\"\"},\"type\":\"mesh3d\"}],\"parcoords\":[{\"line\":{\"colorbar\":{\"outlinewidth\":0,\"ticks\":\"\"}},\"type\":\"parcoords\"}],\"pie\":[{\"automargin\":true,\"type\":\"pie\"}],\"scatter3d\":[{\"line\":{\"colorbar\":{\"outlinewidth\":0,\"ticks\":\"\"}},\"marker\":{\"colorbar\":{\"outlinewidth\":0,\"ticks\":\"\"}},\"type\":\"scatter3d\"}],\"scattercarpet\":[{\"marker\":{\"colorbar\":{\"outlinewidth\":0,\"ticks\":\"\"}},\"type\":\"scattercarpet\"}],\"scattergeo\":[{\"marker\":{\"colorbar\":{\"outlinewidth\":0,\"ticks\":\"\"}},\"type\":\"scattergeo\"}],\"scattergl\":[{\"marker\":{\"colorbar\":{\"outlinewidth\":0,\"ticks\":\"\"}},\"type\":\"scattergl\"}],\"scattermapbox\":[{\"marker\":{\"colorbar\":{\"outlinewidth\":0,\"ticks\":\"\"}},\"type\":\"scattermapbox\"}],\"scatterpolargl\":[{\"marker\":{\"colorbar\":{\"outlinewidth\":0,\"ticks\":\"\"}},\"type\":\"scatterpolargl\"}],\"scatterpolar\":[{\"marker\":{\"colorbar\":{\"outlinewidth\":0,\"ticks\":\"\"}},\"type\":\"scatterpolar\"}],\"scatter\":[{\"fillpattern\":{\"fillmode\":\"overlay\",\"size\":10,\"solidity\":0.2},\"type\":\"scatter\"}],\"scatterternary\":[{\"marker\":{\"colorbar\":{\"outlinewidth\":0,\"ticks\":\"\"}},\"type\":\"scatterternary\"}],\"surface\":[{\"colorbar\":{\"outlinewidth\":0,\"ticks\":\"\"},\"colorscale\":[[0.0,\"#0d0887\"],[0.1111111111111111,\"#46039f\"],[0.2222222222222222,\"#7201a8\"],[0.3333333333333333,\"#9c179e\"],[0.4444444444444444,\"#bd3786\"],[0.5555555555555556,\"#d8576b\"],[0.6666666666666666,\"#ed7953\"],[0.7777777777777778,\"#fb9f3a\"],[0.8888888888888888,\"#fdca26\"],[1.0,\"#f0f921\"]],\"type\":\"surface\"}],\"table\":[{\"cells\":{\"fill\":{\"color\":\"#EBF0F8\"},\"line\":{\"color\":\"white\"}},\"header\":{\"fill\":{\"color\":\"#C8D4E3\"},\"line\":{\"color\":\"white\"}},\"type\":\"table\"}]},\"layout\":{\"annotationdefaults\":{\"arrowcolor\":\"#2a3f5f\",\"arrowhead\":0,\"arrowwidth\":1},\"autotypenumbers\":\"strict\",\"coloraxis\":{\"colorbar\":{\"outlinewidth\":0,\"ticks\":\"\"}},\"colorscale\":{\"diverging\":[[0,\"#8e0152\"],[0.1,\"#c51b7d\"],[0.2,\"#de77ae\"],[0.3,\"#f1b6da\"],[0.4,\"#fde0ef\"],[0.5,\"#f7f7f7\"],[0.6,\"#e6f5d0\"],[0.7,\"#b8e186\"],[0.8,\"#7fbc41\"],[0.9,\"#4d9221\"],[1,\"#276419\"]],\"sequential\":[[0.0,\"#0d0887\"],[0.1111111111111111,\"#46039f\"],[0.2222222222222222,\"#7201a8\"],[0.3333333333333333,\"#9c179e\"],[0.4444444444444444,\"#bd3786\"],[0.5555555555555556,\"#d8576b\"],[0.6666666666666666,\"#ed7953\"],[0.7777777777777778,\"#fb9f3a\"],[0.8888888888888888,\"#fdca26\"],[1.0,\"#f0f921\"]],\"sequentialminus\":[[0.0,\"#0d0887\"],[0.1111111111111111,\"#46039f\"],[0.2222222222222222,\"#7201a8\"],[0.3333333333333333,\"#9c179e\"],[0.4444444444444444,\"#bd3786\"],[0.5555555555555556,\"#d8576b\"],[0.6666666666666666,\"#ed7953\"],[0.7777777777777778,\"#fb9f3a\"],[0.8888888888888888,\"#fdca26\"],[1.0,\"#f0f921\"]]},\"colorway\":[\"#636efa\",\"#EF553B\",\"#00cc96\",\"#ab63fa\",\"#FFA15A\",\"#19d3f3\",\"#FF6692\",\"#B6E880\",\"#FF97FF\",\"#FECB52\"],\"font\":{\"color\":\"#2a3f5f\"},\"geo\":{\"bgcolor\":\"white\",\"lakecolor\":\"white\",\"landcolor\":\"#E5ECF6\",\"showlakes\":true,\"showland\":true,\"subunitcolor\":\"white\"},\"hoverlabel\":{\"align\":\"left\"},\"hovermode\":\"closest\",\"mapbox\":{\"style\":\"light\"},\"paper_bgcolor\":\"white\",\"plot_bgcolor\":\"#E5ECF6\",\"polar\":{\"angularaxis\":{\"gridcolor\":\"white\",\"linecolor\":\"white\",\"ticks\":\"\"},\"bgcolor\":\"#E5ECF6\",\"radialaxis\":{\"gridcolor\":\"white\",\"linecolor\":\"white\",\"ticks\":\"\"}},\"scene\":{\"xaxis\":{\"backgroundcolor\":\"#E5ECF6\",\"gridcolor\":\"white\",\"gridwidth\":2,\"linecolor\":\"white\",\"showbackground\":true,\"ticks\":\"\",\"zerolinecolor\":\"white\"},\"yaxis\":{\"backgroundcolor\":\"#E5ECF6\",\"gridcolor\":\"white\",\"gridwidth\":2,\"linecolor\":\"white\",\"showbackground\":true,\"ticks\":\"\",\"zerolinecolor\":\"white\"},\"zaxis\":{\"backgroundcolor\":\"#E5ECF6\",\"gridcolor\":\"white\",\"gridwidth\":2,\"linecolor\":\"white\",\"showbackground\":true,\"ticks\":\"\",\"zerolinecolor\":\"white\"}},\"shapedefaults\":{\"line\":{\"color\":\"#2a3f5f\"}},\"ternary\":{\"aaxis\":{\"gridcolor\":\"white\",\"linecolor\":\"white\",\"ticks\":\"\"},\"baxis\":{\"gridcolor\":\"white\",\"linecolor\":\"white\",\"ticks\":\"\"},\"bgcolor\":\"#E5ECF6\",\"caxis\":{\"gridcolor\":\"white\",\"linecolor\":\"white\",\"ticks\":\"\"}},\"title\":{\"x\":0.05},\"xaxis\":{\"automargin\":true,\"gridcolor\":\"white\",\"linecolor\":\"white\",\"ticks\":\"\",\"title\":{\"standoff\":15},\"zerolinecolor\":\"white\",\"zerolinewidth\":2},\"yaxis\":{\"automargin\":true,\"gridcolor\":\"white\",\"linecolor\":\"white\",\"ticks\":\"\",\"title\":{\"standoff\":15},\"zerolinecolor\":\"white\",\"zerolinewidth\":2}}},\"title\":{\"text\":\"\\uc870\\uc740\\uc9c0_\\ucc54\\ud53c\\uc5b8\\ubcc4 \\ub51c\\ub7c9 \\ubc0f \\ud53c\\ud574\\ub7c9 \\uadf8\\ub798\\ud504\"},\"xaxis\":{\"anchor\":\"y\",\"domain\":[0.0,1.0],\"title\":{\"text\":\"TOTALDAMAGEDEALTTOCHAMPIONS\"}},\"yaxis\":{\"anchor\":\"x\",\"domain\":[0.0,1.0],\"title\":{\"text\":\"TOTALDAMAGETAKEN\"}}},                        {\"responsive\": true}                    ).then(function(){\n",
       "                            \n",
       "var gd = document.getElementById('1a2fa02a-e58d-4bad-82d8-e3d798f153b7');\n",
       "var x = new MutationObserver(function (mutations, observer) {{\n",
       "        var display = window.getComputedStyle(gd).display;\n",
       "        if (!display || display === 'none') {{\n",
       "            console.log([gd, 'removed!']);\n",
       "            Plotly.purge(gd);\n",
       "            observer.disconnect();\n",
       "        }}\n",
       "}});\n",
       "\n",
       "// Listen for the removal of the full notebook cells\n",
       "var notebookContainer = gd.closest('#notebook-container');\n",
       "if (notebookContainer) {{\n",
       "    x.observe(notebookContainer, {childList: true});\n",
       "}}\n",
       "\n",
       "// Listen for the clearing of the current output cell\n",
       "var outputEl = gd.closest('.output');\n",
       "if (outputEl) {{\n",
       "    x.observe(outputEl, {childList: true});\n",
       "}}\n",
       "\n",
       "                        })                };                });            </script>        </div>"
      ]
     },
     "metadata": {},
     "output_type": "display_data"
    }
   ],
   "source": [
    "fig = px.scatter(take_df, title='조은지_챔피언별 딜량 및 피해량 그래프',\n",
    "                x = 'TOTALDAMAGEDEALTTOCHAMPIONS',\n",
    "                y = 'TOTALDAMAGETAKEN',\n",
    "                color = 'CHAMPIONNAME')\n",
    "\n",
    "plotly.offline.iplot(fig)"
   ]
  },
  {
   "cell_type": "code",
   "execution_count": 22,
   "id": "0195b093",
   "metadata": {},
   "outputs": [
    {
     "data": {
      "text/html": [
       "<div>\n",
       "<style scoped>\n",
       "    .dataframe tbody tr th:only-of-type {\n",
       "        vertical-align: middle;\n",
       "    }\n",
       "\n",
       "    .dataframe tbody tr th {\n",
       "        vertical-align: top;\n",
       "    }\n",
       "\n",
       "    .dataframe thead th {\n",
       "        text-align: right;\n",
       "    }\n",
       "</style>\n",
       "<table border=\"1\" class=\"dataframe\">\n",
       "  <thead>\n",
       "    <tr style=\"text-align: right;\">\n",
       "      <th></th>\n",
       "      <th>CHAMPIONNAME</th>\n",
       "      <th>TEAMPOSITION</th>\n",
       "      <th>G_15</th>\n",
       "    </tr>\n",
       "  </thead>\n",
       "  <tbody>\n",
       "    <tr>\n",
       "      <th>0</th>\n",
       "      <td>Khazix</td>\n",
       "      <td>JUNGLE</td>\n",
       "      <td>5321</td>\n",
       "    </tr>\n",
       "    <tr>\n",
       "      <th>1</th>\n",
       "      <td>TahmKench</td>\n",
       "      <td>BOTTOM</td>\n",
       "      <td>3477</td>\n",
       "    </tr>\n",
       "    <tr>\n",
       "      <th>2</th>\n",
       "      <td>Singed</td>\n",
       "      <td>MIDDLE</td>\n",
       "      <td>3192</td>\n",
       "    </tr>\n",
       "    <tr>\n",
       "      <th>3</th>\n",
       "      <td>Darius</td>\n",
       "      <td>TOP</td>\n",
       "      <td>4422</td>\n",
       "    </tr>\n",
       "    <tr>\n",
       "      <th>4</th>\n",
       "      <td>Senna</td>\n",
       "      <td>UTILITY</td>\n",
       "      <td>4362</td>\n",
       "    </tr>\n",
       "    <tr>\n",
       "      <th>...</th>\n",
       "      <td>...</td>\n",
       "      <td>...</td>\n",
       "      <td>...</td>\n",
       "    </tr>\n",
       "    <tr>\n",
       "      <th>14724</th>\n",
       "      <td>Ezreal</td>\n",
       "      <td>BOTTOM</td>\n",
       "      <td>0</td>\n",
       "    </tr>\n",
       "    <tr>\n",
       "      <th>14725</th>\n",
       "      <td>Pyke</td>\n",
       "      <td>UTILITY</td>\n",
       "      <td>0</td>\n",
       "    </tr>\n",
       "    <tr>\n",
       "      <th>14726</th>\n",
       "      <td>Rumble</td>\n",
       "      <td>MIDDLE</td>\n",
       "      <td>0</td>\n",
       "    </tr>\n",
       "    <tr>\n",
       "      <th>14727</th>\n",
       "      <td>Graves</td>\n",
       "      <td>JUNGLE</td>\n",
       "      <td>0</td>\n",
       "    </tr>\n",
       "    <tr>\n",
       "      <th>14728</th>\n",
       "      <td>Kayle</td>\n",
       "      <td>TOP</td>\n",
       "      <td>0</td>\n",
       "    </tr>\n",
       "  </tbody>\n",
       "</table>\n",
       "<p>14729 rows × 3 columns</p>\n",
       "</div>"
      ],
      "text/plain": [
       "      CHAMPIONNAME TEAMPOSITION  G_15\n",
       "0           Khazix       JUNGLE  5321\n",
       "1        TahmKench       BOTTOM  3477\n",
       "2           Singed       MIDDLE  3192\n",
       "3           Darius          TOP  4422\n",
       "4            Senna      UTILITY  4362\n",
       "...            ...          ...   ...\n",
       "14724       Ezreal       BOTTOM     0\n",
       "14725         Pyke      UTILITY     0\n",
       "14726       Rumble       MIDDLE     0\n",
       "14727       Graves       JUNGLE     0\n",
       "14728        Kayle          TOP     0\n",
       "\n",
       "[14729 rows x 3 columns]"
      ]
     },
     "execution_count": 22,
     "metadata": {},
     "output_type": "execute_result"
    }
   ],
   "source": [
    "gold_df = df[['CHAMPIONNAME','TEAMPOSITION','G_15']]\n",
    "gold_df"
   ]
  },
  {
   "cell_type": "code",
   "execution_count": 24,
   "id": "34243866",
   "metadata": {},
   "outputs": [],
   "source": [
    "gold_df = gold_df.groupby('TEAMPOSITION').mean().reset_index()"
   ]
  },
  {
   "cell_type": "code",
   "execution_count": 25,
   "id": "f4b1f9bb",
   "metadata": {
    "scrolled": true
   },
   "outputs": [
    {
     "data": {
      "text/html": [
       "<div>\n",
       "<style scoped>\n",
       "    .dataframe tbody tr th:only-of-type {\n",
       "        vertical-align: middle;\n",
       "    }\n",
       "\n",
       "    .dataframe tbody tr th {\n",
       "        vertical-align: top;\n",
       "    }\n",
       "\n",
       "    .dataframe thead th {\n",
       "        text-align: right;\n",
       "    }\n",
       "</style>\n",
       "<table border=\"1\" class=\"dataframe\">\n",
       "  <thead>\n",
       "    <tr style=\"text-align: right;\">\n",
       "      <th></th>\n",
       "      <th>TEAMPOSITION</th>\n",
       "      <th>G_15</th>\n",
       "    </tr>\n",
       "  </thead>\n",
       "  <tbody>\n",
       "    <tr>\n",
       "      <th>0</th>\n",
       "      <td>BOTTOM</td>\n",
       "      <td>5414.154372</td>\n",
       "    </tr>\n",
       "    <tr>\n",
       "      <th>1</th>\n",
       "      <td>JUNGLE</td>\n",
       "      <td>5478.915329</td>\n",
       "    </tr>\n",
       "    <tr>\n",
       "      <th>2</th>\n",
       "      <td>MIDDLE</td>\n",
       "      <td>5221.202113</td>\n",
       "    </tr>\n",
       "    <tr>\n",
       "      <th>3</th>\n",
       "      <td>TOP</td>\n",
       "      <td>5114.567179</td>\n",
       "    </tr>\n",
       "    <tr>\n",
       "      <th>4</th>\n",
       "      <td>UTILITY</td>\n",
       "      <td>4092.297168</td>\n",
       "    </tr>\n",
       "  </tbody>\n",
       "</table>\n",
       "</div>"
      ],
      "text/plain": [
       "  TEAMPOSITION         G_15\n",
       "0       BOTTOM  5414.154372\n",
       "1       JUNGLE  5478.915329\n",
       "2       MIDDLE  5221.202113\n",
       "3          TOP  5114.567179\n",
       "4      UTILITY  4092.297168"
      ]
     },
     "execution_count": 25,
     "metadata": {},
     "output_type": "execute_result"
    }
   ],
   "source": [
    "gold_df"
   ]
  },
  {
   "cell_type": "code",
   "execution_count": 43,
   "id": "3a706bc3",
   "metadata": {},
   "outputs": [
    {
     "data": {
      "text/plain": [
       "Text(0.5, 1.0, '조은지_라인별 15분 골드 그래프')"
      ]
     },
     "execution_count": 43,
     "metadata": {},
     "output_type": "execute_result"
    },
    {
     "data": {
      "image/png": "[encoded data removed]",
      "text/plain": [
       "<Figure size 432x288 with 1 Axes>"
      ]
     },
     "metadata": {
      "needs_background": "light"
     },
     "output_type": "display_data"
    }
   ],
   "source": [
    "plt.figure()\n",
    "plt.bar(gold_df.TEAMPOSITION,gold_df.G_15, color = ['b','g','r','c','m'])\n",
    "plt.xlabel('포지션(라인)')\n",
    "plt.ylabel('골드량')\n",
    "plt.title('조은지_라인별 15분 골드 그래프')"
   ]
  }
 ],
 "metadata": {
  "kernelspec": {
   "display_name": "Python 3 (ipykernel)",
   "language": "python",
   "name": "python3"
  },
  "language_info": {
   "codemirror_mode": {
    "name": "ipython",
    "version": 3
   },
   "file_extension": ".py",
   "mimetype": "text/x-python",
   "name": "python",
   "nbconvert_exporter": "python",
   "pygments_lexer": "ipython3",
   "version": "3.9.7"
  }
 },
 "nbformat": 4,
 "nbformat_minor": 5
}
