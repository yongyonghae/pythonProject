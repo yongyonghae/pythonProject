{
 "cells": [
  {
   "cell_type": "code",
   "execution_count": 2,
   "id": "9f07c074",
   "metadata": {},
   "outputs": [],
   "source": [
    "import my_def_cho as lg\n",
    "import my_utils_cho as mu\n",
    "import time"
   ]
  },
  {
   "cell_type": "code",
   "execution_count": 3,
   "id": "43a36d63",
   "metadata": {},
   "outputs": [],
   "source": [
    "lg.set_api_key('RGAPI-474558e0-2044-46aa-b0b7-ef634af1aa9b')"
   ]
  },
  {
   "cell_type": "code",
   "execution_count": 4,
   "id": "7765ab19",
   "metadata": {},
   "outputs": [],
   "source": [
    "tier = 'BRONZE'"
   ]
  },
  {
   "cell_type": "code",
   "execution_count": 5,
   "id": "66589436",
   "metadata": {
    "scrolled": true
   },
   "outputs": [
    {
     "name": "stderr",
     "output_type": "stream",
     "text": [
      "100%|████████████████████████████████████████████████████████████████████████████████████| 4/4 [00:01<00:00,  2.60it/s]\n",
      "100%|████████████████████████████████████████████████████████████████████████████████████| 5/5 [00:01<00:00,  3.59it/s]\n",
      "100%|████████████████████████████████████████████████████████████████████████████████████| 3/3 [00:03<00:00,  1.06s/it]\n"
     ]
    }
   ],
   "source": [
    "df = lg.get_rawData(tier)"
   ]
  },
  {
   "cell_type": "code",
   "execution_count": 6,
   "id": "c0cadac2",
   "metadata": {
    "scrolled": false
   },
   "outputs": [
    {
     "name": "stderr",
     "output_type": "stream",
     "text": [
      "100%|██████████████████████████████████████████████████████████████████████████████████| 3/3 [00:00<00:00, 3004.52it/s]"
     ]
    },
    {
     "name": "stdout",
     "output_type": "stream",
     "text": [
      "complete! the number of df is 3\n"
     ]
    },
    {
     "name": "stderr",
     "output_type": "stream",
     "text": [
      "\n"
     ]
    }
   ],
   "source": [
    "all_df = lg.get_dataframe_from_game_data(df)"
   ]
  },
  {
   "cell_type": "code",
   "execution_count": null,
   "id": "8d7dea97",
   "metadata": {},
   "outputs": [],
   "source": [
    "# c_sql = 'create table match_stats(gameId varchar(30),gameDuration number(20),gameVersion varchar(40),summonerName varchar(50),summonerLevel number(30), participantId number(5),championName varchar(50),champExperience number(20),teamPosition varchar(50),teamId number(20),win varchar(10),kills number(20),deaths number(20),assists number(20),totalDamageDealtToChampions number(30),totalDamageTaken number(30),g_5 number(20),g_6 number(20),g_7 number(20),g_8 number(20),g_9 number(20),g_10 number(20),g_11 number(20),g_12 number(20),g_13 number(20),g_14 number(20),g_15 number(20),g_16 number(20),g_17 number(20),g_18 number(20),g_19 number(20),g_20 number(20),g_21 number(20),g_22 number(20),g_23 number(20),g_24 number(20),g_25 number(20), constraint m_pk primary key(gameId , participantId))'"
   ]
  },
  {
   "cell_type": "code",
   "execution_count": 7,
   "id": "4b84db99",
   "metadata": {},
   "outputs": [
    {
     "name": "stdout",
     "output_type": "stream",
     "text": [
      "open!\n"
     ]
    }
   ],
   "source": [
    "mu.db_open_local()"
   ]
  },
  {
   "cell_type": "code",
   "execution_count": null,
   "id": "e82c711d",
   "metadata": {},
   "outputs": [],
   "source": [
    "#mu.sql_execute('drop table match_data_take')"
   ]
  },
  {
   "cell_type": "code",
   "execution_count": null,
   "id": "d59becc0",
   "metadata": {},
   "outputs": [],
   "source": [
    "c_sql=\"\"\"\n",
    "create table match_data_take(gameId number(20),participantId number(10),gameDuration number(20),\n",
    "gameVersion varchar(30),summonerName varchar(30),summonerLevel number(10),championName varchar(20),\n",
    "champExperience number(20),teamPosition varchar(15),teamId number(10),win varchar(10),kills number(10),\n",
    "deaths number(10),assists number(10),totalDamageDealtToChampions number(20),totalDamageTaken number(20),\n",
    "baronKills number(10),teamElderDragonKills number(10),dragonKills number(10),teamRiftHeraldKills number(10),g_5 number(10),g_6 number(10),\n",
    "g_7 number(10),g_8 number(10),g_9 number(10),g_10 number(10),g_11 number(10),\n",
    "g_12 number(10),g_13 number(10),g_14 number(10),g_15 number(10),g_16 number(10),g_17 number(10),\n",
    "g_18 number(10),g_19 number(10),g_20 number(10),g_21 number(10),g_22 number(10),g_23 number(10),\n",
    "g_24 number(10),g_25 number(10))\n",
    "\"\"\""
   ]
  },
  {
   "cell_type": "code",
   "execution_count": 8,
   "id": "f85f0b7c",
   "metadata": {
    "scrolled": true
   },
   "outputs": [
    {
     "name": "stderr",
     "output_type": "stream",
     "text": [
      "100%|████████████████████████████████████████████████████████████████████████████████████| 4/4 [00:01<00:00,  2.79it/s]\n",
      "100%|████████████████████████████████████████████████████████████████████████████████████| 5/5 [00:01<00:00,  3.55it/s]\n",
      "100%|████████████████████████████████████████████████████████████████████████████████████| 3/3 [00:03<00:00,  1.04s/it]\n",
      "100%|██████████████████████████████████████████████████████████████████████████████████| 3/3 [00:00<00:00, 2999.50it/s]\n"
     ]
    },
    {
     "name": "stdout",
     "output_type": "stream",
     "text": [
      "complete! the number of df is 3\n",
      "open!\n"
     ]
    },
    {
     "name": "stderr",
     "output_type": "stream",
     "text": [
      "1it [00:00, ?it/s]\n"
     ]
    },
    {
     "name": "stdout",
     "output_type": "stream",
     "text": [
      "0\n"
     ]
    },
    {
     "name": "stderr",
     "output_type": "stream",
     "text": [
      "100%|████████████████████████████████████████████████████████████████████████████████████| 4/4 [00:01<00:00,  2.83it/s]\n",
      "100%|████████████████████████████████████████████████████████████████████████████████████| 5/5 [00:01<00:00,  3.49it/s]\n",
      "100%|████████████████████████████████████████████████████████████████████████████████████| 3/3 [00:03<00:00,  1.07s/it]\n",
      "100%|██████████████████████████████████████████████████████████████████████████████████| 3/3 [00:00<00:00, 1501.00it/s]\n"
     ]
    },
    {
     "name": "stdout",
     "output_type": "stream",
     "text": [
      "complete! the number of df is 3\n",
      "open!\n"
     ]
    },
    {
     "name": "stderr",
     "output_type": "stream",
     "text": [
      "1it [00:00, 1000.31it/s]\n"
     ]
    },
    {
     "name": "stdout",
     "output_type": "stream",
     "text": [
      "1\n"
     ]
    },
    {
     "name": "stderr",
     "output_type": "stream",
     "text": [
      "100%|████████████████████████████████████████████████████████████████████████████████████| 4/4 [00:01<00:00,  2.64it/s]\n",
      "100%|████████████████████████████████████████████████████████████████████████████████████| 5/5 [00:01<00:00,  3.67it/s]\n",
      "100%|████████████████████████████████████████████████████████████████████████████████████| 3/3 [00:02<00:00,  1.07it/s]\n",
      "100%|██████████████████████████████████████████████████████████████████████████████████| 3/3 [00:00<00:00, 3000.93it/s]\n"
     ]
    },
    {
     "name": "stdout",
     "output_type": "stream",
     "text": [
      "complete! the number of df is 3\n",
      "open!\n"
     ]
    },
    {
     "name": "stderr",
     "output_type": "stream",
     "text": [
      "100%|██████████████████████████████████████████████████████████████████████████████████| 30/30 [00:00<00:00, 63.80it/s]\n"
     ]
    },
    {
     "name": "stdout",
     "output_type": "stream",
     "text": [
      "2\n"
     ]
    },
    {
     "ename": "KeyboardInterrupt",
     "evalue": "",
     "output_type": "error",
     "traceback": [
      "\u001b[1;31m---------------------------------------------------------------------------\u001b[0m",
      "\u001b[1;31mKeyboardInterrupt\u001b[0m                         Traceback (most recent call last)",
      "Input \u001b[1;32mIn [8]\u001b[0m, in \u001b[0;36m<cell line: 2>\u001b[1;34m()\u001b[0m\n\u001b[0;32m     10\u001b[0m \u001b[38;5;28mprint\u001b[39m(count)\n\u001b[0;32m     11\u001b[0m count \u001b[38;5;241m+\u001b[39m\u001b[38;5;241m=\u001b[39m \u001b[38;5;241m1\u001b[39m\n\u001b[1;32m---> 12\u001b[0m \u001b[43mtime\u001b[49m\u001b[38;5;241;43m.\u001b[39;49m\u001b[43msleep\u001b[49m\u001b[43m(\u001b[49m\u001b[38;5;241;43m30\u001b[39;49m\u001b[43m)\u001b[49m\n",
      "\u001b[1;31mKeyboardInterrupt\u001b[0m: "
     ]
    }
   ],
   "source": [
    "count = 0\n",
    "for i in range(200):\n",
    "    df = lg.get_rawData(tier)\n",
    "    all_df = lg.get_dataframe_from_game_data(df)\n",
    "    \n",
    "    mu.db_open_local()\n",
    "    mu.insert_into_match_data(all_df)\n",
    "    mu.db_close()\n",
    "    \n",
    "    print(count)\n",
    "    count += 1\n",
    "    time.sleep(30)"
   ]
  },
  {
   "cell_type": "code",
   "execution_count": null,
   "id": "74a09353",
   "metadata": {},
   "outputs": [],
   "source": []
  }
 ],
 "metadata": {
  "kernelspec": {
   "display_name": "Python 3 (ipykernel)",
   "language": "python",
   "name": "python3"
  },
  "language_info": {
   "codemirror_mode": {
    "name": "ipython",
    "version": 3
   },
   "file_extension": ".py",
   "mimetype": "text/x-python",
   "name": "python",
   "nbconvert_exporter": "python",
   "pygments_lexer": "ipython3",
   "version": "3.9.7"
  }
 },
 "nbformat": 4,
 "nbformat_minor": 5
}
